{
  "nbformat": 4,
  "nbformat_minor": 0,
  "metadata": {
    "colab": {
      "name": "Python_Refresher - 2.ipynb",
      "provenance": [],
      "collapsed_sections": []
    },
    "kernelspec": {
      "name": "python3",
      "display_name": "Python 3"
    },
    "language_info": {
      "name": "python"
    }
  },
  "cells": [
    {
      "cell_type": "markdown",
      "source": [
        "#Lecture Notes"
      ],
      "metadata": {
        "id": "k9-V_vgjuPvg"
      }
    },
    {
      "cell_type": "markdown",
      "source": [
        "###Lists"
      ],
      "metadata": {
        "id": "vjY-IlzOAn-c"
      }
    },
    {
      "cell_type": "markdown",
      "source": [
        "**List Assignment and Memory Allocation - Deep Copy and Shallow Copy**"
      ],
      "metadata": {
        "id": "gesnyNDA0Kgo"
      }
    },
    {
      "cell_type": "code",
      "source": [
        "a = [10, 20, 30]\n",
        "b = a              # Shallow Copy\n",
        "c = [10, 20, 30]   # Deep Copy\n",
        "d = list(a)        # Deep Copy\n",
        "e = a[:]           # Deep Copy"
      ],
      "metadata": {
        "id": "iBJzxkVw3Tqi"
      },
      "execution_count": null,
      "outputs": []
    },
    {
      "cell_type": "code",
      "source": [
        "print(a)\n",
        "print(b)\n",
        "print(c)\n",
        "print(d)\n",
        "print(e)"
      ],
      "metadata": {
        "colab": {
          "base_uri": "https://localhost:8080/"
        },
        "id": "ZvmthnuW3blX",
        "outputId": "a892ed71-69bb-44c5-a226-9cbc52d41d35"
      },
      "execution_count": null,
      "outputs": [
        {
          "output_type": "stream",
          "name": "stdout",
          "text": [
            "[10, 20, 30]\n",
            "[10, 20, 30]\n",
            "[10, 20, 30]\n",
            "[10, 20, 30]\n",
            "[10, 20, 30]\n"
          ]
        }
      ]
    },
    {
      "cell_type": "code",
      "source": [
        "print(a==b)\n",
        "print(a==c)\n",
        "print(a==d)\n",
        "print(a==e) #compares values of variables"
      ],
      "metadata": {
        "colab": {
          "base_uri": "https://localhost:8080/"
        },
        "id": "TaYPmmHS3fb4",
        "outputId": "2a42cb78-8951-4125-8227-91172e7e18a4"
      },
      "execution_count": null,
      "outputs": [
        {
          "output_type": "stream",
          "name": "stdout",
          "text": [
            "True\n",
            "True\n",
            "True\n",
            "True\n"
          ]
        }
      ]
    },
    {
      "cell_type": "code",
      "source": [
        "print(id(a))\n",
        "print(id(b))\n",
        "print(id(c))\n",
        "print(id(d))\n",
        "print(id(e))"
      ],
      "metadata": {
        "colab": {
          "base_uri": "https://localhost:8080/"
        },
        "id": "OBNnK92Q3ica",
        "outputId": "90a128e3-d876-41fb-9271-1785cb0083cb"
      },
      "execution_count": null,
      "outputs": [
        {
          "output_type": "stream",
          "name": "stdout",
          "text": [
            "139764219869056\n",
            "139764219869056\n",
            "139764219994752\n",
            "139764228697056\n",
            "139764219994672\n"
          ]
        }
      ]
    },
    {
      "cell_type": "code",
      "source": [
        "print(a is b)\n",
        "print(a is c)\n",
        "print(a is d)\n",
        "print(a is e) #compares memory address of variables"
      ],
      "metadata": {
        "colab": {
          "base_uri": "https://localhost:8080/"
        },
        "id": "TiEJHqhi3mOr",
        "outputId": "973f9570-0eac-4497-bc16-f245677ce199"
      },
      "execution_count": null,
      "outputs": [
        {
          "output_type": "stream",
          "name": "stdout",
          "text": [
            "True\n",
            "False\n",
            "False\n",
            "False\n"
          ]
        }
      ]
    },
    {
      "cell_type": "code",
      "source": [
        "a[0] = 11"
      ],
      "metadata": {
        "id": "Ez4Hx2Ks38WF"
      },
      "execution_count": null,
      "outputs": []
    },
    {
      "cell_type": "code",
      "source": [
        "#Only b changes on changing a[0]. c, d and e do not change\n",
        "print(a)\n",
        "print(b)\n",
        "print(c)\n",
        "print(d)\n",
        "print(e) "
      ],
      "metadata": {
        "colab": {
          "base_uri": "https://localhost:8080/"
        },
        "id": "_37ECfMP4CZy",
        "outputId": "d9494fa2-6a15-4638-a308-e5d501bf4197"
      },
      "execution_count": null,
      "outputs": [
        {
          "output_type": "stream",
          "name": "stdout",
          "text": [
            "[11, 20, 30]\n",
            "[11, 20, 30]\n",
            "[10, 20, 30]\n",
            "[10, 20, 30]\n",
            "[10, 20, 30]\n"
          ]
        }
      ]
    },
    {
      "cell_type": "code",
      "source": [
        "f = a.copy() # creates a deep copy\n",
        "print(a)\n",
        "print(f)"
      ],
      "metadata": {
        "colab": {
          "base_uri": "https://localhost:8080/"
        },
        "id": "ZBEJDWD54aqE",
        "outputId": "ab093744-30e6-4952-e903-d4eba82c0824"
      },
      "execution_count": null,
      "outputs": [
        {
          "output_type": "stream",
          "name": "stdout",
          "text": [
            "[11, 20, 30]\n",
            "[11, 20, 30]\n"
          ]
        }
      ]
    },
    {
      "cell_type": "code",
      "source": [
        "print(id(a))\n",
        "print(id(f))"
      ],
      "metadata": {
        "colab": {
          "base_uri": "https://localhost:8080/"
        },
        "id": "LMrYkHLG44J8",
        "outputId": "c8e4a9fd-16fc-4f8f-843a-ddd7d04a3f10"
      },
      "execution_count": null,
      "outputs": [
        {
          "output_type": "stream",
          "name": "stdout",
          "text": [
            "139764219869056\n",
            "139764220006064\n"
          ]
        }
      ]
    },
    {
      "cell_type": "markdown",
      "source": [
        "**filter condition in list comprehension**"
      ],
      "metadata": {
        "id": "yrN-bwL46c_F"
      }
    },
    {
      "cell_type": "code",
      "source": [
        "list1 = [90, 91, 92, 93, 94, 95]\n",
        "result = [x for x in list1 if x > 91]\n",
        "result"
      ],
      "metadata": {
        "colab": {
          "base_uri": "https://localhost:8080/"
        },
        "id": "_k9wU8wP6gZV",
        "outputId": "3aaee3a9-0833-4db0-bd0a-78df16bab64a"
      },
      "execution_count": null,
      "outputs": [
        {
          "output_type": "execute_result",
          "data": {
            "text/plain": [
              "[92, 93, 94, 95]"
            ]
          },
          "metadata": {},
          "execution_count": 10
        }
      ]
    },
    {
      "cell_type": "markdown",
      "source": [
        "**appending data in a list**"
      ],
      "metadata": {
        "id": "MupgACzW6ycA"
      }
    },
    {
      "cell_type": "code",
      "source": [
        "result.append(96)\n",
        "print(result)"
      ],
      "metadata": {
        "colab": {
          "base_uri": "https://localhost:8080/"
        },
        "id": "PXw7HECP63BS",
        "outputId": "61358362-aed3-4ab6-e47e-8485a914fd78"
      },
      "execution_count": null,
      "outputs": [
        {
          "output_type": "stream",
          "name": "stdout",
          "text": [
            "[92, 93, 94, 95, 96]\n"
          ]
        }
      ]
    },
    {
      "cell_type": "markdown",
      "source": [
        "**inserting data in a list at a specified position**"
      ],
      "metadata": {
        "id": "upidiPEF7Gka"
      }
    },
    {
      "cell_type": "code",
      "source": [
        "result.insert(3, 98)\n",
        "result"
      ],
      "metadata": {
        "colab": {
          "base_uri": "https://localhost:8080/"
        },
        "id": "S-vWMKuM7M2u",
        "outputId": "5021a1e1-0fee-4a29-a96c-46c5bb631f3d"
      },
      "execution_count": null,
      "outputs": [
        {
          "output_type": "execute_result",
          "data": {
            "text/plain": [
              "[92, 93, 94, 98, 95, 96]"
            ]
          },
          "metadata": {},
          "execution_count": 12
        }
      ]
    },
    {
      "cell_type": "markdown",
      "source": [
        "**extending an exisiting list**"
      ],
      "metadata": {
        "id": "A3bkJK6j8g7B"
      }
    },
    {
      "cell_type": "code",
      "source": [
        "add_result = [96, 97, 98, 99]\n",
        "result.extend(add_result)\n",
        "result"
      ],
      "metadata": {
        "colab": {
          "base_uri": "https://localhost:8080/"
        },
        "id": "Msp3Nrl48fcs",
        "outputId": "132c09ac-0d57-4df4-f167-a77cdfcf0bd7"
      },
      "execution_count": null,
      "outputs": [
        {
          "output_type": "execute_result",
          "data": {
            "text/plain": [
              "[92, 93, 94, 98, 95, 96, 96, 97, 98, 99]"
            ]
          },
          "metadata": {},
          "execution_count": 13
        }
      ]
    },
    {
      "cell_type": "markdown",
      "source": [
        "**removing elements from a list**\n",
        "\n",
        "list_name.pop(index)\n",
        "list_name.pop(element/value)"
      ],
      "metadata": {
        "id": "Uxq8brPf9ws3"
      }
    },
    {
      "cell_type": "code",
      "source": [
        "result.pop() #always and always removes the last element, unless index is specified\n",
        "result"
      ],
      "metadata": {
        "colab": {
          "base_uri": "https://localhost:8080/"
        },
        "id": "Zqq7ReTr9znH",
        "outputId": "ff3e00d2-39b8-4df0-8f0e-2323107e8637"
      },
      "execution_count": null,
      "outputs": [
        {
          "output_type": "execute_result",
          "data": {
            "text/plain": [
              "[92, 93, 94, 98, 95, 96, 96, 97, 98]"
            ]
          },
          "metadata": {},
          "execution_count": 14
        }
      ]
    },
    {
      "cell_type": "code",
      "source": [
        "result.pop(1) # will remove the element at index 1\n",
        "result"
      ],
      "metadata": {
        "colab": {
          "base_uri": "https://localhost:8080/"
        },
        "id": "zoXFroL4-k__",
        "outputId": "241a80f5-0e3a-4c5e-badd-125742024eaf"
      },
      "execution_count": null,
      "outputs": [
        {
          "output_type": "execute_result",
          "data": {
            "text/plain": [
              "[92, 94, 98, 95, 96, 97, 98]"
            ]
          },
          "metadata": {},
          "execution_count": 16
        }
      ]
    },
    {
      "cell_type": "code",
      "source": [
        "result.remove(96) # will remove the first occurence of 96 from result list\n",
        "result"
      ],
      "metadata": {
        "colab": {
          "base_uri": "https://localhost:8080/"
        },
        "id": "JwRrNsSk-R_2",
        "outputId": "7f87cb49-c229-4540-9998-ee51427977bc"
      },
      "execution_count": null,
      "outputs": [
        {
          "output_type": "execute_result",
          "data": {
            "text/plain": [
              "[92, 93, 94, 98, 95, 96, 97, 98]"
            ]
          },
          "metadata": {},
          "execution_count": 15
        }
      ]
    },
    {
      "cell_type": "code",
      "source": [
        "del result[0] #will delete the value at 0th index, delete is a keyword and not a method\n",
        "result"
      ],
      "metadata": {
        "colab": {
          "base_uri": "https://localhost:8080/"
        },
        "id": "y5AXJYjG_Xlm",
        "outputId": "6bfa909b-753e-4aa1-b069-a8d36df9ccbb"
      },
      "execution_count": null,
      "outputs": [
        {
          "output_type": "execute_result",
          "data": {
            "text/plain": [
              "[94, 98, 95, 96, 97, 98]"
            ]
          },
          "metadata": {},
          "execution_count": 17
        }
      ]
    },
    {
      "cell_type": "code",
      "source": [
        "del result[:3] #deletes first 3 values\n",
        "result"
      ],
      "metadata": {
        "colab": {
          "base_uri": "https://localhost:8080/"
        },
        "id": "VC8h9o5-_ula",
        "outputId": "7ca098f9-421f-4c22-8df2-8bf1fc3be285"
      },
      "execution_count": null,
      "outputs": [
        {
          "output_type": "execute_result",
          "data": {
            "text/plain": [
              "[96, 97, 98]"
            ]
          },
          "metadata": {},
          "execution_count": 18
        }
      ]
    },
    {
      "cell_type": "code",
      "source": [
        "del result[:] #deletes entire list\n",
        "result"
      ],
      "metadata": {
        "colab": {
          "base_uri": "https://localhost:8080/"
        },
        "id": "K3uI0hif_7Go",
        "outputId": "6a0ea3a6-57e6-4aa8-9bb4-6a2fafc7340f"
      },
      "execution_count": null,
      "outputs": [
        {
          "output_type": "execute_result",
          "data": {
            "text/plain": [
              "[]"
            ]
          },
          "metadata": {},
          "execution_count": 19
        }
      ]
    },
    {
      "cell_type": "markdown",
      "source": [
        "###Strings"
      ],
      "metadata": {
        "id": "acKCdr5dAvg1"
      }
    },
    {
      "cell_type": "code",
      "source": [
        "s = 'We are the Champions of the World'\n",
        "s"
      ],
      "metadata": {
        "colab": {
          "base_uri": "https://localhost:8080/",
          "height": 35
        },
        "id": "0T9UtEe3BdGa",
        "outputId": "9c701073-c608-4bc5-adae-f12af2be7d53"
      },
      "execution_count": null,
      "outputs": [
        {
          "output_type": "execute_result",
          "data": {
            "text/plain": [
              "'We are the Champions of the World'"
            ],
            "application/vnd.google.colaboratory.intrinsic+json": {
              "type": "string"
            }
          },
          "metadata": {},
          "execution_count": 20
        }
      ]
    },
    {
      "cell_type": "code",
      "source": [
        "s[:3] # Slicing in strings"
      ],
      "metadata": {
        "colab": {
          "base_uri": "https://localhost:8080/",
          "height": 35
        },
        "id": "9b0V0ZoID8Fu",
        "outputId": "6d0ce93d-1336-42b0-dafb-043f9d5ba3f6"
      },
      "execution_count": null,
      "outputs": [
        {
          "output_type": "execute_result",
          "data": {
            "text/plain": [
              "'We '"
            ],
            "application/vnd.google.colaboratory.intrinsic+json": {
              "type": "string"
            }
          },
          "metadata": {},
          "execution_count": 21
        }
      ]
    },
    {
      "cell_type": "code",
      "source": [
        "s[::2] #all characters in steps of 2"
      ],
      "metadata": {
        "colab": {
          "base_uri": "https://localhost:8080/",
          "height": 35
        },
        "id": "79pso8S0EJK3",
        "outputId": "9e7d9154-e501-43cb-eeb8-4105d71f1bc8"
      },
      "execution_count": null,
      "outputs": [
        {
          "output_type": "execute_result",
          "data": {
            "text/plain": [
              "'W r h hmin fteWrd'"
            ],
            "application/vnd.google.colaboratory.intrinsic+json": {
              "type": "string"
            }
          },
          "metadata": {},
          "execution_count": 22
        }
      ]
    },
    {
      "cell_type": "code",
      "source": [
        "s[1:5:-1] #wrong indexing"
      ],
      "metadata": {
        "colab": {
          "base_uri": "https://localhost:8080/",
          "height": 35
        },
        "id": "7jWrYM2JEcYv",
        "outputId": "1594871b-79ed-4275-8e10-897898f741f6"
      },
      "execution_count": null,
      "outputs": [
        {
          "output_type": "execute_result",
          "data": {
            "text/plain": [
              "''"
            ],
            "application/vnd.google.colaboratory.intrinsic+json": {
              "type": "string"
            }
          },
          "metadata": {},
          "execution_count": 23
        }
      ]
    },
    {
      "cell_type": "code",
      "source": [
        "s[:] #accessing all elements of a list"
      ],
      "metadata": {
        "colab": {
          "base_uri": "https://localhost:8080/",
          "height": 35
        },
        "id": "wmZf9VzSFnzX",
        "outputId": "4b760e9f-db1e-4218-9d57-47c5dec75c95"
      },
      "execution_count": null,
      "outputs": [
        {
          "output_type": "execute_result",
          "data": {
            "text/plain": [
              "'We are the Champions of the World'"
            ],
            "application/vnd.google.colaboratory.intrinsic+json": {
              "type": "string"
            }
          },
          "metadata": {},
          "execution_count": 24
        }
      ]
    },
    {
      "cell_type": "code",
      "source": [
        "s[::-1] #reversing a string"
      ],
      "metadata": {
        "colab": {
          "base_uri": "https://localhost:8080/",
          "height": 35
        },
        "id": "yIaqqGmHFrgS",
        "outputId": "f2384f0d-273b-4618-c077-f06704dbe7da"
      },
      "execution_count": null,
      "outputs": [
        {
          "output_type": "execute_result",
          "data": {
            "text/plain": [
              "'dlroW eht fo snoipmahC eht era eW'"
            ],
            "application/vnd.google.colaboratory.intrinsic+json": {
              "type": "string"
            }
          },
          "metadata": {},
          "execution_count": 25
        }
      ]
    },
    {
      "cell_type": "markdown",
      "source": [
        "**Changing Character in a string**"
      ],
      "metadata": {
        "id": "2e3XSkAeYDCu"
      }
    },
    {
      "cell_type": "code",
      "source": [
        "s = 'Hellow World'\n",
        "s[0] = 'Y' #Strings are immutable"
      ],
      "metadata": {
        "colab": {
          "base_uri": "https://localhost:8080/",
          "height": 184
        },
        "id": "Y7lIpRU3YIUD",
        "outputId": "66bf9e04-efdd-46fb-8590-f182892f2e8c"
      },
      "execution_count": null,
      "outputs": [
        {
          "output_type": "error",
          "ename": "TypeError",
          "evalue": "ignored",
          "traceback": [
            "\u001b[0;31m---------------------------------------------------------------------------\u001b[0m",
            "\u001b[0;31mTypeError\u001b[0m                                 Traceback (most recent call last)",
            "\u001b[0;32m<ipython-input-29-01e34f1ee61e>\u001b[0m in \u001b[0;36m<module>\u001b[0;34m()\u001b[0m\n\u001b[1;32m      1\u001b[0m \u001b[0ms\u001b[0m \u001b[0;34m=\u001b[0m \u001b[0;34m'Hellow World'\u001b[0m\u001b[0;34m\u001b[0m\u001b[0;34m\u001b[0m\u001b[0m\n\u001b[0;32m----> 2\u001b[0;31m \u001b[0ms\u001b[0m\u001b[0;34m[\u001b[0m\u001b[0;36m0\u001b[0m\u001b[0;34m]\u001b[0m \u001b[0;34m=\u001b[0m \u001b[0;34m'Y'\u001b[0m \u001b[0;31m#Strings are immutable\u001b[0m\u001b[0;34m\u001b[0m\u001b[0;34m\u001b[0m\u001b[0m\n\u001b[0m",
            "\u001b[0;31mTypeError\u001b[0m: 'str' object does not support item assignment"
          ]
        }
      ]
    },
    {
      "cell_type": "code",
      "source": [
        "id(s)"
      ],
      "metadata": {
        "colab": {
          "base_uri": "https://localhost:8080/"
        },
        "id": "wQwQxC9ZYgZV",
        "outputId": "a1b6ba6f-a71d-4a86-bffd-dee50904da51"
      },
      "execution_count": null,
      "outputs": [
        {
          "output_type": "execute_result",
          "data": {
            "text/plain": [
              "139764033302448"
            ]
          },
          "metadata": {},
          "execution_count": 30
        }
      ]
    },
    {
      "cell_type": "code",
      "source": [
        "s.replace('H','Y')"
      ],
      "metadata": {
        "colab": {
          "base_uri": "https://localhost:8080/",
          "height": 35
        },
        "id": "62QSOtlRYWo5",
        "outputId": "07ceaec3-cadb-4846-9a4a-69bd70633e27"
      },
      "execution_count": null,
      "outputs": [
        {
          "output_type": "execute_result",
          "data": {
            "text/plain": [
              "'Yellow World'"
            ],
            "application/vnd.google.colaboratory.intrinsic+json": {
              "type": "string"
            }
          },
          "metadata": {},
          "execution_count": 31
        }
      ]
    },
    {
      "cell_type": "code",
      "source": [
        "id(s) # Replacing a character does not change the string location in memory because it is temporary change"
      ],
      "metadata": {
        "colab": {
          "base_uri": "https://localhost:8080/"
        },
        "id": "3-ckFCA1YbI6",
        "outputId": "7d694d2e-b8ac-4718-8ab6-35718f278d0c"
      },
      "execution_count": null,
      "outputs": [
        {
          "output_type": "execute_result",
          "data": {
            "text/plain": [
              "139764033302448"
            ]
          },
          "metadata": {},
          "execution_count": 32
        }
      ]
    },
    {
      "cell_type": "code",
      "source": [
        "id(s)\n",
        "id(s.replace('H','Y'))"
      ],
      "metadata": {
        "colab": {
          "base_uri": "https://localhost:8080/"
        },
        "id": "8zMHrCKSY628",
        "outputId": "ac39c7d1-77f1-4185-e4d3-0f474bf03f21"
      },
      "execution_count": null,
      "outputs": [
        {
          "output_type": "execute_result",
          "data": {
            "text/plain": [
              "139764032244976"
            ]
          },
          "metadata": {},
          "execution_count": 33
        }
      ]
    },
    {
      "cell_type": "code",
      "source": [
        "y = s\n",
        "print(id(s))\n",
        "print(id(y))"
      ],
      "metadata": {
        "colab": {
          "base_uri": "https://localhost:8080/"
        },
        "id": "9c0781XQZNwu",
        "outputId": "37e1e802-a716-43a8-8ee3-ba8c56719781"
      },
      "execution_count": null,
      "outputs": [
        {
          "output_type": "stream",
          "name": "stdout",
          "text": [
            "139764033302448\n",
            "139764033302448\n"
          ]
        }
      ]
    },
    {
      "cell_type": "markdown",
      "source": [
        "**Memory Allocation in case of strings**"
      ],
      "metadata": {
        "id": "WvbaQPf6dFfQ"
      }
    },
    {
      "cell_type": "code",
      "source": [
        "a = 'We are the Champions of the World'     # Here a is a large string\n",
        "b = a\n",
        "c = str(a)\n",
        "d = a[:]\n",
        "e = 'We are the Champions of the World'\n",
        "f = 'We are the Champions' + ' ' +'of the World'"
      ],
      "metadata": {
        "id": "Epi-t04dZ-de"
      },
      "execution_count": null,
      "outputs": []
    },
    {
      "cell_type": "code",
      "source": [
        "print(a)\n",
        "print(b)\n",
        "print(c)\n",
        "print(d)\n",
        "print(e)\n",
        "print(f)"
      ],
      "metadata": {
        "colab": {
          "base_uri": "https://localhost:8080/"
        },
        "id": "Nr_zv1jyaLQw",
        "outputId": "89b8724d-bb3e-4557-c515-a7c6a0eeaa5a"
      },
      "execution_count": null,
      "outputs": [
        {
          "output_type": "stream",
          "name": "stdout",
          "text": [
            "We are the Champions of the World\n",
            "We are the Champions of the World\n",
            "We are the Champions of the World\n",
            "We are the Champions of the World\n",
            "We are the Champions of the World\n",
            "We are the Champions of the World\n"
          ]
        }
      ]
    },
    {
      "cell_type": "code",
      "source": [
        "print(a==b)\n",
        "print(a==c)\n",
        "print(a==d)\n",
        "print(a==e)\n",
        "print(a==f)"
      ],
      "metadata": {
        "colab": {
          "base_uri": "https://localhost:8080/"
        },
        "id": "Ccws3f7NaTIx",
        "outputId": "57a3b0a2-0fee-4004-8b14-6e51331893aa"
      },
      "execution_count": null,
      "outputs": [
        {
          "output_type": "stream",
          "name": "stdout",
          "text": [
            "True\n",
            "True\n",
            "True\n",
            "True\n",
            "True\n"
          ]
        }
      ]
    },
    {
      "cell_type": "code",
      "source": [
        "print(a is b)\n",
        "print(a is c)\n",
        "print(a is d)\n",
        "print(a is e)\n",
        "print(a is f)"
      ],
      "metadata": {
        "colab": {
          "base_uri": "https://localhost:8080/"
        },
        "id": "V-q68AzgaT3k",
        "outputId": "89553359-6175-4be7-d8fc-5d67f8cbdc61"
      },
      "execution_count": null,
      "outputs": [
        {
          "output_type": "stream",
          "name": "stdout",
          "text": [
            "True\n",
            "True\n",
            "True\n",
            "False\n",
            "False\n"
          ]
        }
      ]
    },
    {
      "cell_type": "code",
      "source": [
        "print(id(a))\n",
        "print(id(b))\n",
        "print(id(c))\n",
        "print(id(d))\n",
        "print(id(e)) # Ideally the memory location should be same for a and e, but in case of large strings sometimes the values dont match\n",
        "print(id(f)) # Ideally the memory location should be same for a and f, but in case of large strings sometimes the values dont match"
      ],
      "metadata": {
        "colab": {
          "base_uri": "https://localhost:8080/"
        },
        "id": "q3s9ArUHaZU7",
        "outputId": "91142936-a130-4394-91c1-b779bc768d24"
      },
      "execution_count": null,
      "outputs": [
        {
          "output_type": "stream",
          "name": "stdout",
          "text": [
            "139764032093424\n",
            "139764032093424\n",
            "139764032093424\n",
            "139764032093424\n",
            "139764032093040\n",
            "139764032094096\n"
          ]
        }
      ]
    },
    {
      "cell_type": "code",
      "source": [
        "a = 'Hello'     # Here a is a large string\n",
        "b = a\n",
        "c = str(a)\n",
        "d = a[:]\n",
        "e = 'Hello'\n",
        "f = 'He'+''+'llo'"
      ],
      "metadata": {
        "id": "OFfI9oN1d30y"
      },
      "execution_count": null,
      "outputs": []
    },
    {
      "cell_type": "code",
      "source": [
        "print(a)\n",
        "print(b)\n",
        "print(c)\n",
        "print(d)\n",
        "print(e)\n",
        "print(f)"
      ],
      "metadata": {
        "colab": {
          "base_uri": "https://localhost:8080/"
        },
        "id": "fO0AAsnLeDrA",
        "outputId": "b137432a-c7e7-4364-efa3-460403ace4df"
      },
      "execution_count": null,
      "outputs": [
        {
          "output_type": "stream",
          "name": "stdout",
          "text": [
            "Hello\n",
            "Hello\n",
            "Hello\n",
            "Hello\n",
            "Hello\n",
            "Hello\n"
          ]
        }
      ]
    },
    {
      "cell_type": "code",
      "source": [
        "print(a==b)\n",
        "print(a==c)\n",
        "print(a==d)\n",
        "print(a==e)\n",
        "print(a==f)"
      ],
      "metadata": {
        "colab": {
          "base_uri": "https://localhost:8080/"
        },
        "id": "TE4_ArCeeD1Q",
        "outputId": "a517271d-c792-4b69-9bc9-f2b6aac1704c"
      },
      "execution_count": null,
      "outputs": [
        {
          "output_type": "stream",
          "name": "stdout",
          "text": [
            "True\n",
            "True\n",
            "True\n",
            "True\n",
            "True\n"
          ]
        }
      ]
    },
    {
      "cell_type": "code",
      "source": [
        "print(a is b)\n",
        "print(a is c)\n",
        "print(a is d)\n",
        "print(a is e)\n",
        "print(a is f)"
      ],
      "metadata": {
        "colab": {
          "base_uri": "https://localhost:8080/"
        },
        "id": "gOuJpFAeeD_6",
        "outputId": "68910834-e518-4035-bc37-47387fa65d24"
      },
      "execution_count": null,
      "outputs": [
        {
          "output_type": "stream",
          "name": "stdout",
          "text": [
            "True\n",
            "True\n",
            "True\n",
            "True\n",
            "True\n"
          ]
        }
      ]
    },
    {
      "cell_type": "code",
      "source": [
        "print(id(a))\n",
        "print(id(b))\n",
        "print(id(c))\n",
        "print(id(d))\n",
        "print(id(e))\n",
        "print(id(f))"
      ],
      "metadata": {
        "colab": {
          "base_uri": "https://localhost:8080/"
        },
        "id": "dQEBqGFxeEOE",
        "outputId": "0ee00d29-05a5-4a69-9341-6fb49efc768e"
      },
      "execution_count": null,
      "outputs": [
        {
          "output_type": "stream",
          "name": "stdout",
          "text": [
            "139764166374064\n",
            "139764166374064\n",
            "139764166374064\n",
            "139764166374064\n",
            "139764166374064\n",
            "139764166374064\n"
          ]
        }
      ]
    },
    {
      "cell_type": "markdown",
      "source": [
        "**Index Position in Python**"
      ],
      "metadata": {
        "id": "5Xb12Vpmjlax"
      }
    },
    {
      "cell_type": "code",
      "source": [
        "s = 'Hello World'\n",
        "s.index('o') # Always returns the 1st ocurrence of 'o' in s"
      ],
      "metadata": {
        "colab": {
          "base_uri": "https://localhost:8080/"
        },
        "id": "OBR1ovlljplf",
        "outputId": "5bb215b5-e620-49a8-e7e0-2a78d2b9d368"
      },
      "execution_count": null,
      "outputs": [
        {
          "output_type": "execute_result",
          "data": {
            "text/plain": [
              "4"
            ]
          },
          "metadata": {},
          "execution_count": 58
        }
      ]
    },
    {
      "cell_type": "code",
      "source": [
        "s.index('l',5) #returns 1st occurence of 'l' starting index 5"
      ],
      "metadata": {
        "colab": {
          "base_uri": "https://localhost:8080/"
        },
        "id": "TQE76OnkkC5q",
        "outputId": "21255102-250b-47c1-8211-557113652158"
      },
      "execution_count": null,
      "outputs": [
        {
          "output_type": "execute_result",
          "data": {
            "text/plain": [
              "9"
            ]
          },
          "metadata": {},
          "execution_count": 59
        }
      ]
    },
    {
      "cell_type": "code",
      "source": [
        "s.index('L',5) #It will throw an error if substring is not found"
      ],
      "metadata": {
        "colab": {
          "base_uri": "https://localhost:8080/",
          "height": 166
        },
        "id": "mJnWTWu5kuem",
        "outputId": "9d54a075-8c6c-4fd8-c1ca-91cf53094497"
      },
      "execution_count": null,
      "outputs": [
        {
          "output_type": "error",
          "ename": "ValueError",
          "evalue": "ignored",
          "traceback": [
            "\u001b[0;31m---------------------------------------------------------------------------\u001b[0m",
            "\u001b[0;31mValueError\u001b[0m                                Traceback (most recent call last)",
            "\u001b[0;32m<ipython-input-60-2e1aa121a774>\u001b[0m in \u001b[0;36m<module>\u001b[0;34m()\u001b[0m\n\u001b[0;32m----> 1\u001b[0;31m \u001b[0ms\u001b[0m\u001b[0;34m.\u001b[0m\u001b[0mindex\u001b[0m\u001b[0;34m(\u001b[0m\u001b[0;34m'L'\u001b[0m\u001b[0;34m,\u001b[0m\u001b[0;36m5\u001b[0m\u001b[0;34m)\u001b[0m \u001b[0;31m#find location of 'L' in s\u001b[0m\u001b[0;34m\u001b[0m\u001b[0;34m\u001b[0m\u001b[0m\n\u001b[0m",
            "\u001b[0;31mValueError\u001b[0m: substring not found"
          ]
        }
      ]
    },
    {
      "cell_type": "markdown",
      "source": [
        "**Built-In methods in Strings**"
      ],
      "metadata": {
        "id": "ZU4qpFWmoB0c"
      }
    },
    {
      "cell_type": "code",
      "source": [
        "s.lower()"
      ],
      "metadata": {
        "colab": {
          "base_uri": "https://localhost:8080/",
          "height": 35
        },
        "id": "k9NqczSVoG1n",
        "outputId": "1252a261-632d-4db2-852c-2a97a6dd7b95"
      },
      "execution_count": null,
      "outputs": [
        {
          "output_type": "execute_result",
          "data": {
            "text/plain": [
              "'hello world'"
            ],
            "application/vnd.google.colaboratory.intrinsic+json": {
              "type": "string"
            }
          },
          "metadata": {},
          "execution_count": 61
        }
      ]
    },
    {
      "cell_type": "code",
      "source": [
        "s.upper()"
      ],
      "metadata": {
        "colab": {
          "base_uri": "https://localhost:8080/",
          "height": 35
        },
        "id": "HMbyMzscoJ3B",
        "outputId": "256ddac0-3a67-4828-f66a-4958aa61304d"
      },
      "execution_count": null,
      "outputs": [
        {
          "output_type": "execute_result",
          "data": {
            "text/plain": [
              "'HELLO WORLD'"
            ],
            "application/vnd.google.colaboratory.intrinsic+json": {
              "type": "string"
            }
          },
          "metadata": {},
          "execution_count": 62
        }
      ]
    },
    {
      "cell_type": "code",
      "source": [
        "s.title()"
      ],
      "metadata": {
        "colab": {
          "base_uri": "https://localhost:8080/",
          "height": 35
        },
        "id": "T8IDWYdboLmC",
        "outputId": "e55caa51-1e79-4fda-dc0f-132e9b6ba057"
      },
      "execution_count": null,
      "outputs": [
        {
          "output_type": "execute_result",
          "data": {
            "text/plain": [
              "'Hello World'"
            ],
            "application/vnd.google.colaboratory.intrinsic+json": {
              "type": "string"
            }
          },
          "metadata": {},
          "execution_count": 63
        }
      ]
    },
    {
      "cell_type": "code",
      "source": [
        "s.capitalize()"
      ],
      "metadata": {
        "colab": {
          "base_uri": "https://localhost:8080/",
          "height": 35
        },
        "id": "0lslcfrcoNFB",
        "outputId": "15501de0-6f3d-4e1e-9e14-e5cd4ae3a7a7"
      },
      "execution_count": null,
      "outputs": [
        {
          "output_type": "execute_result",
          "data": {
            "text/plain": [
              "'Hello world'"
            ],
            "application/vnd.google.colaboratory.intrinsic+json": {
              "type": "string"
            }
          },
          "metadata": {},
          "execution_count": 64
        }
      ]
    },
    {
      "cell_type": "code",
      "source": [
        "s.startswith('Hello')"
      ],
      "metadata": {
        "colab": {
          "base_uri": "https://localhost:8080/"
        },
        "id": "AuZUoNGwoSaR",
        "outputId": "8003cb46-5a1a-4a8a-d46d-aa22a275dda2"
      },
      "execution_count": null,
      "outputs": [
        {
          "output_type": "execute_result",
          "data": {
            "text/plain": [
              "True"
            ]
          },
          "metadata": {},
          "execution_count": 65
        }
      ]
    },
    {
      "cell_type": "code",
      "source": [
        "s.endswith('World')"
      ],
      "metadata": {
        "colab": {
          "base_uri": "https://localhost:8080/"
        },
        "id": "deI2McqAoWcc",
        "outputId": "1d84fadd-90a6-4f11-c469-87b4fc2c2690"
      },
      "execution_count": null,
      "outputs": [
        {
          "output_type": "execute_result",
          "data": {
            "text/plain": [
              "True"
            ]
          },
          "metadata": {},
          "execution_count": 66
        }
      ]
    },
    {
      "cell_type": "code",
      "source": [
        "print(id(s))\n",
        "print(id(s.upper()))\n",
        "print(id(s.lower()))\n",
        "print(id(s.capitalize()))\n",
        "print(id(s.title()))"
      ],
      "metadata": {
        "colab": {
          "base_uri": "https://localhost:8080/"
        },
        "id": "9a6IdQaDpIDq",
        "outputId": "63f54e17-69bf-455f-a50f-4e5d37cc6bf9"
      },
      "execution_count": null,
      "outputs": [
        {
          "output_type": "stream",
          "name": "stdout",
          "text": [
            "139764032317680\n",
            "139764032315824\n",
            "139764032316016\n",
            "139764031588976\n",
            "139764031865328\n"
          ]
        }
      ]
    },
    {
      "cell_type": "markdown",
      "source": [
        "**Docstrings in Python**"
      ],
      "metadata": {
        "id": "ezGQxPz9pjID"
      }
    },
    {
      "cell_type": "code",
      "source": [
        "s1 = '''\n",
        "Hello Everyone!!!\n",
        "Welcome to Python Refresher Module\n",
        "Let's Start!!!'''\n",
        "print(s1)"
      ],
      "metadata": {
        "colab": {
          "base_uri": "https://localhost:8080/"
        },
        "id": "PS6UA79opme7",
        "outputId": "921155af-3acd-4812-bd77-e36d44016e33"
      },
      "execution_count": null,
      "outputs": [
        {
          "output_type": "stream",
          "name": "stdout",
          "text": [
            "\n",
            "Hello Everyone!!!\n",
            "Welcome to Python Refresher Module\n",
            "Let's Start!!!\n"
          ]
        }
      ]
    },
    {
      "cell_type": "markdown",
      "source": [
        "**Formatting in String**"
      ],
      "metadata": {
        "id": "jr0TJuoGE6Xw"
      }
    },
    {
      "cell_type": "code",
      "source": [
        "len = 5\n",
        "br = 6\n",
        "\n",
        "area = len * br\n",
        "\n",
        "print('The area of a rectangle with '+len+' and breadth '+br+'is '+area) #concatenation of str and is not possible"
      ],
      "metadata": {
        "colab": {
          "base_uri": "https://localhost:8080/",
          "height": 201
        },
        "id": "ePznKSBXE5pI",
        "outputId": "b2ceb2f8-b76b-4454-f907-f3e6b16c6189"
      },
      "execution_count": null,
      "outputs": [
        {
          "output_type": "error",
          "ename": "TypeError",
          "evalue": "ignored",
          "traceback": [
            "\u001b[0;31m---------------------------------------------------------------------------\u001b[0m",
            "\u001b[0;31mTypeError\u001b[0m                                 Traceback (most recent call last)",
            "\u001b[0;32m<ipython-input-1-c4a3f0fb46b7>\u001b[0m in \u001b[0;36m<module>\u001b[0;34m()\u001b[0m\n\u001b[1;32m      4\u001b[0m \u001b[0marea\u001b[0m \u001b[0;34m=\u001b[0m \u001b[0mlen\u001b[0m \u001b[0;34m*\u001b[0m \u001b[0mbr\u001b[0m\u001b[0;34m\u001b[0m\u001b[0;34m\u001b[0m\u001b[0m\n\u001b[1;32m      5\u001b[0m \u001b[0;34m\u001b[0m\u001b[0m\n\u001b[0;32m----> 6\u001b[0;31m \u001b[0mprint\u001b[0m\u001b[0;34m(\u001b[0m\u001b[0;34m'The area of a rectangle with '\u001b[0m\u001b[0;34m+\u001b[0m\u001b[0mlen\u001b[0m\u001b[0;34m+\u001b[0m\u001b[0;34m' and breadth '\u001b[0m\u001b[0;34m+\u001b[0m\u001b[0mbr\u001b[0m\u001b[0;34m+\u001b[0m\u001b[0;34m'is '\u001b[0m\u001b[0;34m+\u001b[0m\u001b[0marea\u001b[0m\u001b[0;34m)\u001b[0m\u001b[0;34m\u001b[0m\u001b[0;34m\u001b[0m\u001b[0m\n\u001b[0m",
            "\u001b[0;31mTypeError\u001b[0m: can only concatenate str (not \"int\") to str"
          ]
        }
      ]
    },
    {
      "cell_type": "code",
      "source": [
        "len = 5\n",
        "br = 6\n",
        "\n",
        "area = len * br\n",
        "\n",
        "print('The area of a rectangle with '+str(len)+' and breadth '+str(br)+' is '+str(area))"
      ],
      "metadata": {
        "colab": {
          "base_uri": "https://localhost:8080/"
        },
        "id": "AjV7HMhnFdZX",
        "outputId": "42ae9be4-bd8a-46b0-8052-c8240fb3fc3a"
      },
      "execution_count": null,
      "outputs": [
        {
          "output_type": "stream",
          "name": "stdout",
          "text": [
            "The area of a rectangle with 5 and breadth 6 is 30\n"
          ]
        }
      ]
    },
    {
      "cell_type": "markdown",
      "source": [
        "**f-strings**"
      ],
      "metadata": {
        "id": "Uothn_DzFp3U"
      }
    },
    {
      "cell_type": "code",
      "source": [
        "print(f'The area of the rectangle with length: {len} and breadth: {br} is {area}')"
      ],
      "metadata": {
        "colab": {
          "base_uri": "https://localhost:8080/"
        },
        "id": "EO8zMtabFxPR",
        "outputId": "1655ceeb-0df2-4382-8281-7d7fea0c1792"
      },
      "execution_count": null,
      "outputs": [
        {
          "output_type": "stream",
          "name": "stdout",
          "text": [
            "The area of the rectangle with length: 5 and breadth: 6 is 30\n"
          ]
        }
      ]
    },
    {
      "cell_type": "code",
      "source": [
        "print('The area of the rectangle with length: {} and breadth: {} is {}'.format(len, br, area))"
      ],
      "metadata": {
        "colab": {
          "base_uri": "https://localhost:8080/"
        },
        "id": "UKh9km24GoLW",
        "outputId": "2a7ab8e2-887f-4d3a-b928-69a80b04740e"
      },
      "execution_count": null,
      "outputs": [
        {
          "output_type": "stream",
          "name": "stdout",
          "text": [
            "The area of the rectangle with length: 5 and breadth: 6 is 30\n"
          ]
        }
      ]
    },
    {
      "cell_type": "code",
      "source": [
        "# we can specify position of variables in case of .format()\n",
        "\n",
        "print('The area of the rectangle with length: {0} and breadth: {1} is {2}'.format(len, br, area))\n",
        "print('The area of the rectangle with length: {1} and breadth: {0} is {2}'.format(len, br, area))"
      ],
      "metadata": {
        "colab": {
          "base_uri": "https://localhost:8080/"
        },
        "id": "zNjlnXi-GyXF",
        "outputId": "4738cd1e-6f31-48ee-e4cf-1b0ee88558f3"
      },
      "execution_count": null,
      "outputs": [
        {
          "output_type": "stream",
          "name": "stdout",
          "text": [
            "The area of the rectangle with length: 5 and breadth: 6 is 30\n",
            "The area of the rectangle with length: 6 and breadth: 5 is 30\n"
          ]
        }
      ]
    },
    {
      "cell_type": "markdown",
      "source": [
        "###Tuples"
      ],
      "metadata": {
        "id": "3fNHrQ-jIBss"
      }
    },
    {
      "cell_type": "code",
      "source": [
        "tup = (1,2,3,4)\n",
        "type(tup)"
      ],
      "metadata": {
        "colab": {
          "base_uri": "https://localhost:8080/"
        },
        "id": "qC8_NExGIDrs",
        "outputId": "190e963f-4579-4aae-fd37-785bd4bd3ad7"
      },
      "execution_count": null,
      "outputs": [
        {
          "output_type": "execute_result",
          "data": {
            "text/plain": [
              "tuple"
            ]
          },
          "metadata": {},
          "execution_count": 10
        }
      ]
    },
    {
      "cell_type": "code",
      "source": [
        "tup1 = (1)\n",
        "type(tup1) # a single value in round enclosed brackets is an integer."
      ],
      "metadata": {
        "colab": {
          "base_uri": "https://localhost:8080/"
        },
        "id": "plUQ0YUjIOry",
        "outputId": "39565276-b167-4144-aa41-11e8ff12d0ce"
      },
      "execution_count": null,
      "outputs": [
        {
          "output_type": "execute_result",
          "data": {
            "text/plain": [
              "int"
            ]
          },
          "metadata": {},
          "execution_count": 9
        }
      ]
    },
    {
      "cell_type": "code",
      "source": [
        "tup2 = (1,)\n",
        "type(tup2) # a single value in round enclosed bracket separated by comma is a tuple."
      ],
      "metadata": {
        "colab": {
          "base_uri": "https://localhost:8080/"
        },
        "id": "iAaGCXStIcIX",
        "outputId": "ba34cab6-de4d-4fe8-fea0-7197cbddb091"
      },
      "execution_count": null,
      "outputs": [
        {
          "output_type": "execute_result",
          "data": {
            "text/plain": [
              "tuple"
            ]
          },
          "metadata": {},
          "execution_count": 11
        }
      ]
    },
    {
      "cell_type": "code",
      "source": [
        "# comma separate values without any parenthesis/brackets is treated as tuple\n",
        "\n",
        "def find_num():\n",
        "  return 10, 20, 30\n",
        "\n",
        "print(find_num())\n",
        "type(find_num())"
      ],
      "metadata": {
        "colab": {
          "base_uri": "https://localhost:8080/"
        },
        "id": "DaROr_5xMvoK",
        "outputId": "b3dd67c8-6dca-47ac-a4bd-a990d226c616"
      },
      "execution_count": null,
      "outputs": [
        {
          "output_type": "stream",
          "name": "stdout",
          "text": [
            "(10, 20, 30)\n"
          ]
        },
        {
          "output_type": "execute_result",
          "data": {
            "text/plain": [
              "tuple"
            ]
          },
          "metadata": {},
          "execution_count": 13
        }
      ]
    },
    {
      "cell_type": "markdown",
      "source": [
        "**Indexing in Tuple**"
      ],
      "metadata": {
        "id": "xp33VeHyPubG"
      }
    },
    {
      "cell_type": "code",
      "source": [
        "tup2[0]"
      ],
      "metadata": {
        "colab": {
          "base_uri": "https://localhost:8080/"
        },
        "id": "SYpyuiySPwfi",
        "outputId": "f36bebc6-19e7-48b3-b4e2-f12b5bcb8bc9"
      },
      "execution_count": null,
      "outputs": [
        {
          "output_type": "execute_result",
          "data": {
            "text/plain": [
              "1"
            ]
          },
          "metadata": {},
          "execution_count": 15
        }
      ]
    },
    {
      "cell_type": "code",
      "source": [
        "# assignment in tuples is not possible as tuples are immutable\n",
        "\n",
        "tup2[0] = 1"
      ],
      "metadata": {
        "colab": {
          "base_uri": "https://localhost:8080/",
          "height": 201
        },
        "id": "P8lpFU9BP5ZP",
        "outputId": "1e417b55-e3a4-438d-8e73-db26123adbec"
      },
      "execution_count": null,
      "outputs": [
        {
          "output_type": "error",
          "ename": "TypeError",
          "evalue": "ignored",
          "traceback": [
            "\u001b[0;31m---------------------------------------------------------------------------\u001b[0m",
            "\u001b[0;31mTypeError\u001b[0m                                 Traceback (most recent call last)",
            "\u001b[0;32m<ipython-input-16-1a8fa2dca96d>\u001b[0m in \u001b[0;36m<module>\u001b[0;34m()\u001b[0m\n\u001b[1;32m      1\u001b[0m \u001b[0;31m# assignment in tuples is not possible as tuples are immutable\u001b[0m\u001b[0;34m\u001b[0m\u001b[0;34m\u001b[0m\u001b[0;34m\u001b[0m\u001b[0m\n\u001b[1;32m      2\u001b[0m \u001b[0;34m\u001b[0m\u001b[0m\n\u001b[0;32m----> 3\u001b[0;31m \u001b[0mtup2\u001b[0m\u001b[0;34m[\u001b[0m\u001b[0;36m0\u001b[0m\u001b[0;34m]\u001b[0m \u001b[0;34m=\u001b[0m \u001b[0;36m1\u001b[0m\u001b[0;34m\u001b[0m\u001b[0;34m\u001b[0m\u001b[0m\n\u001b[0m",
            "\u001b[0;31mTypeError\u001b[0m: 'tuple' object does not support item assignment"
          ]
        }
      ]
    },
    {
      "cell_type": "markdown",
      "source": [
        "**Concatenation in case of tuples**"
      ],
      "metadata": {
        "id": "DeG0bYfnQsXI"
      }
    },
    {
      "cell_type": "code",
      "source": [
        "(1, 2) + (3, 4)"
      ],
      "metadata": {
        "colab": {
          "base_uri": "https://localhost:8080/"
        },
        "id": "UDUZWwG5Qvt4",
        "outputId": "ca307615-9c56-4a5f-cffd-5a5ae3ec8293"
      },
      "execution_count": null,
      "outputs": [
        {
          "output_type": "execute_result",
          "data": {
            "text/plain": [
              "(1, 2, 3, 4)"
            ]
          },
          "metadata": {},
          "execution_count": 17
        }
      ]
    },
    {
      "cell_type": "code",
      "source": [
        "(1, 2)*3"
      ],
      "metadata": {
        "colab": {
          "base_uri": "https://localhost:8080/"
        },
        "id": "lKy2qYb4Qz-5",
        "outputId": "d442641f-ac08-427b-9830-f17f658f56d0"
      },
      "execution_count": null,
      "outputs": [
        {
          "output_type": "execute_result",
          "data": {
            "text/plain": [
              "(1, 2, 1, 2, 1, 2)"
            ]
          },
          "metadata": {},
          "execution_count": 18
        }
      ]
    },
    {
      "cell_type": "markdown",
      "source": [
        "**converting list into tuple**"
      ],
      "metadata": {
        "id": "iH9LBUr0RAcb"
      }
    },
    {
      "cell_type": "code",
      "source": [
        "tuple([1,2,3])"
      ],
      "metadata": {
        "colab": {
          "base_uri": "https://localhost:8080/"
        },
        "id": "J6kItuZKRClP",
        "outputId": "60622a32-8f4f-4592-8804-df7ef49a2481"
      },
      "execution_count": null,
      "outputs": [
        {
          "output_type": "execute_result",
          "data": {
            "text/plain": [
              "(1, 2, 3)"
            ]
          },
          "metadata": {},
          "execution_count": 19
        }
      ]
    },
    {
      "cell_type": "markdown",
      "source": [
        "**Tuples vs Lists**"
      ],
      "metadata": {
        "id": "X3j7Mnz-RNsI"
      }
    },
    {
      "cell_type": "code",
      "source": [
        "# Memory Allocation\n",
        "\n",
        "import sys\n",
        "tup = (1,2,3,4)\n",
        "lst = [1,2,3,4]\n",
        "print(sys.getsizeof(tup))\n",
        "print(sys.getsizeof(lst))"
      ],
      "metadata": {
        "colab": {
          "base_uri": "https://localhost:8080/"
        },
        "id": "qfiWHCSKRM36",
        "outputId": "5f7039eb-8d78-45c8-aa63-afb862b8e8e0"
      },
      "execution_count": null,
      "outputs": [
        {
          "output_type": "stream",
          "name": "stdout",
          "text": [
            "88\n",
            "104\n"
          ]
        }
      ]
    },
    {
      "cell_type": "code",
      "source": [
        "# Execution Time\n",
        "\n",
        "from timeit import timeit\n",
        "\n",
        "times = 10000000\n",
        "t1 = timeit(\"list ([1,2,3])\", number = times)\n",
        "print('Time to copy a list {0} times is {1}'.format(times, t1))\n",
        "t2 = timeit(\"tuple ((1,2,3))\", number = times)\n",
        "print('Time to copy a tuple {0} times is {1}'.format(times, t2))"
      ],
      "metadata": {
        "colab": {
          "base_uri": "https://localhost:8080/"
        },
        "id": "XEnIDtP0SECN",
        "outputId": "2cd7240d-f728-477d-f21c-41e4112c9da1"
      },
      "execution_count": null,
      "outputs": [
        {
          "output_type": "stream",
          "name": "stdout",
          "text": [
            "Time to copy a list 10000000 times is 2.3007820490001905\n",
            "Time to copy a tuple 10000000 times is 0.9721254959995349\n"
          ]
        }
      ]
    },
    {
      "cell_type": "markdown",
      "source": [
        "**Packing and Unpacking in Tuples**"
      ],
      "metadata": {
        "id": "bFcJHfYvTxkm"
      }
    },
    {
      "cell_type": "code",
      "source": [
        "t1 = (100, 200, 300)\n",
        "type(t1)"
      ],
      "metadata": {
        "colab": {
          "base_uri": "https://localhost:8080/"
        },
        "id": "KKB7vIF3T0fE",
        "outputId": "25772bb4-13f4-4ca0-9c6c-d1ecdae2880a"
      },
      "execution_count": null,
      "outputs": [
        {
          "output_type": "execute_result",
          "data": {
            "text/plain": [
              "tuple"
            ]
          },
          "metadata": {},
          "execution_count": 23
        }
      ]
    },
    {
      "cell_type": "code",
      "source": [
        "t2 = t1\n",
        "type(t2)"
      ],
      "metadata": {
        "colab": {
          "base_uri": "https://localhost:8080/"
        },
        "id": "i472b2qST4Ie",
        "outputId": "13f8c13d-f780-49e5-9bc5-2c3375b186ce"
      },
      "execution_count": null,
      "outputs": [
        {
          "output_type": "execute_result",
          "data": {
            "text/plain": [
              "tuple"
            ]
          },
          "metadata": {},
          "execution_count": 24
        }
      ]
    },
    {
      "cell_type": "code",
      "source": [
        "a,b,c = t1 #Unpacking\n",
        "print(a)\n",
        "print(b)\n",
        "print(c)"
      ],
      "metadata": {
        "colab": {
          "base_uri": "https://localhost:8080/"
        },
        "id": "JQoDt7-RT7Ip",
        "outputId": "3dba71bf-ce13-4ab8-a45b-dd0a8bd60462"
      },
      "execution_count": null,
      "outputs": [
        {
          "output_type": "stream",
          "name": "stdout",
          "text": [
            "100\n",
            "200\n",
            "300\n"
          ]
        }
      ]
    },
    {
      "cell_type": "code",
      "source": [
        "def find_num():\n",
        "  return 10, 20, 30 #packing and returning a tuple\n",
        "\n",
        "print(find_num())"
      ],
      "metadata": {
        "colab": {
          "base_uri": "https://localhost:8080/"
        },
        "id": "jQKTUbT4USuz",
        "outputId": "04588352-a408-403c-ec21-ec3c2a9090bd"
      },
      "execution_count": null,
      "outputs": [
        {
          "output_type": "stream",
          "name": "stdout",
          "text": [
            "(10, 20, 30)\n"
          ]
        }
      ]
    },
    {
      "cell_type": "markdown",
      "source": [
        "#Post Lecture Notes"
      ],
      "metadata": {
        "id": "_37vP-QDukHk"
      }
    },
    {
      "cell_type": "markdown",
      "source": [
        "###Scope"
      ],
      "metadata": {
        "id": "IWcdkhP-unVY"
      }
    },
    {
      "cell_type": "markdown",
      "source": [
        "A scope (of a variable) tells the interpreter when a name (or variable) is accessible. In other words, the **scope defines when and where you can use your variables, functions, etc. When you try to use something that isn’t in your current scope, you will usually get a NameError**.\n",
        "\n",
        "Python has three different types of scopes:\n",
        "**Local scope**\n",
        "**Global scope**\n",
        "**Non-local scope** bold text (which was added in Python 3)\n",
        "Let’s learn how each of these scopes work."
      ],
      "metadata": {
        "id": "Xp4B3Eslu-KW"
      }
    },
    {
      "cell_type": "markdown",
      "source": [
        "**Local Scope**\n",
        "\n",
        "Local scope is the scope you will use the most in Python. All assignments are done in local scope by default. **When you create a variable in a code block, its “local” to that code block.** If you want something different, then you’ll need to set your variable to “global” or “nonlocal” (we will be looking at this later).\n",
        "\n",
        "Let’s create a simple example that demonstrates local scope assignment."
      ],
      "metadata": {
        "id": "jzn8EboXvbXM"
      }
    },
    {
      "cell_type": "code",
      "source": [
        "def my_func(a, b):\n",
        "    i = 2 # `i` will be locally accesible to function my_func\n",
        "\n",
        "x = 10\n",
        "my_func(1, 2)\n",
        "print(i) # lets try to access \"i\" out of its scope"
      ],
      "metadata": {
        "colab": {
          "base_uri": "https://localhost:8080/",
          "height": 201
        },
        "id": "gKYJGnHVvqQg",
        "outputId": "28b0c1ef-c61c-4135-a821-f23dafb73996"
      },
      "execution_count": null,
      "outputs": [
        {
          "output_type": "error",
          "ename": "NameError",
          "evalue": "ignored",
          "traceback": [
            "\u001b[0;31m---------------------------------------------------------------------------\u001b[0m",
            "\u001b[0;31mNameError\u001b[0m                                 Traceback (most recent call last)",
            "\u001b[0;32m<ipython-input-1-4382f850ecbf>\u001b[0m in \u001b[0;36m<module>\u001b[0;34m()\u001b[0m\n\u001b[1;32m      4\u001b[0m \u001b[0mx\u001b[0m \u001b[0;34m=\u001b[0m \u001b[0;36m10\u001b[0m\u001b[0;34m\u001b[0m\u001b[0;34m\u001b[0m\u001b[0m\n\u001b[1;32m      5\u001b[0m \u001b[0mmy_func\u001b[0m\u001b[0;34m(\u001b[0m\u001b[0;36m1\u001b[0m\u001b[0;34m,\u001b[0m \u001b[0;36m2\u001b[0m\u001b[0;34m)\u001b[0m\u001b[0;34m\u001b[0m\u001b[0;34m\u001b[0m\u001b[0m\n\u001b[0;32m----> 6\u001b[0;31m \u001b[0mprint\u001b[0m\u001b[0;34m(\u001b[0m\u001b[0mi\u001b[0m\u001b[0;34m)\u001b[0m \u001b[0;31m# lets try to access \"i\" out of its scope\u001b[0m\u001b[0;34m\u001b[0m\u001b[0;34m\u001b[0m\u001b[0m\n\u001b[0m",
            "\u001b[0;31mNameError\u001b[0m: name 'i' is not defined"
          ]
        }
      ]
    },
    {
      "cell_type": "markdown",
      "source": [
        "The variable, i, is only defined inside the function (local to function my_func. When we try to access i out of its local scope, we will get a NameError. **Whenever you define a variable within a function, its scope lies ONLY within the function.** It is accessible from the point at which it is defined until the end of the function and exists for as long as the function is executing (Source). Which means its value cannot be changed or even accessed from outside the function."
      ],
      "metadata": {
        "id": "MVQFR-smwBNC"
      }
    },
    {
      "cell_type": "markdown",
      "source": [
        "**Global Scope**\n",
        "\n",
        "This is perhaps the easiest scope to understand. **Whenever a variable is defined outside any function, it becomes a global variable, and its scope is anywhere within the program.** Which means it can be used by any function. Notice, we have declared another variable x in the program’s scope. Let’s try accessing x inside the function my_func. Ideally, it should be available inside the function too. Lets try."
      ],
      "metadata": {
        "id": "y2DGo86KwILk"
      }
    },
    {
      "cell_type": "code",
      "source": [
        "def my_func(a, b):\n",
        "    print(x)\n",
        "\n",
        "x = 10\n",
        "my_func(1, 2)"
      ],
      "metadata": {
        "colab": {
          "base_uri": "https://localhost:8080/"
        },
        "id": "8r1uk2NbwEgV",
        "outputId": "686abf8f-c50f-4099-e469-b7afbd3ed822"
      },
      "execution_count": null,
      "outputs": [
        {
          "output_type": "stream",
          "name": "stdout",
          "text": [
            "10\n"
          ]
        }
      ]
    },
    {
      "cell_type": "markdown",
      "source": [
        "**How does this work in background?**\n",
        "\n",
        "It would first try look for variable x in the function’s local scope. If not found, it will look in the outer scope (here program’s scope)\n",
        "\n",
        "Thus, print(x) prints 10 as x is “globally” available across the whole program."
      ],
      "metadata": {
        "id": "KjEOMFhKwoUL"
      }
    },
    {
      "cell_type": "markdown",
      "source": [
        "**What if we try to change its value “inside” the function? Will it make the changes to outside too?**"
      ],
      "metadata": {
        "id": "vL8A8ks0wtRu"
      }
    },
    {
      "cell_type": "code",
      "source": [
        "def my_func(a, b):\n",
        "    x = 5\n",
        "    print(x)\n",
        "\n",
        "x = 10\n",
        "my_func(1, 2)\n",
        "print(x)"
      ],
      "metadata": {
        "colab": {
          "base_uri": "https://localhost:8080/"
        },
        "id": "MgSXMIbawxCZ",
        "outputId": "72211c38-7e06-412c-bb7a-37365f13e647"
      },
      "execution_count": null,
      "outputs": [
        {
          "output_type": "stream",
          "name": "stdout",
          "text": [
            "5\n",
            "10\n"
          ]
        }
      ]
    },
    {
      "cell_type": "markdown",
      "source": [
        "**But why are changes not reflected outside? Aren’t we changing the global variable x?**\n",
        "\n",
        "NO, while executing x = 5, the interpreter sees that there is no variable x in its local scope, and creates one. **The x inside of my_fun has a local function scope and overrides the x variable outside of the function.** Thus, the print(x) statement inside the function prints 5, but changes are not reflected to the global variable x which has value 10."
      ],
      "metadata": {
        "id": "rciy26GIxFQ3"
      }
    },
    {
      "cell_type": "markdown",
      "source": [
        "**But what if I want to upddate the value x inside the function and make it visible outside too?**\n",
        "\n",
        "We need a way to tell Python to use the globally defined variable instead of locally creating one. For this, we simply type the keyword ‘global’, followed by the variable name. Let’s attempt to use global to fix our code."
      ],
      "metadata": {
        "id": "vBJqvhtbxMru"
      }
    },
    {
      "cell_type": "code",
      "source": [
        "def my_func(a, b):\n",
        "    global x\n",
        "    x = 5\n",
        "    print(x)\n",
        "\n",
        "x = 10\n",
        "my_func(1, 2)\n",
        "print(x)"
      ],
      "metadata": {
        "colab": {
          "base_uri": "https://localhost:8080/"
        },
        "id": "djNIjAAwxTl5",
        "outputId": "bdc16dbe-7b29-47be-a1c7-08ac7ea3c358"
      },
      "execution_count": null,
      "outputs": [
        {
          "output_type": "stream",
          "name": "stdout",
          "text": [
            "5\n",
            "5\n"
          ]
        }
      ]
    },
    {
      "cell_type": "markdown",
      "source": [
        "**Will the changes be reflected in the outer function of a nested function?**\n",
        "\n",
        "Lets try to work on an interesting example of a nested function"
      ],
      "metadata": {
        "id": "AHgAPOgnx5IM"
      }
    },
    {
      "cell_type": "code",
      "source": [
        "def my_outer_func(a, b):\n",
        "    x = 5\n",
        "    print(x)\n",
        "    def my_inner_func():\n",
        "        x = 6\n",
        "    my_inner_func()\n",
        "    print(x)\n",
        "\n",
        "x = 10\n",
        "my_outer_func(1, 2)\n",
        "print(x)"
      ],
      "metadata": {
        "colab": {
          "base_uri": "https://localhost:8080/"
        },
        "id": "guGFghRSyAja",
        "outputId": "e1e9c14a-d35f-4e73-a388-e148585544b2"
      },
      "execution_count": null,
      "outputs": [
        {
          "output_type": "stream",
          "name": "stdout",
          "text": [
            "5\n",
            "5\n",
            "10\n"
          ]
        }
      ]
    },
    {
      "cell_type": "markdown",
      "source": [
        "No, changes x=6 made in the inner function are not reflected in the outer function"
      ],
      "metadata": {
        "id": "iM337nUEyHZ5"
      }
    },
    {
      "cell_type": "markdown",
      "source": [
        "**What if we want to changes made in inner function to reflect in the outer one?**\n",
        "\n",
        "Lets try using global"
      ],
      "metadata": {
        "id": "KEEnQEhLyI3F"
      }
    },
    {
      "cell_type": "code",
      "source": [
        "def my_outer_func(a, b):\n",
        "    x = 5\n",
        "    print(x)\n",
        "    def my_inner_func():\n",
        "        global x\n",
        "        x = 6\n",
        "    my_inner_func()\n",
        "    print(x)\n",
        "\n",
        "x = 10\n",
        "my_outer_func(1, 2)\n",
        "print(x)"
      ],
      "metadata": {
        "colab": {
          "base_uri": "https://localhost:8080/"
        },
        "id": "aCyDpn35yPjT",
        "outputId": "3ecf8e4c-eec4-4502-d36f-765290cb9af8"
      },
      "execution_count": null,
      "outputs": [
        {
          "output_type": "stream",
          "name": "stdout",
          "text": [
            "5\n",
            "5\n",
            "6\n"
          ]
        }
      ]
    },
    {
      "cell_type": "markdown",
      "source": [
        "Wait, this made changes to the “global” x. But didn’t make changes to the other x.\n",
        "\n",
        "This demands need for having a keyword through which can access the variables one scope up.\n",
        "\n",
        "This is where nonlocal keyword comes handy."
      ],
      "metadata": {
        "id": "Hg-OZcCnzzLc"
      }
    },
    {
      "cell_type": "markdown",
      "source": [
        "**Nonlocal scope**\n",
        "\n",
        "Python 3 added a new keyword called nonlocal. The nonlocal keyword adds a scope override to the inner scope."
      ],
      "metadata": {
        "id": "w3tyh433z1DR"
      }
    },
    {
      "cell_type": "code",
      "source": [
        "def my_outer_func(a, b):\n",
        "    x = 5\n",
        "    print(x)\n",
        "    def my_inner_func():\n",
        "        nonlocal x\n",
        "        x = 6\n",
        "    my_inner_func()\n",
        "    print(x)\n",
        "\n",
        "x = 10\n",
        "my_outer_func(1, 2)\n",
        "print(x)"
      ],
      "metadata": {
        "colab": {
          "base_uri": "https://localhost:8080/"
        },
        "id": "IleKz6ZAz7BD",
        "outputId": "85a4f43d-24b5-4d5d-b996-d6fe7d83316b"
      },
      "execution_count": null,
      "outputs": [
        {
          "output_type": "stream",
          "name": "stdout",
          "text": [
            "5\n",
            "6\n",
            "10\n"
          ]
        }
      ]
    },
    {
      "cell_type": "markdown",
      "source": [
        "### Positional and Keyword Arguments"
      ],
      "metadata": {
        "id": "QhpuQhbg0IQp"
      }
    },
    {
      "cell_type": "markdown",
      "source": [
        "Functions are building blocks in Python. They take zero or more arguments and return a value.\n",
        "\n",
        "**How can we create a function which can take variable number of arguments to functions?**\n",
        "\n",
        "**Remember the print() function we saw in the very first lecture? **"
      ],
      "metadata": {
        "id": "RGnaPVB-0KY3"
      }
    },
    {
      "cell_type": "code",
      "source": [
        "print(2)\n",
        "\n",
        "print(2, 3)\n",
        "\n",
        "print(2, 3, \"Hello\")"
      ],
      "metadata": {
        "colab": {
          "base_uri": "https://localhost:8080/"
        },
        "id": "wtqJbOUp09YQ",
        "outputId": "6ef5d9a9-a1d2-4d7f-f022-ac5017ddb643"
      },
      "execution_count": null,
      "outputs": [
        {
          "output_type": "stream",
          "name": "stdout",
          "text": [
            "2\n",
            "2 3\n",
            "2 3 Hello\n"
          ]
        }
      ]
    },
    {
      "cell_type": "markdown",
      "source": [
        "As you can see, this in-built print() allows us to pass multiple number of arguments to it. We did not need to specify how many arguments can print() function take. There can be situations where we might not know before-hand how many arguments we need to pass in our functions. Luckily, Python is pretty flexible in terms of how arguments are passed to a function. **We can pass a variable number of arguments to a function using special symbols.**\n",
        "\n",
        "But before we discuss how can we do it, lets first revise different kinds of arguments we can pass to a function"
      ],
      "metadata": {
        "id": "D_FM-aJz1Kdm"
      }
    },
    {
      "cell_type": "markdown",
      "source": [
        "There are 2 types of arguments we can pass to functions\n",
        "\n",
        "**Non-Keyword (Positional) Arguments**\n",
        "\n",
        "**Keyword Arguments**"
      ],
      "metadata": {
        "id": "Rg7-JpcK1R80"
      }
    },
    {
      "cell_type": "markdown",
      "source": [
        "**Now, What’s the difference between Positional Argument and Keyword Argument?**\n",
        "\n",
        "Positional arguments are declared by a name only. Keyword arguments are declared by a name and a default value. When a function is called, values for positional arguments must be given. Otherwise, we will get an error. If we do not specify the value for a keyword argument, it takes the default value."
      ],
      "metadata": {
        "id": "nNvVOoia1Y4e"
      }
    },
    {
      "cell_type": "code",
      "source": [
        "def addition(a, b=2): #a is positional, b is keyword argument\n",
        "   return a + b\n",
        "print(addition(1))"
      ],
      "metadata": {
        "colab": {
          "base_uri": "https://localhost:8080/"
        },
        "id": "fanCViDI1OA0",
        "outputId": "301494fb-71b2-492b-f752-7b77a84ba802"
      },
      "execution_count": null,
      "outputs": [
        {
          "output_type": "stream",
          "name": "stdout",
          "text": [
            "3\n"
          ]
        }
      ]
    },
    {
      "cell_type": "code",
      "source": [
        "def addition(a, b): #a and b are positional arguments\n",
        "   return a + b\n",
        "print(addition(1))"
      ],
      "metadata": {
        "colab": {
          "base_uri": "https://localhost:8080/",
          "height": 201
        },
        "id": "_b0UGdrS1rU8",
        "outputId": "cd14b9d8-83a1-47dc-e20f-31b4dad30261"
      },
      "execution_count": null,
      "outputs": [
        {
          "output_type": "error",
          "ename": "TypeError",
          "evalue": "ignored",
          "traceback": [
            "\u001b[0;31m---------------------------------------------------------------------------\u001b[0m",
            "\u001b[0;31mTypeError\u001b[0m                                 Traceback (most recent call last)",
            "\u001b[0;32m<ipython-input-10-fd0466385eed>\u001b[0m in \u001b[0;36m<module>\u001b[0;34m()\u001b[0m\n\u001b[1;32m      1\u001b[0m \u001b[0;32mdef\u001b[0m \u001b[0maddition\u001b[0m\u001b[0;34m(\u001b[0m\u001b[0ma\u001b[0m\u001b[0;34m,\u001b[0m \u001b[0mb\u001b[0m\u001b[0;34m)\u001b[0m\u001b[0;34m:\u001b[0m \u001b[0;31m#a and b are positional arguments\u001b[0m\u001b[0;34m\u001b[0m\u001b[0;34m\u001b[0m\u001b[0m\n\u001b[1;32m      2\u001b[0m    \u001b[0;32mreturn\u001b[0m \u001b[0ma\u001b[0m \u001b[0;34m+\u001b[0m \u001b[0mb\u001b[0m\u001b[0;34m\u001b[0m\u001b[0;34m\u001b[0m\u001b[0m\n\u001b[0;32m----> 3\u001b[0;31m \u001b[0mprint\u001b[0m\u001b[0;34m(\u001b[0m\u001b[0maddition\u001b[0m\u001b[0;34m(\u001b[0m\u001b[0;36m1\u001b[0m\u001b[0;34m)\u001b[0m\u001b[0;34m)\u001b[0m\u001b[0;34m\u001b[0m\u001b[0;34m\u001b[0m\u001b[0m\n\u001b[0m",
            "\u001b[0;31mTypeError\u001b[0m: addition() missing 1 required positional argument: 'b'"
          ]
        }
      ]
    },
    {
      "cell_type": "markdown",
      "source": [
        "**Python provides Special Symbols for passing variable number of Positional and Keyword arguments:**\n",
        "\n",
        "*args (for non-keyword arguments)\n",
        "\n",
        "**kwargs (for keyword Arguments)\n",
        "\n",
        "The *args and **kwargs make it easier and cleaner to handle arguments.\n",
        "\n",
        "We use the “wildcard” or “*” notation in the *args and **kwargs represent variable arguments."
      ],
      "metadata": {
        "id": "bYOfveW715WR"
      }
    },
    {
      "cell_type": "markdown",
      "source": [
        "**Do you know?**\n",
        "\n",
        "The important parts are \"*\" and \"**\".\n",
        "\n",
        "You can use any word instead of args and kwargs. You could have also written *var and **vars.\n",
        "\n",
        "But it is the common practice to use the words args and kwargs. Thus, there is no need for unnecessary adventures.\n",
        "\n",
        "Let’s look at non-keyword and keyword arguments one by one now"
      ],
      "metadata": {
        "id": "12VpHDqI2BIz"
      }
    },
    {
      "cell_type": "markdown",
      "source": [
        "### *args\n",
        "\n",
        "Consider the following function that sums up two numbers:"
      ],
      "metadata": {
        "id": "ILFExoSo2Glz"
      }
    },
    {
      "cell_type": "code",
      "source": [
        "def addition(a, b):\n",
        "   return a + b\n",
        "\n",
        "print(addition(3,4))"
      ],
      "metadata": {
        "colab": {
          "base_uri": "https://localhost:8080/"
        },
        "id": "cSw9rpiY2y62",
        "outputId": "b210ace6-9593-4212-d5e6-e24a13252a5b"
      },
      "execution_count": null,
      "outputs": [
        {
          "output_type": "stream",
          "name": "stdout",
          "text": [
            "7\n"
          ]
        }
      ]
    },
    {
      "cell_type": "markdown",
      "source": [
        "This function sums up only two numbers.\n",
        "\n",
        "What if we want a function that sums up three or four numbers?\n",
        "We may not even want to put a constraint on the number of arguments that passes to the function. In such cases, we can use *args as parameter.\n",
        "\n",
        "The special syntax *args in function definitions is used to pass a variable number of arguments to a function.\n",
        "It is used to pass a non-key worded, variable-length argument list.\n",
        "\n",
        "What *args allows you to do is take in more arguments than the number of formal arguments that you previously defined. So when writing the function definition, you do not need to know how many arguments will be passed to your function.\n",
        "\n",
        "With *args, any number of extra arguments can be stacked on to your current formal parameters (including zero extra arguments)."
      ],
      "metadata": {
        "id": "BthRsKVm25PF"
      }
    },
    {
      "cell_type": "code",
      "source": [
        "def addition(*args):\n",
        "   result = 0\n",
        "   for i in args:\n",
        "      result += i\n",
        "   return result"
      ],
      "metadata": {
        "id": "6OayFP3x27A9"
      },
      "execution_count": null,
      "outputs": []
    },
    {
      "cell_type": "markdown",
      "source": [
        "The parameters passed to the addition function are stored in a tuple. So, we can iterate over the args variable."
      ],
      "metadata": {
        "id": "4uscWc3g3Cw1"
      }
    },
    {
      "cell_type": "code",
      "source": [
        "print(addition())\n",
        "\n",
        "print(addition(1,4))\n",
        "\n",
        "print(addition(1,7,3))"
      ],
      "metadata": {
        "colab": {
          "base_uri": "https://localhost:8080/"
        },
        "id": "2MPuOXgv3G0W",
        "outputId": "e918f476-c4b4-4c91-cc6d-f17aee1c3174"
      },
      "execution_count": null,
      "outputs": [
        {
          "output_type": "stream",
          "name": "stdout",
          "text": [
            "0\n",
            "5\n",
            "11\n"
          ]
        }
      ]
    },
    {
      "cell_type": "markdown",
      "source": [
        "It is possible to use the *args and named variables together.\n",
        "\n",
        "The following function prints the passed arguments accordingly."
      ],
      "metadata": {
        "id": "SaYTedVf3QBO"
      }
    },
    {
      "cell_type": "code",
      "source": [
        "def arg_printer(a, b, *args):\n",
        "   print(f'a is {a}')\n",
        "   print(f'b is {b}')\n",
        "   print(f'args are {args}')\n",
        "\n",
        "arg_printer(3, 4, 5, 8, 3)"
      ],
      "metadata": {
        "colab": {
          "base_uri": "https://localhost:8080/"
        },
        "id": "ZOQzaK2-3RG_",
        "outputId": "dd809eb1-1ba1-4494-a713-5070d17068de"
      },
      "execution_count": null,
      "outputs": [
        {
          "output_type": "stream",
          "name": "stdout",
          "text": [
            "a is 3\n",
            "b is 4\n",
            "args are (5, 8, 3)\n"
          ]
        }
      ]
    },
    {
      "cell_type": "markdown",
      "source": [
        "### **kwargs"
      ],
      "metadata": {
        "id": "lMcHMAvt30JP"
      }
    },
    {
      "cell_type": "markdown",
      "source": [
        "The **kwargs collect all the keyword arguments that are not explicitly defined. Thus, it does the same operation as *args but for keyword arguments.\n",
        "\n",
        "The special syntax **kwargs in function definitions is used to pass a keyworded, variable-length argument list.\n",
        "We use the name kwargs with the double star. The reason is because the double star allows us to pass through keyword arguments (and any number of them). As we saw earlier, a keyword argument is where you provide a name to the variable as you pass it into the function.\n",
        "\n",
        "You can think of the kwargs as being a dictionary that maps each keyword to the value that we pass alongside it.\n",
        "By default, **kwargs is an empty dictionary. Each undefined keyword argument is stored as a key-value pair in the **kwargs dictionary. That is why when we iterate over the kwargs there doesn’t seem to be any order in which they are printed out."
      ],
      "metadata": {
        "id": "3Sf2eHqq37Ce"
      }
    },
    {
      "cell_type": "code",
      "source": [
        "def arg_printer(a, b, option=True, **kwargs):\n",
        "   print(a, b)\n",
        "   print(option)\n",
        "   print(kwargs)\n",
        "\n",
        "arg_printer(3, 4, param1=5, param2=6)"
      ],
      "metadata": {
        "colab": {
          "base_uri": "https://localhost:8080/"
        },
        "id": "tnS7imBc4aTP",
        "outputId": "4a7fe2f7-54a3-4e38-cbe6-ac1830a57285"
      },
      "execution_count": null,
      "outputs": [
        {
          "output_type": "stream",
          "name": "stdout",
          "text": [
            "3 4\n",
            "True\n",
            "{'param1': 5, 'param2': 6}\n"
          ]
        }
      ]
    },
    {
      "cell_type": "markdown",
      "source": [
        "Lets take an example which uses both *args and **kwargs\n",
        "\n",
        "But *args must be put before **kwargs."
      ],
      "metadata": {
        "id": "JrL6Bn2t4il5"
      }
    },
    {
      "cell_type": "code",
      "source": [
        "def arg_printer(a, b, *args, option=True, **kwargs):\n",
        "   print(a, b)\n",
        "   print(args)\n",
        "   print(option)\n",
        "   print(kwargs)\n",
        "arg_printer(1, 4, 6, 5, param1=5, param2=6)"
      ],
      "metadata": {
        "colab": {
          "base_uri": "https://localhost:8080/"
        },
        "id": "WehZINwS4l8C",
        "outputId": "37186679-1956-4b07-a0cd-e4947b752c03"
      },
      "execution_count": null,
      "outputs": [
        {
          "output_type": "stream",
          "name": "stdout",
          "text": [
            "1 4\n",
            "(6, 5)\n",
            "True\n",
            "{'param1': 5, 'param2': 6}\n"
          ]
        }
      ]
    },
    {
      "cell_type": "markdown",
      "source": [
        "### Packing and Unpacking with *args and ***kwargs\n",
        "\n",
        "We can pack and unpack variables using *args and **kwargs"
      ],
      "metadata": {
        "id": "p6Mohza048_4"
      }
    },
    {
      "cell_type": "code",
      "source": [
        "def arg_printer(*args):\n",
        "   print(args)"
      ],
      "metadata": {
        "id": "bBLV7K-65e3h"
      },
      "execution_count": null,
      "outputs": []
    },
    {
      "cell_type": "markdown",
      "source": [
        "If we pass a list to the function above, it will stored in args tuple as one single element."
      ],
      "metadata": {
        "id": "xTtva2M-5iV9"
      }
    },
    {
      "cell_type": "code",
      "source": [
        "lst = [1,4,5]\n",
        "arg_printer(lst)"
      ],
      "metadata": {
        "colab": {
          "base_uri": "https://localhost:8080/"
        },
        "id": "y6SOiVSa5kMM",
        "outputId": "3011a926-0fdf-41ee-ef02-bf99b121b753"
      },
      "execution_count": null,
      "outputs": [
        {
          "output_type": "stream",
          "name": "stdout",
          "text": [
            "([1, 4, 5],)\n"
          ]
        }
      ]
    },
    {
      "cell_type": "markdown",
      "source": [
        "However, if we put an asterisk before lst, the values in the list will be unpacked and stored in args tuple separately."
      ],
      "metadata": {
        "id": "htIrbrLX5nJk"
      }
    },
    {
      "cell_type": "code",
      "source": [
        "lst = [1,4,5]\n",
        "arg_printer(*lst)"
      ],
      "metadata": {
        "colab": {
          "base_uri": "https://localhost:8080/"
        },
        "id": "Y9CW_GHp5n-l",
        "outputId": "7d738143-6739-4a36-80da-a19f7799da11"
      },
      "execution_count": null,
      "outputs": [
        {
          "output_type": "stream",
          "name": "stdout",
          "text": [
            "(1, 4, 5)\n"
          ]
        }
      ]
    },
    {
      "cell_type": "markdown",
      "source": [
        "We can pass multiple iterables to be unpacked together with single elements."
      ],
      "metadata": {
        "id": "Oy2-JIO36L87"
      }
    },
    {
      "cell_type": "code",
      "source": [
        "lst = [1,4,5]\n",
        "tpl = ('a','b',4)\n",
        "arg_printer(*lst, *tpl, 5, 6)"
      ],
      "metadata": {
        "colab": {
          "base_uri": "https://localhost:8080/"
        },
        "id": "uPv0QuF66O32",
        "outputId": "c0ebb631-3897-44dd-d195-27284be1d3d1"
      },
      "execution_count": null,
      "outputs": [
        {
          "output_type": "stream",
          "name": "stdout",
          "text": [
            "(1, 4, 5, 'a', 'b', 4, 5, 6)\n"
          ]
        }
      ]
    },
    {
      "cell_type": "markdown",
      "source": [
        "We can do the packing and unpacking with keyword arguments as well"
      ],
      "metadata": {
        "id": "5fZYHc1O6abt"
      }
    },
    {
      "cell_type": "code",
      "source": [
        "def arg_printer(**kwargs):\n",
        "   print(kwargs)"
      ],
      "metadata": {
        "id": "LcqDqMSl6cy4"
      },
      "execution_count": null,
      "outputs": []
    },
    {
      "cell_type": "markdown",
      "source": [
        "But the iterable that is passed as keyword arguments must be a mapping such as a dictionary."
      ],
      "metadata": {
        "id": "Zjvds-_Q6dyy"
      }
    },
    {
      "cell_type": "code",
      "source": [
        "dct = {'param1':5, 'param2':8}\n",
        "arg_printer(**dct)"
      ],
      "metadata": {
        "colab": {
          "base_uri": "https://localhost:8080/"
        },
        "id": "c__rLy6f6iLs",
        "outputId": "0efb42a7-0075-41d4-9bfe-565e5e080c9c"
      },
      "execution_count": null,
      "outputs": [
        {
          "output_type": "stream",
          "name": "stdout",
          "text": [
            "{'param1': 5, 'param2': 8}\n"
          ]
        }
      ]
    },
    {
      "cell_type": "markdown",
      "source": [
        "If we also pass additional keyword arguments together with a dictionary, they will combined and stored in the kwargs dictionary."
      ],
      "metadata": {
        "id": "LLrvsYoe6kbW"
      }
    },
    {
      "cell_type": "code",
      "source": [
        "dct = {'param1':5, 'param2':8}\n",
        "arg_printer(param3=9, **dct)"
      ],
      "metadata": {
        "colab": {
          "base_uri": "https://localhost:8080/"
        },
        "id": "8BssP2HG6mVt",
        "outputId": "26a73b2c-0663-457f-dec8-801bd792b7b0"
      },
      "execution_count": null,
      "outputs": [
        {
          "output_type": "stream",
          "name": "stdout",
          "text": [
            "{'param3': 9, 'param1': 5, 'param2': 8}\n"
          ]
        }
      ]
    }
  ]
}