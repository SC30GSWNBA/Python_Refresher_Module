{
  "nbformat": 4,
  "nbformat_minor": 0,
  "metadata": {
    "colab": {
      "name": "Python_Oops_1.ipynb",
      "provenance": [],
      "collapsed_sections": []
    },
    "kernelspec": {
      "name": "python3",
      "display_name": "Python 3"
    },
    "language_info": {
      "name": "python"
    }
  },
  "cells": [
    {
      "cell_type": "markdown",
      "source": [
        "**Some additional operations in case of lists**"
      ],
      "metadata": {
        "id": "9UlSORDvQVLi"
      }
    },
    {
      "cell_type": "code",
      "source": [
        "a = [1, 2, 3, 4,6]\n",
        "b = [11, 22, 33, 44]\n",
        "c = [-1, -3, -5]"
      ],
      "metadata": {
        "id": "cNUCo8oTQi6t"
      },
      "execution_count": null,
      "outputs": []
    },
    {
      "cell_type": "code",
      "source": [
        "m=list(map(lambda x,y,z: x+y+z ,a,b,c))"
      ],
      "metadata": {
        "id": "KbcIxKTgQqv0"
      },
      "execution_count": null,
      "outputs": []
    },
    {
      "cell_type": "code",
      "source": [
        "m #c has only 3 elements and hence the output is having only 3 values"
      ],
      "metadata": {
        "colab": {
          "base_uri": "https://localhost:8080/"
        },
        "id": "NUxbdWt3Qs-L",
        "outputId": "9284e820-2a88-42b3-a9bb-c9c746fca35d"
      },
      "execution_count": null,
      "outputs": [
        {
          "output_type": "execute_result",
          "data": {
            "text/plain": [
              "[11, 21, 31]"
            ]
          },
          "metadata": {},
          "execution_count": 3
        }
      ]
    },
    {
      "cell_type": "markdown",
      "source": [
        "**Zip**"
      ],
      "metadata": {
        "id": "u6cwc2XfQ95v"
      }
    },
    {
      "cell_type": "code",
      "source": [
        "n=list(zip(a,b))\n",
        "print(n)"
      ],
      "metadata": {
        "colab": {
          "base_uri": "https://localhost:8080/"
        },
        "id": "8qRuKdZmQ9Fl",
        "outputId": "f47a45e4-a5ea-4c24-86ed-109e2e4721c1"
      },
      "execution_count": null,
      "outputs": [
        {
          "output_type": "stream",
          "name": "stdout",
          "text": [
            "[(1, 11), (2, 22), (3, 33), (4, 44)]\n"
          ]
        }
      ]
    },
    {
      "cell_type": "markdown",
      "source": [
        "**Modifying/Replacing a List using Functions**"
      ],
      "metadata": {
        "id": "xrrmaEllREWN"
      }
    },
    {
      "cell_type": "code",
      "source": [
        "x=[1,2,3]\n",
        "\n",
        "def modify_content(x):\n",
        " x[0]=2\n",
        " return x\n",
        "\n",
        "print(x)\n",
        "print(id(x))\n",
        "print(\"-\"*50)\n",
        "\n",
        "y=modify_content(x)\n",
        "print(y)\n",
        "print(id(y))\n",
        "print(\"-\"*50)\n",
        "\n",
        "print(modify_content(x))\n",
        "print(id(modify_content(x)))\n",
        "print(\"-\"*50)\n",
        "\n",
        "print(x)\n",
        "print(id(x))"
      ],
      "metadata": {
        "colab": {
          "base_uri": "https://localhost:8080/"
        },
        "id": "GIk7mpjvRMZp",
        "outputId": "0662791f-6a36-4adc-b810-00460094140f"
      },
      "execution_count": null,
      "outputs": [
        {
          "output_type": "stream",
          "name": "stdout",
          "text": [
            "[1, 2, 3]\n",
            "140501731903360\n",
            "--------------------------------------------------\n",
            "[2, 2, 3]\n",
            "140501731903360\n",
            "--------------------------------------------------\n",
            "[2, 2, 3]\n",
            "140501731903360\n",
            "--------------------------------------------------\n",
            "[2, 2, 3]\n",
            "140501731903360\n"
          ]
        }
      ]
    },
    {
      "cell_type": "code",
      "source": [
        "x=[1,2,3]\n",
        "\n",
        "def replace_content(x):\n",
        " x=[4,5,6]\n",
        " return x\n",
        "\n",
        "print(x)\n",
        "print(id(x))\n",
        "print(\"-\"*50)\n",
        "\n",
        "s=replace_content(x)\n",
        "print(s)\n",
        "print(id(s))\n",
        "print(\"-\"*50)\n",
        "\n",
        "print(replace_content(x))\n",
        "print(id(replace_content(x)))\n",
        "print(\"-\"*50)\n",
        "\n",
        "print(x)\n",
        "print(id(x))"
      ],
      "metadata": {
        "colab": {
          "base_uri": "https://localhost:8080/"
        },
        "id": "cxk7kqqPTxcP",
        "outputId": "8eedb213-d1b0-4c64-bd0c-c0f17160b6f3"
      },
      "execution_count": null,
      "outputs": [
        {
          "output_type": "stream",
          "name": "stdout",
          "text": [
            "[1, 2, 3]\n",
            "140501678608704\n",
            "--------------------------------------------------\n",
            "[4, 5, 6]\n",
            "140501678610544\n",
            "--------------------------------------------------\n",
            "[4, 5, 6]\n",
            "140501678609744\n",
            "--------------------------------------------------\n",
            "[1, 2, 3]\n",
            "140501678608704\n"
          ]
        }
      ]
    },
    {
      "cell_type": "code",
      "source": [
        "s=[4,5,6]\n",
        "print(s)\n",
        "print(id(s))"
      ],
      "metadata": {
        "colab": {
          "base_uri": "https://localhost:8080/"
        },
        "id": "AyIm_HR-VYMy",
        "outputId": "07e98780-8f91-44a5-ee07-d84a7a20305b"
      },
      "execution_count": null,
      "outputs": [
        {
          "output_type": "stream",
          "name": "stdout",
          "text": [
            "[4, 5, 6]\n",
            "140501678819040\n"
          ]
        }
      ]
    },
    {
      "cell_type": "code",
      "source": [
        "s=[9,8,7]\n",
        "print(s)\n",
        "print(id(s))"
      ],
      "metadata": {
        "colab": {
          "base_uri": "https://localhost:8080/"
        },
        "id": "NgCcz23tVdX5",
        "outputId": "cab85eba-f146-4410-9baf-1433493d1aab"
      },
      "execution_count": null,
      "outputs": [
        {
          "output_type": "stream",
          "name": "stdout",
          "text": [
            "[9, 8, 7]\n",
            "140501731775984\n"
          ]
        }
      ]
    },
    {
      "cell_type": "code",
      "source": [
        "s[0]=2\n",
        "print(s)\n",
        "print(id(s))"
      ],
      "metadata": {
        "colab": {
          "base_uri": "https://localhost:8080/"
        },
        "id": "uzafmXOqVgRC",
        "outputId": "7ad5eaf1-4360-4a61-f4b0-bed5bdd46d7e"
      },
      "execution_count": null,
      "outputs": [
        {
          "output_type": "stream",
          "name": "stdout",
          "text": [
            "[2, 8, 7]\n",
            "140501731775984\n"
          ]
        }
      ]
    },
    {
      "cell_type": "code",
      "source": [
        "s1=[4,5,6]\n",
        "print(id(s1))\n",
        "s1.append(9)\n",
        "print(id(s1))"
      ],
      "metadata": {
        "colab": {
          "base_uri": "https://localhost:8080/"
        },
        "id": "lMSk4DpBVizy",
        "outputId": "3bee2fa7-9167-4338-d250-4470c0ad4369"
      },
      "execution_count": null,
      "outputs": [
        {
          "output_type": "stream",
          "name": "stdout",
          "text": [
            "140501678623792\n",
            "140501678623792\n"
          ]
        }
      ]
    },
    {
      "cell_type": "code",
      "source": [
        "s2=[4,5,6]\n",
        "print(id(s2))\n",
        "s2[0]=4\n",
        "print(id(s2))"
      ],
      "metadata": {
        "colab": {
          "base_uri": "https://localhost:8080/"
        },
        "id": "Gr-ecPwAVmQq",
        "outputId": "ccc51994-46f4-4456-c554-707e760b1513"
      },
      "execution_count": null,
      "outputs": [
        {
          "output_type": "stream",
          "name": "stdout",
          "text": [
            "140501678742736\n",
            "140501678742736\n"
          ]
        }
      ]
    },
    {
      "cell_type": "markdown",
      "source": [
        "**Classes and Functions**"
      ],
      "metadata": {
        "id": "MAaOmvvOVtbw"
      }
    },
    {
      "cell_type": "code",
      "source": [
        "class Student:\n",
        " pass"
      ],
      "metadata": {
        "id": "S_X0xpZJVsV9"
      },
      "execution_count": null,
      "outputs": []
    },
    {
      "cell_type": "code",
      "source": [
        "shafiq=Student()"
      ],
      "metadata": {
        "id": "UN0oxk_ZWlib"
      },
      "execution_count": null,
      "outputs": []
    },
    {
      "cell_type": "code",
      "source": [
        "shafiq"
      ],
      "metadata": {
        "colab": {
          "base_uri": "https://localhost:8080/"
        },
        "id": "klYEQTEnWnj9",
        "outputId": "45b46b9a-c852-4bc2-b264-3474b1b65409"
      },
      "execution_count": null,
      "outputs": [
        {
          "output_type": "execute_result",
          "data": {
            "text/plain": [
              "<__main__.Student at 0x7fc918a4b2d0>"
            ]
          },
          "metadata": {},
          "execution_count": 15
        }
      ]
    },
    {
      "cell_type": "code",
      "source": [
        "type(shafiq)"
      ],
      "metadata": {
        "colab": {
          "base_uri": "https://localhost:8080/"
        },
        "id": "iRPifcpcWq-D",
        "outputId": "09f89131-3f5d-4c9b-8c31-4cbd962c257a"
      },
      "execution_count": null,
      "outputs": [
        {
          "output_type": "execute_result",
          "data": {
            "text/plain": [
              "__main__.Student"
            ]
          },
          "metadata": {},
          "execution_count": 16
        }
      ]
    },
    {
      "cell_type": "code",
      "source": [
        "shafiq.rollnumber=1"
      ],
      "metadata": {
        "id": "i90e41TqWvKl"
      },
      "execution_count": null,
      "outputs": []
    },
    {
      "cell_type": "code",
      "source": [
        "print(shafiq.rollnumber)"
      ],
      "metadata": {
        "colab": {
          "base_uri": "https://localhost:8080/"
        },
        "id": "Xu8rNQErWx-L",
        "outputId": "118bf54a-8575-4a6b-d4bc-d510ce0ad99f"
      },
      "execution_count": null,
      "outputs": [
        {
          "output_type": "stream",
          "name": "stdout",
          "text": [
            "1\n"
          ]
        }
      ]
    },
    {
      "cell_type": "code",
      "source": [
        "s=Student()"
      ],
      "metadata": {
        "id": "rE0awCneW3IY"
      },
      "execution_count": null,
      "outputs": []
    },
    {
      "cell_type": "code",
      "source": [
        "s"
      ],
      "metadata": {
        "colab": {
          "base_uri": "https://localhost:8080/"
        },
        "id": "BZT9Tvi5W48K",
        "outputId": "6c84b7c8-54df-4a4e-ea3d-42490d5bbc49"
      },
      "execution_count": null,
      "outputs": [
        {
          "output_type": "execute_result",
          "data": {
            "text/plain": [
              "<__main__.Student at 0x7fc918a69bd0>"
            ]
          },
          "metadata": {},
          "execution_count": 20
        }
      ]
    },
    {
      "cell_type": "code",
      "source": [
        "s.name=\"Rahul\""
      ],
      "metadata": {
        "id": "80caSJ3fW72M"
      },
      "execution_count": null,
      "outputs": []
    },
    {
      "cell_type": "code",
      "source": [
        "print(s.name)"
      ],
      "metadata": {
        "colab": {
          "base_uri": "https://localhost:8080/"
        },
        "id": "nh5etWNoX3AU",
        "outputId": "ff8bda2e-d27b-4f62-b45a-f219149f99dd"
      },
      "execution_count": null,
      "outputs": [
        {
          "output_type": "stream",
          "name": "stdout",
          "text": [
            "Rahul\n"
          ]
        }
      ]
    },
    {
      "cell_type": "code",
      "source": [
        "class Student:\n",
        " def __init__(self):\n",
        "  print(self)\n",
        "  self.name=\"shreyansh\"  "
      ],
      "metadata": {
        "id": "X_OS4GFnX5z_"
      },
      "execution_count": null,
      "outputs": []
    },
    {
      "cell_type": "code",
      "source": [
        "m=Student()\n",
        "print(m.name)"
      ],
      "metadata": {
        "colab": {
          "base_uri": "https://localhost:8080/"
        },
        "id": "TnZ2zVUHYCfe",
        "outputId": "0954215c-f07e-43e2-da95-ec845411b1ce"
      },
      "execution_count": null,
      "outputs": [
        {
          "output_type": "stream",
          "name": "stdout",
          "text": [
            "<__main__.Student object at 0x7fc918a79790>\n",
            "shreyansh\n"
          ]
        }
      ]
    },
    {
      "cell_type": "code",
      "source": [
        "n=Student()\n",
        "print(n.name)"
      ],
      "metadata": {
        "colab": {
          "base_uri": "https://localhost:8080/"
        },
        "id": "DrLLEn-NYFS2",
        "outputId": "d400ec61-e911-4762-92b5-3dc95b8c701c"
      },
      "execution_count": null,
      "outputs": [
        {
          "output_type": "stream",
          "name": "stdout",
          "text": [
            "<__main__.Student object at 0x7fc918a4b5d0>\n",
            "shreyansh\n"
          ]
        }
      ]
    },
    {
      "cell_type": "code",
      "source": [
        "class Student:\n",
        "  def __init__(self,new_name):\n",
        "    self.name=new_name\n",
        "  def __str__(self):\n",
        "    return f\"student name is {self.name} and his is a briliant student \""
      ],
      "metadata": {
        "id": "v2Fv9RCPYMFZ"
      },
      "execution_count": null,
      "outputs": []
    },
    {
      "cell_type": "code",
      "source": [
        "s1=Student(\"mudit\")\n",
        "s2=Student(\"nikhil\")\n",
        "s3=Student(\"mohit\")\n",
        "print(s1)\n",
        "print(s2)\n",
        "print(s3)"
      ],
      "metadata": {
        "colab": {
          "base_uri": "https://localhost:8080/"
        },
        "id": "DPrO5aFjYX3W",
        "outputId": "b106eba0-78c8-4578-ea83-20a4117331c7"
      },
      "execution_count": null,
      "outputs": [
        {
          "output_type": "stream",
          "name": "stdout",
          "text": [
            "student name is mudit and his is a briliant student \n",
            "student name is nikhil and his is a briliant student \n",
            "student name is mohit and his is a briliant student \n"
          ]
        }
      ]
    },
    {
      "cell_type": "code",
      "source": [
        "class Student:\n",
        "  pass"
      ],
      "metadata": {
        "id": "oXFynUxDZUgC"
      },
      "execution_count": null,
      "outputs": []
    },
    {
      "cell_type": "code",
      "source": [
        "s1=Student()\n",
        "s2=Student()\n",
        "s3=Student()\n",
        "s1.name=\"mudit\"\n",
        "s2.name=\"mudit\"\n",
        "s3.name=\"mudit\"\n",
        "print(s1)\n",
        "print(s2)\n",
        "print(s3)"
      ],
      "metadata": {
        "colab": {
          "base_uri": "https://localhost:8080/"
        },
        "id": "pJK_u0zqZYEo",
        "outputId": "276d7ac0-4d9c-4695-ff58-5609fbf8afd1"
      },
      "execution_count": null,
      "outputs": [
        {
          "output_type": "stream",
          "name": "stdout",
          "text": [
            "<__main__.Student object at 0x7fc918ae2c10>\n",
            "<__main__.Student object at 0x7fc918ae2e10>\n",
            "<__main__.Student object at 0x7fc918ae2a10>\n"
          ]
        }
      ]
    },
    {
      "cell_type": "code",
      "source": [
        "class Student:\n",
        "  def __init__(self,new_name,rollNo=1):\n",
        "    self.name=new_name\n",
        "    self.rollno=rollNo\n",
        "  def __str__(self):\n",
        "    return f\"student name is {self.name} and his rollno is {self.rollno} \""
      ],
      "metadata": {
        "id": "TtxMFUy3Zbcl"
      },
      "execution_count": null,
      "outputs": []
    },
    {
      "cell_type": "code",
      "source": [
        "s1=Student(\"mudit\")\n",
        "s2=Student(\"nikhil\")\n",
        "s3=Student(\"mohit\",12)\n",
        "print(s1)\n",
        "print(s2)\n",
        "print(s3)"
      ],
      "metadata": {
        "colab": {
          "base_uri": "https://localhost:8080/"
        },
        "id": "_Jv8QnXuZh-E",
        "outputId": "423e0885-f8d5-4202-b45e-32848ecbc232"
      },
      "execution_count": null,
      "outputs": [
        {
          "output_type": "stream",
          "name": "stdout",
          "text": [
            "student name is mudit and his rollno is 1 \n",
            "student name is nikhil and his rollno is 1 \n",
            "student name is mohit and his rollno is 12 \n"
          ]
        }
      ]
    },
    {
      "cell_type": "code",
      "source": [
        "class Student:\n",
        "  def __init__(variable,new_name,rollNo=1):\n",
        "    variable.name=new_name\n",
        "    variable.rollno=rollNo\n",
        "  def __str__(variable):\n",
        "    return f\"student name is {variable.name} and his rollno is {variable.rollno} \""
      ],
      "metadata": {
        "id": "POC64iOrZnBU"
      },
      "execution_count": null,
      "outputs": []
    },
    {
      "cell_type": "code",
      "source": [
        "s1=Student(\"mudit\")\n",
        "s2=Student(\"nikhil\")\n",
        "s3=Student(\"mohit\",12)\n",
        "print(s1)\n",
        "print(s2)\n",
        "print(s3)"
      ],
      "metadata": {
        "colab": {
          "base_uri": "https://localhost:8080/"
        },
        "id": "zE8VvCRdZv9p",
        "outputId": "31dfb4ad-66f5-4f77-cba7-c7334fc556ca"
      },
      "execution_count": null,
      "outputs": [
        {
          "output_type": "stream",
          "name": "stdout",
          "text": [
            "student name is mudit and his rollno is 1 \n",
            "student name is nikhil and his rollno is 1 \n",
            "student name is mohit and his rollno is 12 \n"
          ]
        }
      ]
    },
    {
      "cell_type": "code",
      "source": [
        "class Vehicle:\n",
        "  def __init__(thisVehicle, name, mileage, capacity):\n",
        "    thisVehicle.name = name\n",
        "    thisVehicle.mileage = mileage\n",
        "    thisVehicle.capacity = capacity\n",
        "  def __str__(thisVehicle):\n",
        "    return 'Vehicle Name={} \\nMileage={} \\nCapacity={}'.format(thisVehicle.name, thisVehicle.mileage, thisVehicle.capacity)\n",
        "truck = Vehicle(\"Truck\", 25, 500)\n",
        "print(truck)"
      ],
      "metadata": {
        "colab": {
          "base_uri": "https://localhost:8080/"
        },
        "id": "5f9BYuJFbJ3K",
        "outputId": "a8b07f2d-3389-4d29-9e17-2c64ab2e66d6"
      },
      "execution_count": null,
      "outputs": [
        {
          "output_type": "stream",
          "name": "stdout",
          "text": [
            "Vehicle Name=Truck \n",
            "Mileage=25 \n",
            "Capacity=500\n"
          ]
        }
      ]
    },
    {
      "cell_type": "code",
      "source": [
        "class Student:\n",
        "  counter=100 # class variable\n",
        "  def __init__(self,new_name):\n",
        "    self.name=new_name\n",
        "    Student.counter+=1\n",
        "    self.rollNo=Student.counter\n",
        "  def __str__(self):\n",
        "    return f\"student name is {self.name} and his rollno is {self.rollNo} \""
      ],
      "metadata": {
        "id": "xqYzSH1lbVWw"
      },
      "execution_count": null,
      "outputs": []
    },
    {
      "cell_type": "code",
      "source": [
        "s1=Student(\"mudit\")\n",
        "s2=Student(\"nikhil\")\n",
        "s3=Student(\"mohit\")\n",
        "s4=Student(\"satya\")\n",
        "print(s1)\n",
        "print(s2)\n",
        "print(s3)\n",
        "print(s4)"
      ],
      "metadata": {
        "colab": {
          "base_uri": "https://localhost:8080/"
        },
        "id": "k1O7pYB3bcxO",
        "outputId": "cad5c263-e965-4954-d1a3-39d79df2b184"
      },
      "execution_count": null,
      "outputs": [
        {
          "output_type": "stream",
          "name": "stdout",
          "text": [
            "student name is mudit and his rollno is 101 \n",
            "student name is nikhil and his rollno is 102 \n",
            "student name is mohit and his rollno is 103 \n",
            "student name is satya and his rollno is 104 \n"
          ]
        }
      ]
    },
    {
      "cell_type": "code",
      "source": [
        "print(Student.counter)"
      ],
      "metadata": {
        "colab": {
          "base_uri": "https://localhost:8080/"
        },
        "id": "q-x7XQxwbgmj",
        "outputId": "dd520ae5-b3f1-42b4-a3f8-8a3bab3dc2b2"
      },
      "execution_count": null,
      "outputs": [
        {
          "output_type": "stream",
          "name": "stdout",
          "text": [
            "104\n"
          ]
        }
      ]
    },
    {
      "cell_type": "code",
      "source": [
        "print(s1.rollNo)"
      ],
      "metadata": {
        "colab": {
          "base_uri": "https://localhost:8080/"
        },
        "id": "V6_kaJw_birV",
        "outputId": "c868d25d-6e9e-436b-ad45-2de5efea47f9"
      },
      "execution_count": null,
      "outputs": [
        {
          "output_type": "stream",
          "name": "stdout",
          "text": [
            "101\n"
          ]
        }
      ]
    },
    {
      "cell_type": "code",
      "source": [
        "Student.counter=1000"
      ],
      "metadata": {
        "id": "PLymaHqPblPi"
      },
      "execution_count": null,
      "outputs": []
    },
    {
      "cell_type": "code",
      "source": [
        "print(Student.counter)"
      ],
      "metadata": {
        "colab": {
          "base_uri": "https://localhost:8080/"
        },
        "id": "4g6-F2uWbn0V",
        "outputId": "9e71b352-a2b6-40cd-ede5-d57a0776e325"
      },
      "execution_count": null,
      "outputs": [
        {
          "output_type": "stream",
          "name": "stdout",
          "text": [
            "1000\n"
          ]
        }
      ]
    },
    {
      "cell_type": "code",
      "source": [
        "print(s1.counter)"
      ],
      "metadata": {
        "colab": {
          "base_uri": "https://localhost:8080/"
        },
        "id": "x-qJVzVRbqJa",
        "outputId": "9eb3793f-56bc-426e-9736-5228f798a406"
      },
      "execution_count": null,
      "outputs": [
        {
          "output_type": "stream",
          "name": "stdout",
          "text": [
            "1000\n"
          ]
        }
      ]
    },
    {
      "cell_type": "code",
      "source": [
        "s1.counter=10000"
      ],
      "metadata": {
        "id": "FEokx8dWbtQJ"
      },
      "execution_count": null,
      "outputs": []
    },
    {
      "cell_type": "code",
      "source": [
        "print(s1.counter)"
      ],
      "metadata": {
        "colab": {
          "base_uri": "https://localhost:8080/"
        },
        "id": "IPShBu50bwt2",
        "outputId": "fae00b5a-3705-4141-b2ea-ea7e197036f5"
      },
      "execution_count": null,
      "outputs": [
        {
          "output_type": "stream",
          "name": "stdout",
          "text": [
            "10000\n"
          ]
        }
      ]
    },
    {
      "cell_type": "code",
      "source": [
        "s5=Student(\"satya\")\n",
        "print(s5)"
      ],
      "metadata": {
        "colab": {
          "base_uri": "https://localhost:8080/"
        },
        "id": "WNPF48wMbzQC",
        "outputId": "a1c8e16f-3be0-44ca-adbe-2946cc7f13e4"
      },
      "execution_count": null,
      "outputs": [
        {
          "output_type": "stream",
          "name": "stdout",
          "text": [
            "student name is satya and his rollno is 1001 \n"
          ]
        }
      ]
    },
    {
      "cell_type": "code",
      "source": [
        "print(s2)"
      ],
      "metadata": {
        "colab": {
          "base_uri": "https://localhost:8080/"
        },
        "id": "rh4RBzlWb1xC",
        "outputId": "c9055079-6871-4ed5-b89d-26aace307c11"
      },
      "execution_count": null,
      "outputs": [
        {
          "output_type": "stream",
          "name": "stdout",
          "text": [
            "student name is nikhil and his rollno is 102 \n"
          ]
        }
      ]
    },
    {
      "cell_type": "code",
      "source": [
        "print(s1.counter)"
      ],
      "metadata": {
        "colab": {
          "base_uri": "https://localhost:8080/"
        },
        "id": "ieXsxPxFb4VI",
        "outputId": "5fc3c738-819f-4fab-a185-ab67994e23ea"
      },
      "execution_count": null,
      "outputs": [
        {
          "output_type": "stream",
          "name": "stdout",
          "text": [
            "10000\n"
          ]
        }
      ]
    },
    {
      "cell_type": "code",
      "source": [
        "print(s2.counter)"
      ],
      "metadata": {
        "colab": {
          "base_uri": "https://localhost:8080/"
        },
        "id": "lxJbN2DVcC14",
        "outputId": "6418f7b2-6231-440a-c457-299bf1e09521"
      },
      "execution_count": null,
      "outputs": [
        {
          "output_type": "stream",
          "name": "stdout",
          "text": [
            "1001\n"
          ]
        }
      ]
    },
    {
      "cell_type": "code",
      "source": [
        "class Vehicle:\n",
        "  country = \"India\"\n",
        "  def __init__(self, name, mileage):\n",
        "    self.name = name\n",
        "    self.mileage = mileage\n",
        "  def __str__(self):\n",
        "    return 'Vehicle Name={} \\nMileage={}'.format(self.name, self.mileage)\n",
        "\n",
        "v1 = Vehicle(\"minivan\", 10)\n",
        "print(v1.country)\n",
        "\n",
        "v1.country = \"USA\"\n",
        "print(Vehicle.country)\n",
        "print(v1.country)"
      ],
      "metadata": {
        "colab": {
          "base_uri": "https://localhost:8080/"
        },
        "id": "p8qvzebKcKKw",
        "outputId": "73c25346-820c-4473-d9c0-184ae740b6ff"
      },
      "execution_count": null,
      "outputs": [
        {
          "output_type": "stream",
          "name": "stdout",
          "text": [
            "India\n",
            "India\n",
            "USA\n"
          ]
        }
      ]
    },
    {
      "cell_type": "code",
      "source": [
        "class Student:\n",
        "  counter=0 # class variable\n",
        "  def __init__(self,new_name):\n",
        "    self.name=new_name\n",
        "    Student.counter+=1\n",
        "    self.rollNo=Student.counter\n",
        "  def intro(self):\n",
        "    print(f\" Hello my name is {self.name}\")\n",
        "  def __str__(self):\n",
        "    return f\"student name is {self.name} and his rollno is {self.rollNo} \""
      ],
      "metadata": {
        "id": "BqwZi94TcihO"
      },
      "execution_count": null,
      "outputs": []
    },
    {
      "cell_type": "code",
      "source": [
        "s1=Student(\"mudit\")\n",
        "s2=Student(\"nikhil\")\n",
        "s3=Student(\"mohit\")\n",
        "s4=Student(\"satya\")\n",
        "print(s1)\n",
        "print(s2)\n",
        "print(s3)\n",
        "print(s4)\n",
        "s2.intro()"
      ],
      "metadata": {
        "colab": {
          "base_uri": "https://localhost:8080/"
        },
        "id": "Anglh-e7cqzt",
        "outputId": "9f7c9079-3f9b-41f0-8207-161bb46c59a4"
      },
      "execution_count": null,
      "outputs": [
        {
          "output_type": "stream",
          "name": "stdout",
          "text": [
            "student name is mudit and his rollno is 1 \n",
            "student name is nikhil and his rollno is 2 \n",
            "student name is mohit and his rollno is 3 \n",
            "student name is satya and his rollno is 4 \n",
            " Hello my name is nikhil\n"
          ]
        }
      ]
    },
    {
      "cell_type": "markdown",
      "source": [
        "Create a class called Account , which refers to a bank account\n",
        "\n",
        "Create attributes that will be unique for each instance of Account\n",
        "\n",
        "1. id ---> this has to be incremented and assigned automatically\n",
        "2. bal ---> this will give balance amount for each account\n",
        "\n",
        "bal needs to be assigned a value as soon as an account is created\n",
        "\n",
        "As soon as account is created, it should have some opening balance\n",
        "\n",
        "Create 2 instances of accounts, a1 and a2\n",
        "a1 should have id = 1 and bal = 100\n",
        "a2 should have id = next id and bal = 0\n",
        "\n",
        "Create a string representation for each account\n",
        "When we print an account, like print(a1)\n",
        "It should print out:\n",
        "Account {id} has Rs. {balance}."
      ],
      "metadata": {
        "id": "a0bmGzOsdcNG"
      }
    },
    {
      "cell_type": "code",
      "source": [
        "class Account:\n",
        "  counter=0\n",
        "  def __init__ (self,openingbal=0):\n",
        "    Account.counter+=1\n",
        "    self.id=Account.counter\n",
        "    self.bal=openingbal\n",
        "  def __str__(self):\n",
        "    return f\"Account {self.id} has Rs. {self.bal}.\""
      ],
      "metadata": {
        "id": "Z7Vfn68FddRf"
      },
      "execution_count": null,
      "outputs": []
    },
    {
      "cell_type": "code",
      "source": [
        "a1=Account(100)\n",
        "a2=Account()\n",
        "print(a1)\n",
        "print(a2)"
      ],
      "metadata": {
        "colab": {
          "base_uri": "https://localhost:8080/"
        },
        "id": "m9HRZoBReHC5",
        "outputId": "2736ecdb-c960-4449-8415-2c0d246982bd"
      },
      "execution_count": null,
      "outputs": [
        {
          "output_type": "stream",
          "name": "stdout",
          "text": [
            "Account 1 has Rs. 100.\n",
            "Account 2 has Rs. 0.\n"
          ]
        }
      ]
    },
    {
      "cell_type": "code",
      "source": [
        "class Account:\n",
        "  counter=0\n",
        "  def __init__ (self,openingbal=0):\n",
        "    Account.counter+=1\n",
        "    self.id=Account.counter\n",
        "    self.bal=openingbal\n",
        "\n",
        "  def deposit(self,amount):\n",
        "    self.bal+=amount\n",
        "\n",
        "  def __str__(self):\n",
        "    return f\"Account {self.id} has Rs. {self.bal}.\""
      ],
      "metadata": {
        "id": "JLjgQqxeeK0J"
      },
      "execution_count": null,
      "outputs": []
    },
    {
      "cell_type": "code",
      "source": [
        "a1=Account(100)\n",
        "print(a1)\n",
        "a1.deposit(100)\n",
        "print(a1)"
      ],
      "metadata": {
        "colab": {
          "base_uri": "https://localhost:8080/"
        },
        "id": "44jmfxoLed7r",
        "outputId": "d412419f-273d-4b92-feb1-6778e256ce1b"
      },
      "execution_count": null,
      "outputs": [
        {
          "output_type": "stream",
          "name": "stdout",
          "text": [
            "Account 1 has Rs. 100.\n",
            "Account 1 has Rs. 200.\n"
          ]
        }
      ]
    },
    {
      "cell_type": "code",
      "source": [
        "class Account:\n",
        "  counter=0\n",
        "  def __init__ (self,openingbal=0):\n",
        "    Account.counter+=1\n",
        "    self.id=Account.counter\n",
        "    self.bal=openingbal\n",
        "\n",
        "  def deposit(self,amount):\n",
        "    if amount>0: # condition for adding amount\n",
        "      self.bal+=amount\n",
        "\n",
        "  def withdraw(self,amount):\n",
        "    if amount>0 and self.bal>=amount:\n",
        "      self.bal -= amount\n",
        "\n",
        "  def __str__(self):\n",
        "    return f\"Account {self.id} has Rs. {self.bal}.\""
      ],
      "metadata": {
        "id": "KpO1TXv1egY-"
      },
      "execution_count": null,
      "outputs": []
    },
    {
      "cell_type": "code",
      "source": [
        "a2=Account(100)\n",
        "print(a2)\n",
        "a2.deposit(100)\n",
        "print(a2)\n",
        "a2.withdraw(50)\n",
        "print(a2)"
      ],
      "metadata": {
        "colab": {
          "base_uri": "https://localhost:8080/"
        },
        "id": "FSkAHKC0evTB",
        "outputId": "287eeaf0-454b-4a9d-c33a-7c9388fadc16"
      },
      "execution_count": null,
      "outputs": [
        {
          "output_type": "stream",
          "name": "stdout",
          "text": [
            "Account 1 has Rs. 100.\n",
            "Account 1 has Rs. 200.\n",
            "Account 1 has Rs. 150.\n"
          ]
        }
      ]
    },
    {
      "cell_type": "code",
      "source": [
        "a2=Account(0)\n",
        "print(a2)\n",
        "a2.withdraw(50)\n",
        "print(a2)"
      ],
      "metadata": {
        "colab": {
          "base_uri": "https://localhost:8080/"
        },
        "id": "RSs7Nur2e1fX",
        "outputId": "d4952cfc-dfa0-415e-d3c4-17f1812a5e6e"
      },
      "execution_count": null,
      "outputs": [
        {
          "output_type": "stream",
          "name": "stdout",
          "text": [
            "Account 2 has Rs. 0.\n",
            "Account 2 has Rs. 0.\n"
          ]
        }
      ]
    },
    {
      "cell_type": "code",
      "source": [
        "a2=Account(100)\n",
        "print(a2)\n",
        "a2.withdraw(150)\n",
        "print(a2)"
      ],
      "metadata": {
        "colab": {
          "base_uri": "https://localhost:8080/"
        },
        "id": "LFbYXaeLe4Q5",
        "outputId": "518136c7-a60d-4cdf-84aa-2761d8ab95c0"
      },
      "execution_count": null,
      "outputs": [
        {
          "output_type": "stream",
          "name": "stdout",
          "text": [
            "Account 3 has Rs. 100.\n",
            "Account 3 has Rs. 100.\n"
          ]
        }
      ]
    },
    {
      "cell_type": "code",
      "source": [
        "class Account:\n",
        "  counter=0\n",
        "  def __init__ (self,openingbal=0):\n",
        "    Account.counter+=1\n",
        "    self.id=Account.counter\n",
        "    self.bal=openingbal\n",
        "\n",
        "  def deposit(self,amount):\n",
        "    if amount>0: # condition for adding amount\n",
        "      self.bal+=amount\n",
        "\n",
        "  def withdraw(self,amount):\n",
        "    if amount>0 and self.bal>=amount:\n",
        "      self.bal -= amount\n",
        "\n",
        "  def __str__(self):\n",
        "    return f\"Account {self.id} has Rs. {self.bal}.\""
      ],
      "metadata": {
        "id": "Q7dK-iwke6vs"
      },
      "execution_count": null,
      "outputs": []
    },
    {
      "cell_type": "code",
      "source": [
        "a1 = Account(100)\n",
        "a2 = Account()\n",
        "a1.deposit(50)\n",
        "print(a1)\n",
        "a1.withdraw(10)\n",
        "print(a1)\n",
        "print(a1)\n",
        "print(a2)\n",
        "print(a2)"
      ],
      "metadata": {
        "colab": {
          "base_uri": "https://localhost:8080/"
        },
        "id": "68n59U4QfDrh",
        "outputId": "42b7059c-a1e6-4541-b925-76adaef7c810"
      },
      "execution_count": null,
      "outputs": [
        {
          "output_type": "stream",
          "name": "stdout",
          "text": [
            "Account 1 has Rs. 150.\n",
            "Account 1 has Rs. 140.\n",
            "Account 1 has Rs. 140.\n",
            "Account 2 has Rs. 0.\n",
            "Account 2 has Rs. 0.\n"
          ]
        }
      ]
    }
  ]
}