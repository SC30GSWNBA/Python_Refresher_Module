{
  "nbformat": 4,
  "nbformat_minor": 0,
  "metadata": {
    "colab": {
      "name": "Python Refresher: Numpy - 2",
      "provenance": [],
      "collapsed_sections": []
    },
    "kernelspec": {
      "name": "python3",
      "display_name": "Python 3"
    },
    "language_info": {
      "name": "python"
    }
  },
  "cells": [
    {
      "cell_type": "markdown",
      "source": [
        "# Numpy"
      ],
      "metadata": {
        "id": "HMEBJNkf_uhi"
      }
    },
    {
      "cell_type": "code",
      "source": [
        "import numpy as np\n",
        "m1=np.arange(1,13).reshape((3,4))\n",
        "m1"
      ],
      "metadata": {
        "colab": {
          "base_uri": "https://localhost:8080/"
        },
        "id": "usCAQQMGKy97",
        "outputId": "719679b5-47e8-4022-8968-9693aacc285f"
      },
      "execution_count": null,
      "outputs": [
        {
          "output_type": "execute_result",
          "data": {
            "text/plain": [
              "array([[ 1,  2,  3,  4],\n",
              "       [ 5,  6,  7,  8],\n",
              "       [ 9, 10, 11, 12]])"
            ]
          },
          "metadata": {},
          "execution_count": 1
        }
      ]
    },
    {
      "cell_type": "code",
      "source": [
        "# IMPORTANT - Sacler Addition in numpy\n",
        "\n",
        "m1+2"
      ],
      "metadata": {
        "colab": {
          "base_uri": "https://localhost:8080/"
        },
        "id": "HgHQ-8skKzAU",
        "outputId": "35f56db8-f2cc-4801-f944-a5f599790dde"
      },
      "execution_count": null,
      "outputs": [
        {
          "output_type": "execute_result",
          "data": {
            "text/plain": [
              "array([[ 3,  4,  5,  6],\n",
              "       [ 7,  8,  9, 10],\n",
              "       [11, 12, 13, 14]])"
            ]
          },
          "metadata": {},
          "execution_count": 2
        }
      ]
    },
    {
      "cell_type": "code",
      "source": [
        "# IMPORTANT - Conditional operators in Numpy\n",
        "\n",
        "m1<6"
      ],
      "metadata": {
        "colab": {
          "base_uri": "https://localhost:8080/"
        },
        "id": "v3AII1tFKzCl",
        "outputId": "6f594c0c-ae3f-4d1d-f18a-1bf763519325"
      },
      "execution_count": null,
      "outputs": [
        {
          "output_type": "execute_result",
          "data": {
            "text/plain": [
              "array([[ True,  True,  True,  True],\n",
              "       [ True, False, False, False],\n",
              "       [False, False, False, False]])"
            ]
          },
          "metadata": {},
          "execution_count": 3
        }
      ]
    },
    {
      "cell_type": "code",
      "source": [
        "m1<6"
      ],
      "metadata": {
        "colab": {
          "base_uri": "https://localhost:8080/"
        },
        "id": "0MnRFCaDKzFA",
        "outputId": "d2b3868f-f21f-4edb-97ba-72a2f23772a7"
      },
      "execution_count": null,
      "outputs": [
        {
          "output_type": "execute_result",
          "data": {
            "text/plain": [
              "array([[ True,  True,  True,  True],\n",
              "       [ True, False, False, False],\n",
              "       [False, False, False, False]])"
            ]
          },
          "metadata": {},
          "execution_count": 4
        }
      ]
    },
    {
      "cell_type": "code",
      "source": [
        "# IMPORTANT - Masking in Python\n",
        "\n",
        "mask= m1<6\n",
        "m1[mask]"
      ],
      "metadata": {
        "colab": {
          "base_uri": "https://localhost:8080/"
        },
        "id": "EDkI09cLKzHS",
        "outputId": "b3df0b20-f287-45c4-f2f4-e2061d0c1467"
      },
      "execution_count": null,
      "outputs": [
        {
          "output_type": "execute_result",
          "data": {
            "text/plain": [
              "array([1, 2, 3, 4, 5])"
            ]
          },
          "metadata": {},
          "execution_count": 5
        }
      ]
    },
    {
      "cell_type": "code",
      "source": [
        "mask2= (m1>6)\n",
        "mask2"
      ],
      "metadata": {
        "colab": {
          "base_uri": "https://localhost:8080/"
        },
        "id": "IJmgBBeyKzJF",
        "outputId": "f4e4b348-324c-40b6-f124-a61192d990be"
      },
      "execution_count": null,
      "outputs": [
        {
          "output_type": "execute_result",
          "data": {
            "text/plain": [
              "array([[False, False, False, False],\n",
              "       [False, False,  True,  True],\n",
              "       [ True,  True,  True,  True]])"
            ]
          },
          "metadata": {},
          "execution_count": 6
        }
      ]
    },
    {
      "cell_type": "code",
      "source": [
        "# Fancy Indexing\n",
        "# gives me values based on the condition in the mask\n",
        "m1[mask2]"
      ],
      "metadata": {
        "colab": {
          "base_uri": "https://localhost:8080/"
        },
        "id": "gd17aUppKzLg",
        "outputId": "a865dc1d-336d-4e8b-d570-4e8a05de11fe"
      },
      "execution_count": null,
      "outputs": [
        {
          "output_type": "execute_result",
          "data": {
            "text/plain": [
              "array([ 7,  8,  9, 10, 11, 12])"
            ]
          },
          "metadata": {},
          "execution_count": 7
        }
      ]
    },
    {
      "cell_type": "code",
      "source": [
        "\n",
        "m1"
      ],
      "metadata": {
        "colab": {
          "base_uri": "https://localhost:8080/"
        },
        "id": "8Wv3Kj3pKzNq",
        "outputId": "afcef050-61be-44e6-df84-da4e3947ebc4"
      },
      "execution_count": null,
      "outputs": [
        {
          "output_type": "execute_result",
          "data": {
            "text/plain": [
              "array([[ 1,  2,  3,  4],\n",
              "       [ 5,  6,  7,  8],\n",
              "       [ 9, 10, 11, 12]])"
            ]
          },
          "metadata": {},
          "execution_count": 8
        }
      ]
    },
    {
      "cell_type": "code",
      "source": [
        "# IMPORTANT\n",
        "# multiple conditions can be passed\n",
        "# \"|\"\" is used for \"OR\" and \"&\" is used as \"AND\"\n",
        "\n",
        "mask3= ((m1<3) | (m1>6))\n",
        "m1[mask3]"
      ],
      "metadata": {
        "colab": {
          "base_uri": "https://localhost:8080/"
        },
        "id": "1lAv-iHiKzP7",
        "outputId": "3c008090-70ee-4566-cb65-2da54cad031c"
      },
      "execution_count": null,
      "outputs": [
        {
          "output_type": "execute_result",
          "data": {
            "text/plain": [
              "array([ 1,  2,  7,  8,  9, 10, 11, 12])"
            ]
          },
          "metadata": {},
          "execution_count": 9
        }
      ]
    },
    {
      "cell_type": "code",
      "source": [
        "mask3= ((m1<3) & (m1>6))\n",
        "m1[mask3]"
      ],
      "metadata": {
        "colab": {
          "base_uri": "https://localhost:8080/"
        },
        "id": "Zkrreq0bKzSW",
        "outputId": "fb78d6e9-ccde-479e-b352-62eeb8070cd6"
      },
      "execution_count": null,
      "outputs": [
        {
          "output_type": "execute_result",
          "data": {
            "text/plain": [
              "array([], dtype=int64)"
            ]
          },
          "metadata": {},
          "execution_count": 10
        }
      ]
    },
    {
      "cell_type": "code",
      "source": [
        "# Element wise addition\n",
        "m1=m1+2"
      ],
      "metadata": {
        "id": "fGnO7ADUKzUz"
      },
      "execution_count": null,
      "outputs": []
    },
    {
      "cell_type": "code",
      "source": [
        "m1"
      ],
      "metadata": {
        "colab": {
          "base_uri": "https://localhost:8080/"
        },
        "id": "zQ7F8NgDKzXC",
        "outputId": "71a0b068-427f-4834-85f3-5550863a5061"
      },
      "execution_count": null,
      "outputs": [
        {
          "output_type": "execute_result",
          "data": {
            "text/plain": [
              "array([[ 3,  4,  5,  6],\n",
              "       [ 7,  8,  9, 10],\n",
              "       [11, 12, 13, 14]])"
            ]
          },
          "metadata": {},
          "execution_count": 12
        }
      ]
    },
    {
      "cell_type": "code",
      "source": [
        "m2=np.arange(1,13).reshape((3,4))"
      ],
      "metadata": {
        "id": "27cFnK98KzZU"
      },
      "execution_count": null,
      "outputs": []
    },
    {
      "cell_type": "code",
      "source": [
        "\n",
        "m2[((m2<3) | (m2>6))]"
      ],
      "metadata": {
        "colab": {
          "base_uri": "https://localhost:8080/"
        },
        "id": "n6pOTw6wKzbo",
        "outputId": "7ff6cc11-09ba-41b7-9b4c-6ae452bd504b"
      },
      "execution_count": null,
      "outputs": [
        {
          "output_type": "execute_result",
          "data": {
            "text/plain": [
              "array([ 1,  2,  7,  8,  9, 10, 11, 12])"
            ]
          },
          "metadata": {},
          "execution_count": 14
        }
      ]
    },
    {
      "cell_type": "code",
      "source": [
        "# IMPORTANT - Comparing two arrays\n",
        "\n",
        "a=np.arange(1,13).reshape((3,4))\n",
        "b=np.arange(1,13).reshape((3,4))\n",
        "print(a)\n",
        "print(b)\n",
        "\n",
        "# checking whether all elements of a are equal to corresponding elements of b\n",
        "print(a==b)"
      ],
      "metadata": {
        "colab": {
          "base_uri": "https://localhost:8080/"
        },
        "id": "ezjEpRnRRiiN",
        "outputId": "ad6ad226-69b9-4e63-9eda-f1030fe2582b"
      },
      "execution_count": null,
      "outputs": [
        {
          "output_type": "stream",
          "name": "stdout",
          "text": [
            "[[ 1  2  3  4]\n",
            " [ 5  6  7  8]\n",
            " [ 9 10 11 12]]\n",
            "[[ 1  2  3  4]\n",
            " [ 5  6  7  8]\n",
            " [ 9 10 11 12]]\n",
            "[[ True  True  True  True]\n",
            " [ True  True  True  True]\n",
            " [ True  True  True  True]]\n"
          ]
        }
      ]
    },
    {
      "cell_type": "code",
      "source": [
        "a=np.arange(1,13).reshape((3,4))\n",
        "b=np.arange(1,13).reshape((2,6))\n",
        "# print(a)\n",
        "# print(b)\n",
        "\n",
        "a==b"
      ],
      "metadata": {
        "colab": {
          "base_uri": "https://localhost:8080/"
        },
        "id": "IkNUtK50SMfr",
        "outputId": "77c84d12-3d6a-4664-95d1-dc0d898d8c05"
      },
      "execution_count": null,
      "outputs": [
        {
          "output_type": "stream",
          "name": "stderr",
          "text": [
            "/usr/local/lib/python3.7/dist-packages/ipykernel_launcher.py:6: DeprecationWarning: elementwise comparison failed; this will raise an error in the future.\n",
            "  \n"
          ]
        },
        {
          "output_type": "execute_result",
          "data": {
            "text/plain": [
              "False"
            ]
          },
          "metadata": {},
          "execution_count": 16
        }
      ]
    },
    {
      "cell_type": "code",
      "source": [
        "# IMPORTANT - Comparing two arrays\n",
        "\n",
        "a = np.array([0,2,3])\n",
        "b = np.array([1,3,5])\n",
        "a>=b\n",
        "# 2 arrays can be compared"
      ],
      "metadata": {
        "colab": {
          "base_uri": "https://localhost:8080/"
        },
        "id": "uT7s8bi0Sc2K",
        "outputId": "3c7f9826-b55d-4fa3-9840-33a30eb40d13"
      },
      "execution_count": null,
      "outputs": [
        {
          "output_type": "execute_result",
          "data": {
            "text/plain": [
              "array([False, False, False])"
            ]
          },
          "metadata": {},
          "execution_count": 17
        }
      ]
    },
    {
      "cell_type": "code",
      "source": [
        "m3=np.arange(1,13).reshape((3,4))\n",
        "m3"
      ],
      "metadata": {
        "colab": {
          "base_uri": "https://localhost:8080/"
        },
        "id": "LxagigkaTIxM",
        "outputId": "0cb9caec-babe-449f-b8d7-b936864a9ae8"
      },
      "execution_count": null,
      "outputs": [
        {
          "output_type": "execute_result",
          "data": {
            "text/plain": [
              "array([[ 1,  2,  3,  4],\n",
              "       [ 5,  6,  7,  8],\n",
              "       [ 9, 10, 11, 12]])"
            ]
          },
          "metadata": {},
          "execution_count": 18
        }
      ]
    },
    {
      "cell_type": "code",
      "source": [
        "# IMPORTANT - Replacing based on some condition\n",
        "# replacing all the values less than 6 with 99 using masking\n",
        "m3[m3<6]=99"
      ],
      "metadata": {
        "id": "2w3j_5wpTIzs"
      },
      "execution_count": null,
      "outputs": []
    },
    {
      "cell_type": "code",
      "source": [
        "m3"
      ],
      "metadata": {
        "colab": {
          "base_uri": "https://localhost:8080/"
        },
        "id": "84On_g5-TI2R",
        "outputId": "426f2512-c792-4966-fe9e-6b6167701eee"
      },
      "execution_count": null,
      "outputs": [
        {
          "output_type": "execute_result",
          "data": {
            "text/plain": [
              "array([[99, 99, 99, 99],\n",
              "       [99,  6,  7,  8],\n",
              "       [ 9, 10, 11, 12]])"
            ]
          },
          "metadata": {},
          "execution_count": 20
        }
      ]
    },
    {
      "cell_type": "code",
      "source": [
        "m4 =np.array([0,1,2,3,4,5])\n"
      ],
      "metadata": {
        "id": "768S8xFUTI4u"
      },
      "execution_count": null,
      "outputs": []
    },
    {
      "cell_type": "code",
      "source": [
        "mask=(m4%2==0)\n",
        "print(mask)\n"
      ],
      "metadata": {
        "colab": {
          "base_uri": "https://localhost:8080/"
        },
        "id": "mpMepP-tTI7Z",
        "outputId": "de3af122-ea34-4fe9-d373-6c6efe7e6a30"
      },
      "execution_count": null,
      "outputs": [
        {
          "output_type": "stream",
          "name": "stdout",
          "text": [
            "[ True False  True False  True False]\n"
          ]
        }
      ]
    },
    {
      "cell_type": "code",
      "source": [
        "m4[mask]=-1\n",
        "print(m4)"
      ],
      "metadata": {
        "colab": {
          "base_uri": "https://localhost:8080/"
        },
        "id": "o-neD-K_Uash",
        "outputId": "f020be39-62cf-475d-9d23-3ff3d3ad4362"
      },
      "execution_count": null,
      "outputs": [
        {
          "output_type": "stream",
          "name": "stdout",
          "text": [
            "[-1  1 -1  3 -1  5]\n"
          ]
        }
      ]
    },
    {
      "cell_type": "code",
      "source": [
        "# aggregate/universal functions"
      ],
      "metadata": {
        "id": "akxSVVb6UfKS"
      },
      "execution_count": null,
      "outputs": []
    },
    {
      "cell_type": "code",
      "source": [
        "a = np.array([0,2,3])\n",
        "b = np.array([1,3,5])\n",
        "\n",
        "a+b"
      ],
      "metadata": {
        "colab": {
          "base_uri": "https://localhost:8080/"
        },
        "id": "LaLMYf1JU7DX",
        "outputId": "6cfa387b-d8d1-494f-8e1c-3adf954e6bcf"
      },
      "execution_count": null,
      "outputs": [
        {
          "output_type": "execute_result",
          "data": {
            "text/plain": [
              "array([1, 5, 8])"
            ]
          },
          "metadata": {},
          "execution_count": 25
        }
      ]
    },
    {
      "cell_type": "code",
      "source": [
        "# IMPORTANT - Aggregate functions in numpy array\n",
        "# element wise sum of 3 arrays \n",
        "np.add(a,b)"
      ],
      "metadata": {
        "colab": {
          "base_uri": "https://localhost:8080/"
        },
        "id": "HmIWyiD9VRb2",
        "outputId": "7b5114de-28ab-4b60-c01d-74304dd1c132"
      },
      "execution_count": null,
      "outputs": [
        {
          "output_type": "execute_result",
          "data": {
            "text/plain": [
              "array([1, 5, 8])"
            ]
          },
          "metadata": {},
          "execution_count": 26
        }
      ]
    },
    {
      "cell_type": "code",
      "source": [
        "# IMPORTANT - Aggregate functions in numpy array\n",
        "np.divide(a,b)"
      ],
      "metadata": {
        "colab": {
          "base_uri": "https://localhost:8080/"
        },
        "id": "wAOR3HmKVbZ_",
        "outputId": "46b35176-48dc-45da-d20e-d06475d1cc4b"
      },
      "execution_count": null,
      "outputs": [
        {
          "output_type": "execute_result",
          "data": {
            "text/plain": [
              "array([0.        , 0.66666667, 0.6       ])"
            ]
          },
          "metadata": {},
          "execution_count": 27
        }
      ]
    },
    {
      "cell_type": "code",
      "source": [
        "n4=np.arange(1,13).reshape((3,4))\n",
        "n5=np.arange(1,13).reshape((3,4))\n",
        "print(n4)\n",
        "print(n5)\n",
        "np.add(n4,n5)"
      ],
      "metadata": {
        "colab": {
          "base_uri": "https://localhost:8080/"
        },
        "id": "TK3NYF6GVfeP",
        "outputId": "114dfae3-02f5-4553-f608-a453e0f0729d"
      },
      "execution_count": null,
      "outputs": [
        {
          "output_type": "stream",
          "name": "stdout",
          "text": [
            "[[ 1  2  3  4]\n",
            " [ 5  6  7  8]\n",
            " [ 9 10 11 12]]\n",
            "[[ 1  2  3  4]\n",
            " [ 5  6  7  8]\n",
            " [ 9 10 11 12]]\n"
          ]
        },
        {
          "output_type": "execute_result",
          "data": {
            "text/plain": [
              "array([[ 2,  4,  6,  8],\n",
              "       [10, 12, 14, 16],\n",
              "       [18, 20, 22, 24]])"
            ]
          },
          "metadata": {},
          "execution_count": 28
        }
      ]
    },
    {
      "cell_type": "code",
      "source": [
        "n6=np.arange(1,13).reshape((3,4))\n",
        "n6"
      ],
      "metadata": {
        "colab": {
          "base_uri": "https://localhost:8080/"
        },
        "id": "lGm552pYWJ0u",
        "outputId": "a2d89747-5cc3-4c32-f554-0ed862e9b1c7"
      },
      "execution_count": null,
      "outputs": [
        {
          "output_type": "execute_result",
          "data": {
            "text/plain": [
              "array([[ 1,  2,  3,  4],\n",
              "       [ 5,  6,  7,  8],\n",
              "       [ 9, 10, 11, 12]])"
            ]
          },
          "metadata": {},
          "execution_count": 29
        }
      ]
    },
    {
      "cell_type": "code",
      "source": [
        "# IMPORTANT\n",
        "# returns sum of all the elements\n",
        "np.sum(n6)"
      ],
      "metadata": {
        "colab": {
          "base_uri": "https://localhost:8080/"
        },
        "id": "4jaYgddVWc6z",
        "outputId": "c895550e-a758-422f-f95f-e9f4161b6dfb"
      },
      "execution_count": null,
      "outputs": [
        {
          "output_type": "execute_result",
          "data": {
            "text/plain": [
              "78"
            ]
          },
          "metadata": {},
          "execution_count": 30
        }
      ]
    },
    {
      "cell_type": "code",
      "source": [
        "# IMPORTANT\n",
        "# returns sum across horizontal direction ( row wise summation)\n",
        "np.sum(n6,axis=1)"
      ],
      "metadata": {
        "colab": {
          "base_uri": "https://localhost:8080/"
        },
        "id": "qs_fADQXWc9O",
        "outputId": "101c1189-92b8-4fd4-a53f-02c8f8d975d5"
      },
      "execution_count": null,
      "outputs": [
        {
          "output_type": "execute_result",
          "data": {
            "text/plain": [
              "array([10, 26, 42])"
            ]
          },
          "metadata": {},
          "execution_count": 31
        }
      ]
    },
    {
      "cell_type": "code",
      "source": [
        "# IMPORTANT\n",
        "# returns sum across vertical direction ( column wise summation)\n",
        "np.sum(n6,axis=0)"
      ],
      "metadata": {
        "colab": {
          "base_uri": "https://localhost:8080/"
        },
        "id": "topyGKRBWc_p",
        "outputId": "8f0c81ab-3c5b-42bc-b881-6639219d8e36"
      },
      "execution_count": null,
      "outputs": [
        {
          "output_type": "execute_result",
          "data": {
            "text/plain": [
              "array([15, 18, 21, 24])"
            ]
          },
          "metadata": {},
          "execution_count": 32
        }
      ]
    },
    {
      "cell_type": "code",
      "source": [
        "# IMPORTANT\n",
        "# np.sum(n6,axis=0)\n",
        "n6.sum(axis=0)"
      ],
      "metadata": {
        "colab": {
          "base_uri": "https://localhost:8080/"
        },
        "id": "jpfd_oPmWdCI",
        "outputId": "b36d107b-d075-4f24-9180-814830a7df91"
      },
      "execution_count": null,
      "outputs": [
        {
          "output_type": "execute_result",
          "data": {
            "text/plain": [
              "array([15, 18, 21, 24])"
            ]
          },
          "metadata": {},
          "execution_count": 33
        }
      ]
    },
    {
      "cell_type": "code",
      "source": [
        "# IMPORTANT\n",
        "\n",
        "np.sum(n6[0])"
      ],
      "metadata": {
        "colab": {
          "base_uri": "https://localhost:8080/"
        },
        "id": "w85nDYxjWdEa",
        "outputId": "bd88552c-7f5e-4e08-e464-abb033c7f1a8"
      },
      "execution_count": null,
      "outputs": [
        {
          "output_type": "execute_result",
          "data": {
            "text/plain": [
              "10"
            ]
          },
          "metadata": {},
          "execution_count": 34
        }
      ]
    },
    {
      "cell_type": "code",
      "source": [
        "# IMPORTANT\n",
        "\n",
        "n6[:,0].sum()"
      ],
      "metadata": {
        "colab": {
          "base_uri": "https://localhost:8080/"
        },
        "id": "33xjD08BX34B",
        "outputId": "e3c16ccf-cf9b-400f-f52a-1c88150c9d9c"
      },
      "execution_count": null,
      "outputs": [
        {
          "output_type": "execute_result",
          "data": {
            "text/plain": [
              "15"
            ]
          },
          "metadata": {},
          "execution_count": 35
        }
      ]
    },
    {
      "cell_type": "code",
      "source": [
        "# IMPORTANT\n",
        "\n",
        "np.sum(n6[:,0])"
      ],
      "metadata": {
        "colab": {
          "base_uri": "https://localhost:8080/"
        },
        "id": "rngkPekaYCgP",
        "outputId": "590d0741-78c4-46ae-a4d5-5d9bca2df557"
      },
      "execution_count": null,
      "outputs": [
        {
          "output_type": "execute_result",
          "data": {
            "text/plain": [
              "15"
            ]
          },
          "metadata": {},
          "execution_count": 36
        }
      ]
    },
    {
      "cell_type": "code",
      "source": [
        "# IMPORTANT\n",
        "\n",
        "np.sum(n6[0])"
      ],
      "metadata": {
        "colab": {
          "base_uri": "https://localhost:8080/"
        },
        "id": "lNOuABBkYGff",
        "outputId": "950c14d5-efdd-4a0d-aaf9-32729b263e78"
      },
      "execution_count": null,
      "outputs": [
        {
          "output_type": "execute_result",
          "data": {
            "text/plain": [
              "10"
            ]
          },
          "metadata": {},
          "execution_count": 37
        }
      ]
    },
    {
      "cell_type": "code",
      "source": [
        "n6"
      ],
      "metadata": {
        "colab": {
          "base_uri": "https://localhost:8080/"
        },
        "id": "9YrZOs1LYNVY",
        "outputId": "13462514-563f-4161-c1c3-99d19f67f55a"
      },
      "execution_count": null,
      "outputs": [
        {
          "output_type": "execute_result",
          "data": {
            "text/plain": [
              "array([[ 1,  2,  3,  4],\n",
              "       [ 5,  6,  7,  8],\n",
              "       [ 9, 10, 11, 12]])"
            ]
          },
          "metadata": {},
          "execution_count": 38
        }
      ]
    },
    {
      "cell_type": "code",
      "source": [
        "# IMPORTANT\n",
        "\n",
        "n6.sum(axis=0)"
      ],
      "metadata": {
        "colab": {
          "base_uri": "https://localhost:8080/"
        },
        "id": "5_t_hZdOYRum",
        "outputId": "f52bd75c-9781-4cc7-ca4a-4a515e506cba"
      },
      "execution_count": null,
      "outputs": [
        {
          "output_type": "execute_result",
          "data": {
            "text/plain": [
              "array([15, 18, 21, 24])"
            ]
          },
          "metadata": {},
          "execution_count": 39
        }
      ]
    },
    {
      "cell_type": "code",
      "source": [
        "# IMPORTANT\n",
        "\n",
        "n6.sum(axis=1)"
      ],
      "metadata": {
        "colab": {
          "base_uri": "https://localhost:8080/"
        },
        "id": "tsCe0qbnYUfm",
        "outputId": "020fe097-6e0b-473f-adbb-87e7da20d850"
      },
      "execution_count": null,
      "outputs": [
        {
          "output_type": "execute_result",
          "data": {
            "text/plain": [
              "array([10, 26, 42])"
            ]
          },
          "metadata": {},
          "execution_count": 40
        }
      ]
    },
    {
      "cell_type": "code",
      "source": [
        "n7=np.arange(1,13).reshape((3,4))\n",
        "n7"
      ],
      "metadata": {
        "colab": {
          "base_uri": "https://localhost:8080/"
        },
        "id": "fjONCn6RYVuV",
        "outputId": "02dcb111-1115-4060-dae3-f696acc563f3"
      },
      "execution_count": null,
      "outputs": [
        {
          "output_type": "execute_result",
          "data": {
            "text/plain": [
              "array([[ 1,  2,  3,  4],\n",
              "       [ 5,  6,  7,  8],\n",
              "       [ 9, 10, 11, 12]])"
            ]
          },
          "metadata": {},
          "execution_count": 41
        }
      ]
    },
    {
      "cell_type": "code",
      "source": [
        "np.mean(n7,axis=1)"
      ],
      "metadata": {
        "colab": {
          "base_uri": "https://localhost:8080/"
        },
        "id": "QuljLh81Yoqb",
        "outputId": "15fbf317-304a-4cbc-bf99-45478b7dfe29"
      },
      "execution_count": null,
      "outputs": [
        {
          "output_type": "execute_result",
          "data": {
            "text/plain": [
              "array([ 2.5,  6.5, 10.5])"
            ]
          },
          "metadata": {},
          "execution_count": 42
        }
      ]
    },
    {
      "cell_type": "code",
      "source": [
        "np.mean(n7,axis=0)"
      ],
      "metadata": {
        "colab": {
          "base_uri": "https://localhost:8080/"
        },
        "id": "BVljDemTYzBA",
        "outputId": "0b9b7205-3322-4922-cf1d-2b78380b4467"
      },
      "execution_count": null,
      "outputs": [
        {
          "output_type": "execute_result",
          "data": {
            "text/plain": [
              "array([5., 6., 7., 8.])"
            ]
          },
          "metadata": {},
          "execution_count": 43
        }
      ]
    },
    {
      "cell_type": "code",
      "source": [
        "m7=np.arange(1,10).reshape((3,3))\n",
        "m7"
      ],
      "metadata": {
        "colab": {
          "base_uri": "https://localhost:8080/"
        },
        "id": "38jU1ejAY2wZ",
        "outputId": "e8a9bf28-9601-4a18-bdaa-0fad5fbb7401"
      },
      "execution_count": null,
      "outputs": [
        {
          "output_type": "execute_result",
          "data": {
            "text/plain": [
              "array([[1, 2, 3],\n",
              "       [4, 5, 6],\n",
              "       [7, 8, 9]])"
            ]
          },
          "metadata": {},
          "execution_count": 44
        }
      ]
    },
    {
      "cell_type": "code",
      "source": [
        "np.max(m7,axis=0)"
      ],
      "metadata": {
        "colab": {
          "base_uri": "https://localhost:8080/"
        },
        "id": "9axOvne7ZdK-",
        "outputId": "82fc726c-2a53-4483-d043-dc0e5ad2feeb"
      },
      "execution_count": null,
      "outputs": [
        {
          "output_type": "execute_result",
          "data": {
            "text/plain": [
              "array([7, 8, 9])"
            ]
          },
          "metadata": {},
          "execution_count": 45
        }
      ]
    },
    {
      "cell_type": "code",
      "source": [
        "np.max(m7,axis=1)"
      ],
      "metadata": {
        "colab": {
          "base_uri": "https://localhost:8080/"
        },
        "id": "tBpF-ybbZn4a",
        "outputId": "9af8c448-6ae9-41f7-9e60-2502cb0740f6"
      },
      "execution_count": null,
      "outputs": [
        {
          "output_type": "execute_result",
          "data": {
            "text/plain": [
              "array([3, 6, 9])"
            ]
          },
          "metadata": {},
          "execution_count": 46
        }
      ]
    },
    {
      "cell_type": "code",
      "source": [
        "np.min(m7,axis=0)"
      ],
      "metadata": {
        "colab": {
          "base_uri": "https://localhost:8080/"
        },
        "id": "UbrFClW9Zvrx",
        "outputId": "958a3aed-edf3-4cc4-ceab-8512d68b22b3"
      },
      "execution_count": null,
      "outputs": [
        {
          "output_type": "execute_result",
          "data": {
            "text/plain": [
              "array([1, 2, 3])"
            ]
          },
          "metadata": {},
          "execution_count": 47
        }
      ]
    },
    {
      "cell_type": "code",
      "source": [
        "np.min(m7,axis=1)"
      ],
      "metadata": {
        "colab": {
          "base_uri": "https://localhost:8080/"
        },
        "id": "PRvKjtGSZ1x0",
        "outputId": "01224175-2d1c-4f5e-eb6c-67c786c84948"
      },
      "execution_count": null,
      "outputs": [
        {
          "output_type": "execute_result",
          "data": {
            "text/plain": [
              "array([1, 4, 7])"
            ]
          },
          "metadata": {},
          "execution_count": 48
        }
      ]
    },
    {
      "cell_type": "code",
      "source": [
        "np.max(m7)"
      ],
      "metadata": {
        "colab": {
          "base_uri": "https://localhost:8080/"
        },
        "id": "rC0xFdrjZ7Np",
        "outputId": "a7e70590-2de0-42d2-b2a4-e239e205896b"
      },
      "execution_count": null,
      "outputs": [
        {
          "output_type": "execute_result",
          "data": {
            "text/plain": [
              "9"
            ]
          },
          "metadata": {},
          "execution_count": 49
        }
      ]
    },
    {
      "cell_type": "code",
      "source": [
        "# IMPORTANT\n",
        "\n",
        "# Usage of np.any function\n",
        "# returns True for atleast one non zero value\n",
        "m8=np.array([0,0,1])\n",
        "np.any(m8)"
      ],
      "metadata": {
        "colab": {
          "base_uri": "https://localhost:8080/"
        },
        "id": "Pi0gQp0GaEIq",
        "outputId": "193f60c2-2d50-445d-a02b-ae0afb028ea6"
      },
      "execution_count": null,
      "outputs": [
        {
          "output_type": "execute_result",
          "data": {
            "text/plain": [
              "True"
            ]
          },
          "metadata": {},
          "execution_count": 50
        }
      ]
    },
    {
      "cell_type": "code",
      "source": [
        "m8=np.array([0,0,0])\n",
        "np.any(m8)"
      ],
      "metadata": {
        "colab": {
          "base_uri": "https://localhost:8080/"
        },
        "id": "6Y_-1uQ7aa4P",
        "outputId": "63e3e508-b63b-4f29-da74-de36c40265e8"
      },
      "execution_count": null,
      "outputs": [
        {
          "output_type": "execute_result",
          "data": {
            "text/plain": [
              "False"
            ]
          },
          "metadata": {},
          "execution_count": 51
        }
      ]
    },
    {
      "cell_type": "code",
      "source": [
        "m8=np.array([True,False,False])\n",
        "np.any(m8)"
      ],
      "metadata": {
        "colab": {
          "base_uri": "https://localhost:8080/"
        },
        "id": "V4IrMmNgaiIn",
        "outputId": "0dbedc3e-69ca-4e96-fca8-de11392d6dff"
      },
      "execution_count": null,
      "outputs": [
        {
          "output_type": "execute_result",
          "data": {
            "text/plain": [
              "True"
            ]
          },
          "metadata": {},
          "execution_count": 52
        }
      ]
    },
    {
      "cell_type": "code",
      "source": [
        "a=np.array([1,2,3,4])\n",
        "b=np.array([4,3,2,1])\n"
      ],
      "metadata": {
        "id": "YbrTRFh7a1gu"
      },
      "execution_count": null,
      "outputs": []
    },
    {
      "cell_type": "code",
      "source": [
        "a<b"
      ],
      "metadata": {
        "colab": {
          "base_uri": "https://localhost:8080/"
        },
        "id": "jxkQsgZ3bF3O",
        "outputId": "eef3ee26-5a70-4885-e48d-e49b87db2cf7"
      },
      "execution_count": null,
      "outputs": [
        {
          "output_type": "execute_result",
          "data": {
            "text/plain": [
              "array([ True,  True, False, False])"
            ]
          },
          "metadata": {},
          "execution_count": 54
        }
      ]
    },
    {
      "cell_type": "code",
      "source": [
        "np.any(a<b)"
      ],
      "metadata": {
        "colab": {
          "base_uri": "https://localhost:8080/"
        },
        "id": "KsPh9CzXbKLF",
        "outputId": "0f3d0ac2-5b82-401b-a931-911f4f4798a4"
      },
      "execution_count": null,
      "outputs": [
        {
          "output_type": "execute_result",
          "data": {
            "text/plain": [
              "True"
            ]
          },
          "metadata": {},
          "execution_count": 55
        }
      ]
    },
    {
      "cell_type": "code",
      "source": [
        "np.any([0,0,-1])"
      ],
      "metadata": {
        "colab": {
          "base_uri": "https://localhost:8080/"
        },
        "id": "XRBq0ONObSa1",
        "outputId": "cd9b48a8-de31-4cd6-c4e8-d1fa2c80cfd0"
      },
      "execution_count": null,
      "outputs": [
        {
          "output_type": "execute_result",
          "data": {
            "text/plain": [
              "True"
            ]
          },
          "metadata": {},
          "execution_count": 56
        }
      ]
    },
    {
      "cell_type": "code",
      "source": [
        "a=np.array([[1, 2, 3],\n",
        " [4, 6, 6],\n",
        " [7, 8, 9]])\n",
        "\n",
        "b=np.array([[1, 2, 3],\n",
        " [4, 5, 6],\n",
        " [7, 8, 9]])\n",
        "# a>b\n",
        "print(np.any(a>b))"
      ],
      "metadata": {
        "colab": {
          "base_uri": "https://localhost:8080/"
        },
        "id": "z0P4LtxjblBH",
        "outputId": "b05928bc-6066-41dd-be73-0dc63adcd3e1"
      },
      "execution_count": null,
      "outputs": [
        {
          "output_type": "stream",
          "name": "stdout",
          "text": [
            "True\n"
          ]
        }
      ]
    },
    {
      "cell_type": "code",
      "source": [
        "a=np.array([[1, 2, 3],\n",
        " [4, 6, 6],\n",
        " [7, 8, 9]])\n",
        "print(a%2==0)\n",
        "np.any(a%2==0)"
      ],
      "metadata": {
        "colab": {
          "base_uri": "https://localhost:8080/"
        },
        "id": "guwMihwsb70S",
        "outputId": "e5c25e06-2ff5-401f-f556-2622e60b648c"
      },
      "execution_count": null,
      "outputs": [
        {
          "output_type": "stream",
          "name": "stdout",
          "text": [
            "[[False  True False]\n",
            " [ True  True  True]\n",
            " [False  True False]]\n"
          ]
        },
        {
          "output_type": "execute_result",
          "data": {
            "text/plain": [
              "True"
            ]
          },
          "metadata": {},
          "execution_count": 58
        }
      ]
    },
    {
      "cell_type": "code",
      "source": [
        "# np.all()"
      ],
      "metadata": {
        "id": "jgc98brhcIrw"
      },
      "execution_count": null,
      "outputs": []
    },
    {
      "cell_type": "code",
      "source": [],
      "metadata": {
        "id": "4PqIX1UPchPC"
      },
      "execution_count": null,
      "outputs": []
    },
    {
      "cell_type": "code",
      "source": [
        "a=np.array([1,2,3,4])\n",
        "b=np.array([4,3,2,1])\n",
        "c=np.array([1,1,1,1])\n"
      ],
      "metadata": {
        "id": "NiN-9jOwchRc"
      },
      "execution_count": null,
      "outputs": []
    },
    {
      "cell_type": "code",
      "source": [
        "a<b"
      ],
      "metadata": {
        "colab": {
          "base_uri": "https://localhost:8080/"
        },
        "id": "rRvARTWZchTd",
        "outputId": "257cadf1-0b93-4e25-944f-02d4143b9628"
      },
      "execution_count": null,
      "outputs": [
        {
          "output_type": "execute_result",
          "data": {
            "text/plain": [
              "array([ True,  True, False, False])"
            ]
          },
          "metadata": {},
          "execution_count": 61
        }
      ]
    },
    {
      "cell_type": "code",
      "source": [
        "# IMPORTANT\n",
        "# np.all \n",
        "# returns True only if all the elements are non zero\n",
        "\n",
        "np.all(a<b)"
      ],
      "metadata": {
        "colab": {
          "base_uri": "https://localhost:8080/"
        },
        "id": "bxZls_-HchVv",
        "outputId": "46654e30-4f93-4a4b-d433-d73e46bf3dcc"
      },
      "execution_count": null,
      "outputs": [
        {
          "output_type": "execute_result",
          "data": {
            "text/plain": [
              "False"
            ]
          },
          "metadata": {},
          "execution_count": 62
        }
      ]
    },
    {
      "cell_type": "code",
      "source": [
        "(a<b)|(a>c)\n"
      ],
      "metadata": {
        "colab": {
          "base_uri": "https://localhost:8080/"
        },
        "id": "0EsE_6t1dCYR",
        "outputId": "a828385f-1ec2-4155-ef90-4a6a73608ddc"
      },
      "execution_count": null,
      "outputs": [
        {
          "output_type": "execute_result",
          "data": {
            "text/plain": [
              "array([ True,  True,  True,  True])"
            ]
          },
          "metadata": {},
          "execution_count": 63
        }
      ]
    },
    {
      "cell_type": "code",
      "source": [
        "np.all((a<b)|(a>c))"
      ],
      "metadata": {
        "colab": {
          "base_uri": "https://localhost:8080/"
        },
        "id": "xVCZlVA3chYE",
        "outputId": "3a581946-5cf4-494c-e0d8-4a930dc759e0"
      },
      "execution_count": null,
      "outputs": [
        {
          "output_type": "execute_result",
          "data": {
            "text/plain": [
              "True"
            ]
          },
          "metadata": {},
          "execution_count": 64
        }
      ]
    },
    {
      "cell_type": "code",
      "source": [
        "(a<b)&(a>c)"
      ],
      "metadata": {
        "colab": {
          "base_uri": "https://localhost:8080/"
        },
        "id": "TVWPQmiqdIYa",
        "outputId": "018bac5e-11af-4528-caad-d45b396fa4df"
      },
      "execution_count": null,
      "outputs": [
        {
          "output_type": "execute_result",
          "data": {
            "text/plain": [
              "array([False,  True, False, False])"
            ]
          },
          "metadata": {},
          "execution_count": 65
        }
      ]
    },
    {
      "cell_type": "code",
      "source": [
        "m10=np.array([3,5,6,78,7,9,4])\n"
      ],
      "metadata": {
        "id": "VSAHZhjAdWBS"
      },
      "execution_count": null,
      "outputs": []
    },
    {
      "cell_type": "code",
      "source": [
        "# IMPORTANT\n",
        "# gives us sorted array\n",
        "np.sort(m10)"
      ],
      "metadata": {
        "colab": {
          "base_uri": "https://localhost:8080/"
        },
        "id": "YdrpU_eEdmcS",
        "outputId": "6e533f44-b253-42f5-e059-8e0b6d58e4fc"
      },
      "execution_count": null,
      "outputs": [
        {
          "output_type": "execute_result",
          "data": {
            "text/plain": [
              "array([ 3,  4,  5,  6,  7,  9, 78])"
            ]
          },
          "metadata": {},
          "execution_count": 67
        }
      ]
    },
    {
      "cell_type": "code",
      "source": [
        "# IMPORTANT\n",
        "# returns list of indexes of elements in the original list after sorting.\n",
        "np.argsort(m10)"
      ],
      "metadata": {
        "colab": {
          "base_uri": "https://localhost:8080/"
        },
        "id": "gjReJuGNdpFI",
        "outputId": "c8a690ce-433d-460e-b188-6dd0b5232254"
      },
      "execution_count": null,
      "outputs": [
        {
          "output_type": "execute_result",
          "data": {
            "text/plain": [
              "array([0, 6, 1, 2, 4, 5, 3])"
            ]
          },
          "metadata": {},
          "execution_count": 68
        }
      ]
    },
    {
      "cell_type": "code",
      "source": [
        "m11=np.array([[10,4,3],[7,5,6],[9,8,7]])"
      ],
      "metadata": {
        "id": "GprjC-0Fd4vo"
      },
      "execution_count": null,
      "outputs": []
    },
    {
      "cell_type": "code",
      "source": [
        "m11"
      ],
      "metadata": {
        "colab": {
          "base_uri": "https://localhost:8080/"
        },
        "id": "k65XzAbMeuXw",
        "outputId": "d1b06482-5cd2-49fb-9c30-bc5190c41772"
      },
      "execution_count": null,
      "outputs": [
        {
          "output_type": "execute_result",
          "data": {
            "text/plain": [
              "array([[10,  4,  3],\n",
              "       [ 7,  5,  6],\n",
              "       [ 9,  8,  7]])"
            ]
          },
          "metadata": {},
          "execution_count": 70
        }
      ]
    },
    {
      "cell_type": "code",
      "source": [
        "# sorts the 2D array column wise\n",
        "np.sort(m11,axis=0)"
      ],
      "metadata": {
        "colab": {
          "base_uri": "https://localhost:8080/"
        },
        "id": "j32IOG1bev_9",
        "outputId": "32e94c3b-a278-4274-e534-e6d636802081"
      },
      "execution_count": null,
      "outputs": [
        {
          "output_type": "execute_result",
          "data": {
            "text/plain": [
              "array([[ 7,  4,  3],\n",
              "       [ 9,  5,  6],\n",
              "       [10,  8,  7]])"
            ]
          },
          "metadata": {},
          "execution_count": 71
        }
      ]
    },
    {
      "cell_type": "code",
      "source": [
        "# sorts the 2D array row wise\n",
        "np.sort(m11,axis=1)"
      ],
      "metadata": {
        "colab": {
          "base_uri": "https://localhost:8080/"
        },
        "id": "Ld_c9IGke_vO",
        "outputId": "dea4c7bd-2bbd-428f-cc20-bd4744630168"
      },
      "execution_count": null,
      "outputs": [
        {
          "output_type": "execute_result",
          "data": {
            "text/plain": [
              "array([[ 3,  4, 10],\n",
              "       [ 5,  6,  7],\n",
              "       [ 7,  8,  9]])"
            ]
          },
          "metadata": {},
          "execution_count": 72
        }
      ]
    },
    {
      "cell_type": "code",
      "source": [
        "np.sort(m11)"
      ],
      "metadata": {
        "colab": {
          "base_uri": "https://localhost:8080/"
        },
        "id": "dxXgpjmXfdts",
        "outputId": "bd05a0b8-50f8-44bb-a5df-8ae20814bf85"
      },
      "execution_count": null,
      "outputs": [
        {
          "output_type": "execute_result",
          "data": {
            "text/plain": [
              "array([[ 3,  4, 10],\n",
              "       [ 5,  6,  7],\n",
              "       [ 7,  8,  9]])"
            ]
          },
          "metadata": {},
          "execution_count": 73
        }
      ]
    },
    {
      "cell_type": "code",
      "source": [
        "a = np.array([[23,4,43],\n",
        "              [12,89,3],\n",
        "              [69,420,0]])\n",
        "\n",
        "b = np.sort(a)"
      ],
      "metadata": {
        "id": "gEBUUXG-f8-Y"
      },
      "execution_count": null,
      "outputs": []
    },
    {
      "cell_type": "code",
      "source": [
        "b"
      ],
      "metadata": {
        "colab": {
          "base_uri": "https://localhost:8080/"
        },
        "id": "KetWYeeYgtZY",
        "outputId": "c64ddfd8-f91b-46fb-eba2-bdbf2d9aa4e9"
      },
      "execution_count": null,
      "outputs": [
        {
          "output_type": "execute_result",
          "data": {
            "text/plain": [
              "array([[  4,  23,  43],\n",
              "       [  3,  12,  89],\n",
              "       [  0,  69, 420]])"
            ]
          },
          "metadata": {},
          "execution_count": 75
        }
      ]
    },
    {
      "cell_type": "code",
      "source": [],
      "metadata": {
        "id": "G7hMEHGsguAo"
      },
      "execution_count": null,
      "outputs": []
    },
    {
      "cell_type": "code",
      "source": [
        "a=np.array([[1, 2, 3],\n",
        " [4, 5, 6],\n",
        " [7, 8, 9]])\n",
        "\n",
        "b=np.array([[1, 2, 3],\n",
        " [4, 5, 6],\n",
        " [7, 8, 9]])\n",
        "print(a==b)\n",
        "print(np.all(a==b))\n"
      ],
      "metadata": {
        "colab": {
          "base_uri": "https://localhost:8080/"
        },
        "id": "wtDGvLaNiYIA",
        "outputId": "94e5e9db-d4ca-421b-9262-59325eff51e7"
      },
      "execution_count": null,
      "outputs": [
        {
          "output_type": "stream",
          "name": "stdout",
          "text": [
            "[[ True  True  True]\n",
            " [ True  True  True]\n",
            " [ True  True  True]]\n",
            "True\n"
          ]
        }
      ]
    },
    {
      "cell_type": "code",
      "source": [
        "# IMPORTANT\n",
        "# Dataset Location - https://drive.google.com/file/d/1kXqcJo4YzmwF1G2BPoA17CI49TZVHANF/view\n",
        "\n",
        "!gdown 1kXqcJo4YzmwF1G2BPoA17CI49TZVHANF"
      ],
      "metadata": {
        "colab": {
          "base_uri": "https://localhost:8080/"
        },
        "id": "rb5eVj1GiYKc",
        "outputId": "583a9eef-409a-4f10-c8d6-f5674b233232"
      },
      "execution_count": null,
      "outputs": [
        {
          "output_type": "stream",
          "name": "stdout",
          "text": [
            "Downloading...\n",
            "From: https://drive.google.com/uc?id=1kXqcJo4YzmwF1G2BPoA17CI49TZVHANF\n",
            "To: /content/fitness.txt\n",
            "\r  0% 0.00/3.14k [00:00<?, ?B/s]\r100% 3.14k/3.14k [00:00<00:00, 4.18MB/s]\n"
          ]
        }
      ]
    },
    {
      "cell_type": "code",
      "source": [
        "# IMPORTANT\n",
        "# Loading the data set\n",
        "data=np.loadtxt(\"/content/fitness.txt\",dtype='str')"
      ],
      "metadata": {
        "id": "1iPxx3YriYM4"
      },
      "execution_count": null,
      "outputs": []
    },
    {
      "cell_type": "code",
      "source": [
        "# glancing through the data\n",
        "data"
      ],
      "metadata": {
        "colab": {
          "base_uri": "https://localhost:8080/"
        },
        "id": "pE3cNGofiYPM",
        "outputId": "fefff569-50b1-463b-fe8c-57c125bb673e"
      },
      "execution_count": null,
      "outputs": [
        {
          "output_type": "execute_result",
          "data": {
            "text/plain": [
              "array([['06-10-2017', '5464', '200', '181', '5', '0', '66'],\n",
              "       ['07-10-2017', '6041', '100', '197', '8', '0', '66'],\n",
              "       ['08-10-2017', '25', '100', '0', '5', '0', '66'],\n",
              "       ['09-10-2017', '5461', '100', '174', '4', '0', '66'],\n",
              "       ['10-10-2017', '6915', '200', '223', '5', '500', '66'],\n",
              "       ['11-10-2017', '4545', '100', '149', '6', '0', '66'],\n",
              "       ['12-10-2017', '4340', '100', '140', '6', '0', '66'],\n",
              "       ['13-10-2017', '1230', '100', '38', '7', '0', '66'],\n",
              "       ['14-10-2017', '61', '100', '1', '5', '0', '66'],\n",
              "       ['15-10-2017', '1258', '100', '40', '6', '0', '65'],\n",
              "       ['16-10-2017', '3148', '100', '101', '8', '0', '65'],\n",
              "       ['17-10-2017', '4687', '100', '152', '5', '0', '65'],\n",
              "       ['18-10-2017', '4732', '300', '150', '6', '500', '65'],\n",
              "       ['19-10-2017', '3519', '100', '113', '7', '0', '65'],\n",
              "       ['20-10-2017', '1580', '100', '49', '5', '0', '65'],\n",
              "       ['21-10-2017', '2822', '100', '86', '6', '0', '65'],\n",
              "       ['22-10-2017', '181', '100', '6', '8', '0', '65'],\n",
              "       ['23-10-2017', '3158', '200', '99', '5', '0', '65'],\n",
              "       ['24-10-2017', '4383', '200', '143', '4', '0', '64'],\n",
              "       ['25-10-2017', '3881', '200', '125', '5', '0', '64'],\n",
              "       ['26-10-2017', '4037', '200', '129', '6', '0', '64'],\n",
              "       ['27-10-2017', '202', '200', '6', '8', '0', '64'],\n",
              "       ['28-10-2017', '292', '200', '9', '5', '0', '64'],\n",
              "       ['29-10-2017', '330', '300', '10', '6', '0', '64'],\n",
              "       ['30-10-2017', '2209', '200', '72', '5', '0', '64'],\n",
              "       ['31-10-2017', '4550', '300', '150', '8', '500', '64'],\n",
              "       ['01-11-2017', '4435', '300', '141', '5', '0', '64'],\n",
              "       ['02-11-2017', '4779', '300', '156', '4', '0', '64'],\n",
              "       ['03-11-2017', '1831', '300', '57', '5', '0', '64'],\n",
              "       ['04-11-2017', '2255', '300', '72', '4', '0', '64'],\n",
              "       ['05-11-2017', '539', '300', '17', '5', '500', '64'],\n",
              "       ['06-11-2017', '5464', '300', '181', '4', '0', '64'],\n",
              "       ['07-11-2017', '6041', '200', '197', '3', '0', '64'],\n",
              "       ['08-11-2017', '4068', '300', '131', '2', '0', '64'],\n",
              "       ['09-11-2017', '4683', '300', '154', '9', '0', '64'],\n",
              "       ['10-11-2017', '4033', '300', '137', '5', '0', '64'],\n",
              "       ['11-11-2017', '6314', '300', '193', '6', '500', '64'],\n",
              "       ['12-11-2017', '614', '300', '19', '4', '500', '64'],\n",
              "       ['13-11-2017', '3149', '300', '101', '5', '500', '64'],\n",
              "       ['14-11-2017', '4005', '300', '139', '8', '500', '64'],\n",
              "       ['15-11-2017', '4880', '300', '164', '4', '500', '64'],\n",
              "       ['16-11-2017', '4136', '300', '137', '5', '500', '64'],\n",
              "       ['17-11-2017', '705', '300', '22', '6', '500', '64'],\n",
              "       ['18-11-2017', '570', '200', '17', '5', '500', '64'],\n",
              "       ['19-11-2017', '269', '300', '9', '6', '500', '64'],\n",
              "       ['20-11-2017', '4275', '300', '145', '5', '0', '64'],\n",
              "       ['21-11-2017', '5999', '300', '192', '6', '0', '64'],\n",
              "       ['22-11-2017', '4421', '300', '146', '5', '0', '64'],\n",
              "       ['23-11-2017', '6930', '300', '234', '6', '0', '64'],\n",
              "       ['24-11-2017', '5195', '300', '167', '5', '0', '64'],\n",
              "       ['25-11-2017', '546', '300', '16', '6', '0', '64'],\n",
              "       ['26-11-2017', '493', '300', '17', '7', '500', '64'],\n",
              "       ['27-11-2017', '995', '300', '32', '6', '500', '64'],\n",
              "       ['28-11-2017', '1163', '200', '35', '7', '500', '64'],\n",
              "       ['29-11-2017', '6676', '100', '220', '6', '500', '64'],\n",
              "       ['30-11-2017', '3608', '300', '116', '5', '500', '64'],\n",
              "       ['01-12-2017', '774', '300', '23', '6', '500', '64'],\n",
              "       ['02-12-2017', '1421', '300', '44', '7', '500', '64'],\n",
              "       ['03-12-2017', '4064', '300', '131', '8', '500', '64'],\n",
              "       ['04-12-2017', '2725', '300', '86', '8', '500', '64'],\n",
              "       ['05-12-2017', '5934', '300', '194', '7', '500', '64'],\n",
              "       ['06-12-2017', '1867', '300', '60', '8', '500', '64'],\n",
              "       ['07-12-2017', '3721', '100', '121', '5', '500', '64'],\n",
              "       ['08-12-2017', '2374', '200', '76', '4', '0', '64'],\n",
              "       ['09-12-2017', '2909', '200', '93', '3', '500', '64'],\n",
              "       ['10-12-2017', '1648', '100', '53', '3', '500', '64'],\n",
              "       ['11-12-2017', '799', '100', '25', '4', '0', '64'],\n",
              "       ['12-12-2017', '7102', '200', '227', '5', '500', '64'],\n",
              "       ['13-12-2017', '3941', '200', '125', '5', '500', '64'],\n",
              "       ['14-12-2017', '7422', '300', '243', '5', '500', '64'],\n",
              "       ['15-12-2017', '437', '200', '14', '3', '500', '64'],\n",
              "       ['16-12-2017', '1231', '200', '39', '4', '500', '64'],\n",
              "       ['17-12-2017', '1696', '100', '55', '4', '0', '64'],\n",
              "       ['18-12-2017', '4921', '200', '158', '5', '500', '64'],\n",
              "       ['19-12-2017', '221', '100', '7', '5', '500', '64'],\n",
              "       ['20-12-2017', '6500', '200', '213', '5', '500', '64'],\n",
              "       ['21-12-2017', '3575', '200', '116', '5', '500', '64'],\n",
              "       ['22-12-2017', '4061', '100', '129', '5', '0', '64'],\n",
              "       ['23-12-2017', '651', '100', '21', '5', '0', '64'],\n",
              "       ['24-12-2017', '753', '100', '28', '4', '0', '64'],\n",
              "       ['25-12-2017', '518', '100', '16', '3', '0', '64'],\n",
              "       ['26-12-2017', '5537', '300', '180', '4', '500', '64'],\n",
              "       ['27-12-2017', '4108', '200', '138', '5', '500', '64'],\n",
              "       ['28-12-2017', '5376', '300', '176', '5', '500', '64'],\n",
              "       ['29-12-2017', '3066', '200', '99', '4', '500', '64'],\n",
              "       ['30-12-2017', '177', '100', '5', '5', '0', '64'],\n",
              "       ['31-12-2017', '36', '100', '1', '3', '0', '64'],\n",
              "       ['01-01-2018', '299', '100', '10', '3', '0', '64'],\n",
              "       ['02-01-2018', '1447', '200', '47', '3', '0', '64'],\n",
              "       ['03-01-2018', '2599', '200', '84', '2', '0', '64'],\n",
              "       ['04-01-2018', '702', '100', '23', '3', '0', '64'],\n",
              "       ['05-01-2018', '133', '100', '4', '2', '0', '64'],\n",
              "       ['06-01-2018', '153', '300', '0', '8', '0', '64'],\n",
              "       ['07-01-2018', '500', '200', '0', '5', '500', '64'],\n",
              "       ['08-01-2018', '2127', '200', '0', '5', '0', '64'],\n",
              "       ['09-01-2018', '2203', '300', '0', '5', '500', '64']], dtype='<U10')"
            ]
          },
          "metadata": {},
          "execution_count": 79
        }
      ]
    },
    {
      "cell_type": "code",
      "source": [
        "# printing out the first 5 rows\n",
        "data[:5]"
      ],
      "metadata": {
        "colab": {
          "base_uri": "https://localhost:8080/"
        },
        "id": "3Ku49pB4iYRR",
        "outputId": "9b96dac9-4147-4bde-fbb3-a384bd0e037b"
      },
      "execution_count": null,
      "outputs": [
        {
          "output_type": "execute_result",
          "data": {
            "text/plain": [
              "array([['06-10-2017', '5464', '200', '181', '5', '0', '66'],\n",
              "       ['07-10-2017', '6041', '100', '197', '8', '0', '66'],\n",
              "       ['08-10-2017', '25', '100', '0', '5', '0', '66'],\n",
              "       ['09-10-2017', '5461', '100', '174', '4', '0', '66'],\n",
              "       ['10-10-2017', '6915', '200', '223', '5', '500', '66']],\n",
              "      dtype='<U10')"
            ]
          },
          "metadata": {},
          "execution_count": 80
        }
      ]
    },
    {
      "cell_type": "code",
      "source": [
        "# date,step_count,mood,calories_burned,sleep_hours,activity_status,weight"
      ],
      "metadata": {
        "id": "lYpbCCoviYTo"
      },
      "execution_count": null,
      "outputs": []
    },
    {
      "cell_type": "code",
      "source": [
        "data[0]"
      ],
      "metadata": {
        "colab": {
          "base_uri": "https://localhost:8080/"
        },
        "id": "ntDIkryKiYVz",
        "outputId": "6a07bd32-5171-46a5-d429-c11e4d26a8ac"
      },
      "execution_count": null,
      "outputs": [
        {
          "output_type": "execute_result",
          "data": {
            "text/plain": [
              "array(['06-10-2017', '5464', '200', '181', '5', '0', '66'], dtype='<U10')"
            ]
          },
          "metadata": {},
          "execution_count": 82
        }
      ]
    },
    {
      "cell_type": "code",
      "source": [
        "# data"
      ],
      "metadata": {
        "id": "5bsdQgRKiYam"
      },
      "execution_count": null,
      "outputs": []
    },
    {
      "cell_type": "code",
      "source": [
        "# taking transpose of data to get one feature in one row.\n",
        "data=data.T"
      ],
      "metadata": {
        "id": "OkAdejdFiYdA"
      },
      "execution_count": null,
      "outputs": []
    },
    {
      "cell_type": "code",
      "source": [
        "data"
      ],
      "metadata": {
        "colab": {
          "base_uri": "https://localhost:8080/"
        },
        "id": "r25xCVMDmSEk",
        "outputId": "1b0940ae-04d2-4b38-97db-6cdd624f42a1"
      },
      "execution_count": null,
      "outputs": [
        {
          "output_type": "execute_result",
          "data": {
            "text/plain": [
              "array([['06-10-2017', '07-10-2017', '08-10-2017', '09-10-2017',\n",
              "        '10-10-2017', '11-10-2017', '12-10-2017', '13-10-2017',\n",
              "        '14-10-2017', '15-10-2017', '16-10-2017', '17-10-2017',\n",
              "        '18-10-2017', '19-10-2017', '20-10-2017', '21-10-2017',\n",
              "        '22-10-2017', '23-10-2017', '24-10-2017', '25-10-2017',\n",
              "        '26-10-2017', '27-10-2017', '28-10-2017', '29-10-2017',\n",
              "        '30-10-2017', '31-10-2017', '01-11-2017', '02-11-2017',\n",
              "        '03-11-2017', '04-11-2017', '05-11-2017', '06-11-2017',\n",
              "        '07-11-2017', '08-11-2017', '09-11-2017', '10-11-2017',\n",
              "        '11-11-2017', '12-11-2017', '13-11-2017', '14-11-2017',\n",
              "        '15-11-2017', '16-11-2017', '17-11-2017', '18-11-2017',\n",
              "        '19-11-2017', '20-11-2017', '21-11-2017', '22-11-2017',\n",
              "        '23-11-2017', '24-11-2017', '25-11-2017', '26-11-2017',\n",
              "        '27-11-2017', '28-11-2017', '29-11-2017', '30-11-2017',\n",
              "        '01-12-2017', '02-12-2017', '03-12-2017', '04-12-2017',\n",
              "        '05-12-2017', '06-12-2017', '07-12-2017', '08-12-2017',\n",
              "        '09-12-2017', '10-12-2017', '11-12-2017', '12-12-2017',\n",
              "        '13-12-2017', '14-12-2017', '15-12-2017', '16-12-2017',\n",
              "        '17-12-2017', '18-12-2017', '19-12-2017', '20-12-2017',\n",
              "        '21-12-2017', '22-12-2017', '23-12-2017', '24-12-2017',\n",
              "        '25-12-2017', '26-12-2017', '27-12-2017', '28-12-2017',\n",
              "        '29-12-2017', '30-12-2017', '31-12-2017', '01-01-2018',\n",
              "        '02-01-2018', '03-01-2018', '04-01-2018', '05-01-2018',\n",
              "        '06-01-2018', '07-01-2018', '08-01-2018', '09-01-2018'],\n",
              "       ['5464', '6041', '25', '5461', '6915', '4545', '4340', '1230',\n",
              "        '61', '1258', '3148', '4687', '4732', '3519', '1580', '2822',\n",
              "        '181', '3158', '4383', '3881', '4037', '202', '292', '330',\n",
              "        '2209', '4550', '4435', '4779', '1831', '2255', '539', '5464',\n",
              "        '6041', '4068', '4683', '4033', '6314', '614', '3149', '4005',\n",
              "        '4880', '4136', '705', '570', '269', '4275', '5999', '4421',\n",
              "        '6930', '5195', '546', '493', '995', '1163', '6676', '3608',\n",
              "        '774', '1421', '4064', '2725', '5934', '1867', '3721', '2374',\n",
              "        '2909', '1648', '799', '7102', '3941', '7422', '437', '1231',\n",
              "        '1696', '4921', '221', '6500', '3575', '4061', '651', '753',\n",
              "        '518', '5537', '4108', '5376', '3066', '177', '36', '299',\n",
              "        '1447', '2599', '702', '133', '153', '500', '2127', '2203'],\n",
              "       ['200', '100', '100', '100', '200', '100', '100', '100', '100',\n",
              "        '100', '100', '100', '300', '100', '100', '100', '100', '200',\n",
              "        '200', '200', '200', '200', '200', '300', '200', '300', '300',\n",
              "        '300', '300', '300', '300', '300', '200', '300', '300', '300',\n",
              "        '300', '300', '300', '300', '300', '300', '300', '200', '300',\n",
              "        '300', '300', '300', '300', '300', '300', '300', '300', '200',\n",
              "        '100', '300', '300', '300', '300', '300', '300', '300', '100',\n",
              "        '200', '200', '100', '100', '200', '200', '300', '200', '200',\n",
              "        '100', '200', '100', '200', '200', '100', '100', '100', '100',\n",
              "        '300', '200', '300', '200', '100', '100', '100', '200', '200',\n",
              "        '100', '100', '300', '200', '200', '300'],\n",
              "       ['181', '197', '0', '174', '223', '149', '140', '38', '1', '40',\n",
              "        '101', '152', '150', '113', '49', '86', '6', '99', '143', '125',\n",
              "        '129', '6', '9', '10', '72', '150', '141', '156', '57', '72',\n",
              "        '17', '181', '197', '131', '154', '137', '193', '19', '101',\n",
              "        '139', '164', '137', '22', '17', '9', '145', '192', '146', '234',\n",
              "        '167', '16', '17', '32', '35', '220', '116', '23', '44', '131',\n",
              "        '86', '194', '60', '121', '76', '93', '53', '25', '227', '125',\n",
              "        '243', '14', '39', '55', '158', '7', '213', '116', '129', '21',\n",
              "        '28', '16', '180', '138', '176', '99', '5', '1', '10', '47',\n",
              "        '84', '23', '4', '0', '0', '0', '0'],\n",
              "       ['5', '8', '5', '4', '5', '6', '6', '7', '5', '6', '8', '5', '6',\n",
              "        '7', '5', '6', '8', '5', '4', '5', '6', '8', '5', '6', '5', '8',\n",
              "        '5', '4', '5', '4', '5', '4', '3', '2', '9', '5', '6', '4', '5',\n",
              "        '8', '4', '5', '6', '5', '6', '5', '6', '5', '6', '5', '6', '7',\n",
              "        '6', '7', '6', '5', '6', '7', '8', '8', '7', '8', '5', '4', '3',\n",
              "        '3', '4', '5', '5', '5', '3', '4', '4', '5', '5', '5', '5', '5',\n",
              "        '5', '4', '3', '4', '5', '5', '4', '5', '3', '3', '3', '2', '3',\n",
              "        '2', '8', '5', '5', '5'],\n",
              "       ['0', '0', '0', '0', '500', '0', '0', '0', '0', '0', '0', '0',\n",
              "        '500', '0', '0', '0', '0', '0', '0', '0', '0', '0', '0', '0',\n",
              "        '0', '500', '0', '0', '0', '0', '500', '0', '0', '0', '0', '0',\n",
              "        '500', '500', '500', '500', '500', '500', '500', '500', '500',\n",
              "        '0', '0', '0', '0', '0', '0', '500', '500', '500', '500', '500',\n",
              "        '500', '500', '500', '500', '500', '500', '500', '0', '500',\n",
              "        '500', '0', '500', '500', '500', '500', '500', '0', '500', '500',\n",
              "        '500', '500', '0', '0', '0', '0', '500', '500', '500', '500',\n",
              "        '0', '0', '0', '0', '0', '0', '0', '0', '500', '0', '500'],\n",
              "       ['66', '66', '66', '66', '66', '66', '66', '66', '66', '65', '65',\n",
              "        '65', '65', '65', '65', '65', '65', '65', '64', '64', '64', '64',\n",
              "        '64', '64', '64', '64', '64', '64', '64', '64', '64', '64', '64',\n",
              "        '64', '64', '64', '64', '64', '64', '64', '64', '64', '64', '64',\n",
              "        '64', '64', '64', '64', '64', '64', '64', '64', '64', '64', '64',\n",
              "        '64', '64', '64', '64', '64', '64', '64', '64', '64', '64', '64',\n",
              "        '64', '64', '64', '64', '64', '64', '64', '64', '64', '64', '64',\n",
              "        '64', '64', '64', '64', '64', '64', '64', '64', '64', '64', '64',\n",
              "        '64', '64', '64', '64', '64', '64', '64', '64']], dtype='<U10')"
            ]
          },
          "metadata": {},
          "execution_count": 85
        }
      ]
    },
    {
      "cell_type": "code",
      "source": [
        "data[0]"
      ],
      "metadata": {
        "colab": {
          "base_uri": "https://localhost:8080/"
        },
        "id": "BKhrevZRmTBf",
        "outputId": "ed708cea-1c71-493a-8361-35bcb1200013"
      },
      "execution_count": null,
      "outputs": [
        {
          "output_type": "execute_result",
          "data": {
            "text/plain": [
              "array(['06-10-2017', '07-10-2017', '08-10-2017', '09-10-2017',\n",
              "       '10-10-2017', '11-10-2017', '12-10-2017', '13-10-2017',\n",
              "       '14-10-2017', '15-10-2017', '16-10-2017', '17-10-2017',\n",
              "       '18-10-2017', '19-10-2017', '20-10-2017', '21-10-2017',\n",
              "       '22-10-2017', '23-10-2017', '24-10-2017', '25-10-2017',\n",
              "       '26-10-2017', '27-10-2017', '28-10-2017', '29-10-2017',\n",
              "       '30-10-2017', '31-10-2017', '01-11-2017', '02-11-2017',\n",
              "       '03-11-2017', '04-11-2017', '05-11-2017', '06-11-2017',\n",
              "       '07-11-2017', '08-11-2017', '09-11-2017', '10-11-2017',\n",
              "       '11-11-2017', '12-11-2017', '13-11-2017', '14-11-2017',\n",
              "       '15-11-2017', '16-11-2017', '17-11-2017', '18-11-2017',\n",
              "       '19-11-2017', '20-11-2017', '21-11-2017', '22-11-2017',\n",
              "       '23-11-2017', '24-11-2017', '25-11-2017', '26-11-2017',\n",
              "       '27-11-2017', '28-11-2017', '29-11-2017', '30-11-2017',\n",
              "       '01-12-2017', '02-12-2017', '03-12-2017', '04-12-2017',\n",
              "       '05-12-2017', '06-12-2017', '07-12-2017', '08-12-2017',\n",
              "       '09-12-2017', '10-12-2017', '11-12-2017', '12-12-2017',\n",
              "       '13-12-2017', '14-12-2017', '15-12-2017', '16-12-2017',\n",
              "       '17-12-2017', '18-12-2017', '19-12-2017', '20-12-2017',\n",
              "       '21-12-2017', '22-12-2017', '23-12-2017', '24-12-2017',\n",
              "       '25-12-2017', '26-12-2017', '27-12-2017', '28-12-2017',\n",
              "       '29-12-2017', '30-12-2017', '31-12-2017', '01-01-2018',\n",
              "       '02-01-2018', '03-01-2018', '04-01-2018', '05-01-2018',\n",
              "       '06-01-2018', '07-01-2018', '08-01-2018', '09-01-2018'],\n",
              "      dtype='<U10')"
            ]
          },
          "metadata": {},
          "execution_count": 86
        }
      ]
    },
    {
      "cell_type": "code",
      "source": [
        "# unpacking and assigning feature(column) names\n",
        "# date,step_count,mood,calories_burned,sleep_hours,activity_status,weight=data\n",
        "date=data[0]\n",
        "step_count=data[1]\n",
        "mood=data[2]\n",
        "calories_burned=data[3]\n",
        "sleep_hours=data[4]\n",
        "activity_status=data[5]\n",
        "weight=data[6]"
      ],
      "metadata": {
        "id": "CFUIXh0nmaM4"
      },
      "execution_count": null,
      "outputs": []
    },
    {
      "cell_type": "code",
      "source": [
        "\n",
        "step_count"
      ],
      "metadata": {
        "colab": {
          "base_uri": "https://localhost:8080/"
        },
        "id": "OmpbagLemlZR",
        "outputId": "76e6dbc9-6a65-4f56-bf18-1cd413b6fb6b"
      },
      "execution_count": null,
      "outputs": [
        {
          "output_type": "execute_result",
          "data": {
            "text/plain": [
              "array(['5464', '6041', '25', '5461', '6915', '4545', '4340', '1230', '61',\n",
              "       '1258', '3148', '4687', '4732', '3519', '1580', '2822', '181',\n",
              "       '3158', '4383', '3881', '4037', '202', '292', '330', '2209',\n",
              "       '4550', '4435', '4779', '1831', '2255', '539', '5464', '6041',\n",
              "       '4068', '4683', '4033', '6314', '614', '3149', '4005', '4880',\n",
              "       '4136', '705', '570', '269', '4275', '5999', '4421', '6930',\n",
              "       '5195', '546', '493', '995', '1163', '6676', '3608', '774', '1421',\n",
              "       '4064', '2725', '5934', '1867', '3721', '2374', '2909', '1648',\n",
              "       '799', '7102', '3941', '7422', '437', '1231', '1696', '4921',\n",
              "       '221', '6500', '3575', '4061', '651', '753', '518', '5537', '4108',\n",
              "       '5376', '3066', '177', '36', '299', '1447', '2599', '702', '133',\n",
              "       '153', '500', '2127', '2203'], dtype='<U10')"
            ]
          },
          "metadata": {},
          "execution_count": 88
        }
      ]
    },
    {
      "cell_type": "code",
      "source": [
        "# data[0]"
      ],
      "metadata": {
        "id": "gQkAUu31mnIg"
      },
      "execution_count": null,
      "outputs": []
    },
    {
      "cell_type": "code",
      "source": [
        "#converting string dtype to int64 dtype\n",
        "step_count=np.array(step_count,dtype=\"int64\")\n",
        "step_count"
      ],
      "metadata": {
        "colab": {
          "base_uri": "https://localhost:8080/"
        },
        "id": "pjlJs6uvm0c9",
        "outputId": "33f307dc-d83e-45c4-8076-ab67709221e1"
      },
      "execution_count": null,
      "outputs": [
        {
          "output_type": "execute_result",
          "data": {
            "text/plain": [
              "array([5464, 6041,   25, 5461, 6915, 4545, 4340, 1230,   61, 1258, 3148,\n",
              "       4687, 4732, 3519, 1580, 2822,  181, 3158, 4383, 3881, 4037,  202,\n",
              "        292,  330, 2209, 4550, 4435, 4779, 1831, 2255,  539, 5464, 6041,\n",
              "       4068, 4683, 4033, 6314,  614, 3149, 4005, 4880, 4136,  705,  570,\n",
              "        269, 4275, 5999, 4421, 6930, 5195,  546,  493,  995, 1163, 6676,\n",
              "       3608,  774, 1421, 4064, 2725, 5934, 1867, 3721, 2374, 2909, 1648,\n",
              "        799, 7102, 3941, 7422,  437, 1231, 1696, 4921,  221, 6500, 3575,\n",
              "       4061,  651,  753,  518, 5537, 4108, 5376, 3066,  177,   36,  299,\n",
              "       1447, 2599,  702,  133,  153,  500, 2127, 2203])"
            ]
          },
          "metadata": {},
          "execution_count": 90
        }
      ]
    },
    {
      "cell_type": "code",
      "source": [
        "calories_burned=np.array(calories_burned,dtype=\"int64\")\n",
        "calories_burned\n"
      ],
      "metadata": {
        "colab": {
          "base_uri": "https://localhost:8080/"
        },
        "id": "RUWiTWb7nRJS",
        "outputId": "74e8938f-1e3d-42b6-b5ff-bd06fc3d6494"
      },
      "execution_count": null,
      "outputs": [
        {
          "output_type": "execute_result",
          "data": {
            "text/plain": [
              "array([181, 197,   0, 174, 223, 149, 140,  38,   1,  40, 101, 152, 150,\n",
              "       113,  49,  86,   6,  99, 143, 125, 129,   6,   9,  10,  72, 150,\n",
              "       141, 156,  57,  72,  17, 181, 197, 131, 154, 137, 193,  19, 101,\n",
              "       139, 164, 137,  22,  17,   9, 145, 192, 146, 234, 167,  16,  17,\n",
              "        32,  35, 220, 116,  23,  44, 131,  86, 194,  60, 121,  76,  93,\n",
              "        53,  25, 227, 125, 243,  14,  39,  55, 158,   7, 213, 116, 129,\n",
              "        21,  28,  16, 180, 138, 176,  99,   5,   1,  10,  47,  84,  23,\n",
              "         4,   0,   0,   0,   0])"
            ]
          },
          "metadata": {},
          "execution_count": 91
        }
      ]
    },
    {
      "cell_type": "code",
      "source": [],
      "metadata": {
        "id": "wr1N6g0rnp4G"
      },
      "execution_count": null,
      "outputs": []
    },
    {
      "cell_type": "code",
      "source": [
        "sleep_hours=np.array(sleep_hours,dtype=\"int64\")\n",
        "sleep_hours"
      ],
      "metadata": {
        "colab": {
          "base_uri": "https://localhost:8080/"
        },
        "id": "Vr9G0T1Hnj6J",
        "outputId": "ab65bd8a-f683-497e-a970-078b59e578b0"
      },
      "execution_count": null,
      "outputs": [
        {
          "output_type": "execute_result",
          "data": {
            "text/plain": [
              "array([5, 8, 5, 4, 5, 6, 6, 7, 5, 6, 8, 5, 6, 7, 5, 6, 8, 5, 4, 5, 6, 8,\n",
              "       5, 6, 5, 8, 5, 4, 5, 4, 5, 4, 3, 2, 9, 5, 6, 4, 5, 8, 4, 5, 6, 5,\n",
              "       6, 5, 6, 5, 6, 5, 6, 7, 6, 7, 6, 5, 6, 7, 8, 8, 7, 8, 5, 4, 3, 3,\n",
              "       4, 5, 5, 5, 3, 4, 4, 5, 5, 5, 5, 5, 5, 4, 3, 4, 5, 5, 4, 5, 3, 3,\n",
              "       3, 2, 3, 2, 8, 5, 5, 5])"
            ]
          },
          "metadata": {},
          "execution_count": 92
        }
      ]
    },
    {
      "cell_type": "code",
      "source": [
        "weight=np.array(weight,dtype=\"int64\")\n",
        "weight"
      ],
      "metadata": {
        "colab": {
          "base_uri": "https://localhost:8080/"
        },
        "id": "1nr3qya0nrzt",
        "outputId": "d8dd9496-c7f7-451d-e789-7b0a6d3d5943"
      },
      "execution_count": null,
      "outputs": [
        {
          "output_type": "execute_result",
          "data": {
            "text/plain": [
              "array([66, 66, 66, 66, 66, 66, 66, 66, 66, 65, 65, 65, 65, 65, 65, 65, 65,\n",
              "       65, 64, 64, 64, 64, 64, 64, 64, 64, 64, 64, 64, 64, 64, 64, 64, 64,\n",
              "       64, 64, 64, 64, 64, 64, 64, 64, 64, 64, 64, 64, 64, 64, 64, 64, 64,\n",
              "       64, 64, 64, 64, 64, 64, 64, 64, 64, 64, 64, 64, 64, 64, 64, 64, 64,\n",
              "       64, 64, 64, 64, 64, 64, 64, 64, 64, 64, 64, 64, 64, 64, 64, 64, 64,\n",
              "       64, 64, 64, 64, 64, 64, 64, 64, 64, 64, 64])"
            ]
          },
          "metadata": {},
          "execution_count": 93
        }
      ]
    },
    {
      "cell_type": "code",
      "source": [
        "mood"
      ],
      "metadata": {
        "colab": {
          "base_uri": "https://localhost:8080/"
        },
        "id": "65pW4liTn5wv",
        "outputId": "1b1a03c8-51e0-4654-9897-7a0ebf680a5b"
      },
      "execution_count": null,
      "outputs": [
        {
          "output_type": "execute_result",
          "data": {
            "text/plain": [
              "array(['200', '100', '100', '100', '200', '100', '100', '100', '100',\n",
              "       '100', '100', '100', '300', '100', '100', '100', '100', '200',\n",
              "       '200', '200', '200', '200', '200', '300', '200', '300', '300',\n",
              "       '300', '300', '300', '300', '300', '200', '300', '300', '300',\n",
              "       '300', '300', '300', '300', '300', '300', '300', '200', '300',\n",
              "       '300', '300', '300', '300', '300', '300', '300', '300', '200',\n",
              "       '100', '300', '300', '300', '300', '300', '300', '300', '100',\n",
              "       '200', '200', '100', '100', '200', '200', '300', '200', '200',\n",
              "       '100', '200', '100', '200', '200', '100', '100', '100', '100',\n",
              "       '300', '200', '300', '200', '100', '100', '100', '200', '200',\n",
              "       '100', '100', '300', '200', '200', '300'], dtype='<U10')"
            ]
          },
          "metadata": {},
          "execution_count": 94
        }
      ]
    },
    {
      "cell_type": "code",
      "source": [
        "# Using masking , we are converting string values into understable form\n",
        "mood[mood=='100']='sad'\n",
        "mood[mood=='200']='neutral'\n",
        "mood[mood=='300']='happy'"
      ],
      "metadata": {
        "id": "u0Pojp2ZoHX-"
      },
      "execution_count": null,
      "outputs": []
    },
    {
      "cell_type": "code",
      "source": [
        "\n",
        "mood\n"
      ],
      "metadata": {
        "colab": {
          "base_uri": "https://localhost:8080/"
        },
        "id": "9zh70uANodDd",
        "outputId": "86746964-c9a6-4933-e74b-d47ab7c341e8"
      },
      "execution_count": null,
      "outputs": [
        {
          "output_type": "execute_result",
          "data": {
            "text/plain": [
              "array(['neutral', 'sad', 'sad', 'sad', 'neutral', 'sad', 'sad', 'sad',\n",
              "       'sad', 'sad', 'sad', 'sad', 'happy', 'sad', 'sad', 'sad', 'sad',\n",
              "       'neutral', 'neutral', 'neutral', 'neutral', 'neutral', 'neutral',\n",
              "       'happy', 'neutral', 'happy', 'happy', 'happy', 'happy', 'happy',\n",
              "       'happy', 'happy', 'neutral', 'happy', 'happy', 'happy', 'happy',\n",
              "       'happy', 'happy', 'happy', 'happy', 'happy', 'happy', 'neutral',\n",
              "       'happy', 'happy', 'happy', 'happy', 'happy', 'happy', 'happy',\n",
              "       'happy', 'happy', 'neutral', 'sad', 'happy', 'happy', 'happy',\n",
              "       'happy', 'happy', 'happy', 'happy', 'sad', 'neutral', 'neutral',\n",
              "       'sad', 'sad', 'neutral', 'neutral', 'happy', 'neutral', 'neutral',\n",
              "       'sad', 'neutral', 'sad', 'neutral', 'neutral', 'sad', 'sad', 'sad',\n",
              "       'sad', 'happy', 'neutral', 'happy', 'neutral', 'sad', 'sad', 'sad',\n",
              "       'neutral', 'neutral', 'sad', 'sad', 'happy', 'neutral', 'neutral',\n",
              "       'happy'], dtype='<U10')"
            ]
          },
          "metadata": {},
          "execution_count": 96
        }
      ]
    },
    {
      "cell_type": "code",
      "source": [
        "activity_status"
      ],
      "metadata": {
        "colab": {
          "base_uri": "https://localhost:8080/"
        },
        "id": "uDOYFcgPomjG",
        "outputId": "2e6f6698-fcdb-4080-871e-eb686e9a0e38"
      },
      "execution_count": null,
      "outputs": [
        {
          "output_type": "execute_result",
          "data": {
            "text/plain": [
              "array(['0', '0', '0', '0', '500', '0', '0', '0', '0', '0', '0', '0',\n",
              "       '500', '0', '0', '0', '0', '0', '0', '0', '0', '0', '0', '0', '0',\n",
              "       '500', '0', '0', '0', '0', '500', '0', '0', '0', '0', '0', '500',\n",
              "       '500', '500', '500', '500', '500', '500', '500', '500', '0', '0',\n",
              "       '0', '0', '0', '0', '500', '500', '500', '500', '500', '500',\n",
              "       '500', '500', '500', '500', '500', '500', '0', '500', '500', '0',\n",
              "       '500', '500', '500', '500', '500', '0', '500', '500', '500', '500',\n",
              "       '0', '0', '0', '0', '500', '500', '500', '500', '0', '0', '0', '0',\n",
              "       '0', '0', '0', '0', '500', '0', '500'], dtype='<U10')"
            ]
          },
          "metadata": {},
          "execution_count": 97
        }
      ]
    },
    {
      "cell_type": "code",
      "source": [
        "\n",
        "activity_status[activity_status=='0']='Inactive'\n",
        "activity_status[activity_status=='500']='Active'\n",
        "activity_status"
      ],
      "metadata": {
        "colab": {
          "base_uri": "https://localhost:8080/"
        },
        "id": "o9kS3vrQq2zn",
        "outputId": "5049bddd-0e4f-446a-e5e7-bc12b3745b45"
      },
      "execution_count": null,
      "outputs": [
        {
          "output_type": "execute_result",
          "data": {
            "text/plain": [
              "array(['Inactive', 'Inactive', 'Inactive', 'Inactive', 'Active',\n",
              "       'Inactive', 'Inactive', 'Inactive', 'Inactive', 'Inactive',\n",
              "       'Inactive', 'Inactive', 'Active', 'Inactive', 'Inactive',\n",
              "       'Inactive', 'Inactive', 'Inactive', 'Inactive', 'Inactive',\n",
              "       'Inactive', 'Inactive', 'Inactive', 'Inactive', 'Inactive',\n",
              "       'Active', 'Inactive', 'Inactive', 'Inactive', 'Inactive', 'Active',\n",
              "       'Inactive', 'Inactive', 'Inactive', 'Inactive', 'Inactive',\n",
              "       'Active', 'Active', 'Active', 'Active', 'Active', 'Active',\n",
              "       'Active', 'Active', 'Active', 'Inactive', 'Inactive', 'Inactive',\n",
              "       'Inactive', 'Inactive', 'Inactive', 'Active', 'Active', 'Active',\n",
              "       'Active', 'Active', 'Active', 'Active', 'Active', 'Active',\n",
              "       'Active', 'Active', 'Active', 'Inactive', 'Active', 'Active',\n",
              "       'Inactive', 'Active', 'Active', 'Active', 'Active', 'Active',\n",
              "       'Inactive', 'Active', 'Active', 'Active', 'Active', 'Inactive',\n",
              "       'Inactive', 'Inactive', 'Inactive', 'Active', 'Active', 'Active',\n",
              "       'Active', 'Inactive', 'Inactive', 'Inactive', 'Inactive',\n",
              "       'Inactive', 'Inactive', 'Inactive', 'Inactive', 'Active',\n",
              "       'Inactive', 'Active'], dtype='<U10')"
            ]
          },
          "metadata": {},
          "execution_count": 98
        }
      ]
    },
    {
      "cell_type": "code",
      "source": [
        "# gives me unique values in numpy array \n",
        "# return_count gives me frequency of each unique value\n",
        "np.unique(activity_status,return_counts=True)"
      ],
      "metadata": {
        "colab": {
          "base_uri": "https://localhost:8080/"
        },
        "id": "8NRx8Qi-rA0Q",
        "outputId": "f1eac3b7-e755-4535-ce45-59eacd2ff93e"
      },
      "execution_count": null,
      "outputs": [
        {
          "output_type": "execute_result",
          "data": {
            "text/plain": [
              "(array(['Active', 'Inactive'], dtype='<U10'), array([42, 54]))"
            ]
          },
          "metadata": {},
          "execution_count": 99
        }
      ]
    },
    {
      "cell_type": "code",
      "source": [
        "np.unique(mood,return_counts=True)"
      ],
      "metadata": {
        "colab": {
          "base_uri": "https://localhost:8080/"
        },
        "id": "pxWRm8tQrhkg",
        "outputId": "ae82081d-f41e-47db-b722-aa86190f6cb5"
      },
      "execution_count": null,
      "outputs": [
        {
          "output_type": "execute_result",
          "data": {
            "text/plain": [
              "(array(['happy', 'neutral', 'sad'], dtype='<U10'), array([40, 27, 29]))"
            ]
          },
          "metadata": {},
          "execution_count": 100
        }
      ]
    },
    {
      "cell_type": "code",
      "source": [
        "np.unique(sleep_hours,return_counts=True)"
      ],
      "metadata": {
        "colab": {
          "base_uri": "https://localhost:8080/"
        },
        "id": "WAx_H-a1ruhd",
        "outputId": "9a3f4b9b-3e5b-4bba-da47-77c4ad0a02d6"
      },
      "execution_count": null,
      "outputs": [
        {
          "output_type": "execute_result",
          "data": {
            "text/plain": [
              "(array([2, 3, 4, 5, 6, 7, 8, 9]), array([ 3,  9, 14, 37, 16,  6, 10,  1]))"
            ]
          },
          "metadata": {},
          "execution_count": 101
        }
      ]
    },
    {
      "cell_type": "code",
      "source": [
        "np.unique(mood)"
      ],
      "metadata": {
        "colab": {
          "base_uri": "https://localhost:8080/"
        },
        "id": "YD7sT_mysojK",
        "outputId": "582bfea7-94b4-4b59-aae1-ce9324d34844"
      },
      "execution_count": null,
      "outputs": [
        {
          "output_type": "execute_result",
          "data": {
            "text/plain": [
              "array(['happy', 'neutral', 'sad'], dtype='<U10')"
            ]
          },
          "metadata": {},
          "execution_count": 102
        }
      ]
    },
    {
      "cell_type": "code",
      "source": [
        "# finding out average number of steps that person takes\n",
        "step_count.mean()"
      ],
      "metadata": {
        "colab": {
          "base_uri": "https://localhost:8080/"
        },
        "id": "Xal5hrkhs1q6",
        "outputId": "0e03b335-f12b-4f82-a15d-8fafe20776eb"
      },
      "execution_count": null,
      "outputs": [
        {
          "output_type": "execute_result",
          "data": {
            "text/plain": [
              "2935.9375"
            ]
          },
          "metadata": {},
          "execution_count": 103
        }
      ]
    },
    {
      "cell_type": "code",
      "source": [
        "step_count"
      ],
      "metadata": {
        "colab": {
          "base_uri": "https://localhost:8080/"
        },
        "id": "t9mcjS1EtHgM",
        "outputId": "a3d9f3fa-4934-4943-b90c-1d71b4fead98"
      },
      "execution_count": null,
      "outputs": [
        {
          "output_type": "execute_result",
          "data": {
            "text/plain": [
              "array([5464, 6041,   25, 5461, 6915, 4545, 4340, 1230,   61, 1258, 3148,\n",
              "       4687, 4732, 3519, 1580, 2822,  181, 3158, 4383, 3881, 4037,  202,\n",
              "        292,  330, 2209, 4550, 4435, 4779, 1831, 2255,  539, 5464, 6041,\n",
              "       4068, 4683, 4033, 6314,  614, 3149, 4005, 4880, 4136,  705,  570,\n",
              "        269, 4275, 5999, 4421, 6930, 5195,  546,  493,  995, 1163, 6676,\n",
              "       3608,  774, 1421, 4064, 2725, 5934, 1867, 3721, 2374, 2909, 1648,\n",
              "        799, 7102, 3941, 7422,  437, 1231, 1696, 4921,  221, 6500, 3575,\n",
              "       4061,  651,  753,  518, 5537, 4108, 5376, 3066,  177,   36,  299,\n",
              "       1447, 2599,  702,  133,  153,  500, 2127, 2203])"
            ]
          },
          "metadata": {},
          "execution_count": 104
        }
      ]
    },
    {
      "cell_type": "code",
      "source": [
        "step_count"
      ],
      "metadata": {
        "colab": {
          "base_uri": "https://localhost:8080/"
        },
        "id": "Xu4aQnE_tPTq",
        "outputId": "d7014018-7588-416c-bab6-89f799b2333d"
      },
      "execution_count": null,
      "outputs": [
        {
          "output_type": "execute_result",
          "data": {
            "text/plain": [
              "array([5464, 6041,   25, 5461, 6915, 4545, 4340, 1230,   61, 1258, 3148,\n",
              "       4687, 4732, 3519, 1580, 2822,  181, 3158, 4383, 3881, 4037,  202,\n",
              "        292,  330, 2209, 4550, 4435, 4779, 1831, 2255,  539, 5464, 6041,\n",
              "       4068, 4683, 4033, 6314,  614, 3149, 4005, 4880, 4136,  705,  570,\n",
              "        269, 4275, 5999, 4421, 6930, 5195,  546,  493,  995, 1163, 6676,\n",
              "       3608,  774, 1421, 4064, 2725, 5934, 1867, 3721, 2374, 2909, 1648,\n",
              "        799, 7102, 3941, 7422,  437, 1231, 1696, 4921,  221, 6500, 3575,\n",
              "       4061,  651,  753,  518, 5537, 4108, 5376, 3066,  177,   36,  299,\n",
              "       1447, 2599,  702,  133,  153,  500, 2127, 2203])"
            ]
          },
          "metadata": {},
          "execution_count": 105
        }
      ]
    },
    {
      "cell_type": "code",
      "source": [
        "np.mean(step_count)"
      ],
      "metadata": {
        "colab": {
          "base_uri": "https://localhost:8080/"
        },
        "id": "FVZqvMOhtU1p",
        "outputId": "57900a8d-5dac-4c9b-d6a1-d2da12a4080a"
      },
      "execution_count": null,
      "outputs": [
        {
          "output_type": "execute_result",
          "data": {
            "text/plain": [
              "2935.9375"
            ]
          },
          "metadata": {},
          "execution_count": 106
        }
      ]
    },
    {
      "cell_type": "code",
      "source": [
        "# gives me max number of steps taken\n",
        "np.max(step_count)"
      ],
      "metadata": {
        "colab": {
          "base_uri": "https://localhost:8080/"
        },
        "id": "odn02UL7tWcp",
        "outputId": "cf2faf46-4d87-4270-8cbe-ff0e75e5a727"
      },
      "execution_count": null,
      "outputs": [
        {
          "output_type": "execute_result",
          "data": {
            "text/plain": [
              "7422"
            ]
          },
          "metadata": {},
          "execution_count": 107
        }
      ]
    },
    {
      "cell_type": "code",
      "source": [
        "# return index of max value of step count\n",
        "np.argmax(step_count)"
      ],
      "metadata": {
        "colab": {
          "base_uri": "https://localhost:8080/"
        },
        "id": "P7TVmS6Ctcl6",
        "outputId": "098d1443-e28c-44c0-fd72-afd32e63175c"
      },
      "execution_count": null,
      "outputs": [
        {
          "output_type": "execute_result",
          "data": {
            "text/plain": [
              "69"
            ]
          },
          "metadata": {},
          "execution_count": 108
        }
      ]
    },
    {
      "cell_type": "code",
      "source": [
        "# using masking we are able to find out the date on which that person took max no. of steps\n",
        "date[np.argmax(step_count)]"
      ],
      "metadata": {
        "colab": {
          "base_uri": "https://localhost:8080/",
          "height": 35
        },
        "id": "eQU69KLqtztM",
        "outputId": "375d9291-24d2-48a9-e690-f76d27988346"
      },
      "execution_count": null,
      "outputs": [
        {
          "output_type": "execute_result",
          "data": {
            "text/plain": [
              "'14-12-2017'"
            ],
            "application/vnd.google.colaboratory.intrinsic+json": {
              "type": "string"
            }
          },
          "metadata": {},
          "execution_count": 109
        }
      ]
    },
    {
      "cell_type": "code",
      "source": [
        "# using masking we are able to find out the calories burned for max steps taken\n",
        "calories_burned[np.argmax(step_count)]"
      ],
      "metadata": {
        "colab": {
          "base_uri": "https://localhost:8080/"
        },
        "id": "dAB08XWBt4sr",
        "outputId": "209a0ff3-d015-4371-8392-cbce043410e7"
      },
      "execution_count": null,
      "outputs": [
        {
          "output_type": "execute_result",
          "data": {
            "text/plain": [
              "243"
            ]
          },
          "metadata": {},
          "execution_count": 110
        }
      ]
    },
    {
      "cell_type": "code",
      "source": [
        "# using masking we are able to find out the mood on that day on which he took max no. of steps\n",
        "mood[np.argmax(step_count)]"
      ],
      "metadata": {
        "colab": {
          "base_uri": "https://localhost:8080/",
          "height": 35
        },
        "id": "tK94VNe0uN89",
        "outputId": "b197a8f0-407c-43a2-c0f8-e86e622247b4"
      },
      "execution_count": null,
      "outputs": [
        {
          "output_type": "execute_result",
          "data": {
            "text/plain": [
              "'happy'"
            ],
            "application/vnd.google.colaboratory.intrinsic+json": {
              "type": "string"
            }
          },
          "metadata": {},
          "execution_count": 111
        }
      ]
    },
    {
      "cell_type": "code",
      "source": [
        "calories_burned[np.argmin(step_count)]"
      ],
      "metadata": {
        "colab": {
          "base_uri": "https://localhost:8080/"
        },
        "id": "TYfYyN6PuWpb",
        "outputId": "3e1cd579-acc2-4f5e-b449-857e7e7d1721"
      },
      "execution_count": null,
      "outputs": [
        {
          "output_type": "execute_result",
          "data": {
            "text/plain": [
              "0"
            ]
          },
          "metadata": {},
          "execution_count": 112
        }
      ]
    },
    {
      "cell_type": "code",
      "source": [
        "mood[np.argmin(step_count)]"
      ],
      "metadata": {
        "colab": {
          "base_uri": "https://localhost:8080/",
          "height": 35
        },
        "id": "LaGmF73TucGs",
        "outputId": "614a90c3-c436-4fdc-e424-cd9914eb2012"
      },
      "execution_count": null,
      "outputs": [
        {
          "output_type": "execute_result",
          "data": {
            "text/plain": [
              "'sad'"
            ],
            "application/vnd.google.colaboratory.intrinsic+json": {
              "type": "string"
            }
          },
          "metadata": {},
          "execution_count": 113
        }
      ]
    },
    {
      "cell_type": "code",
      "source": [
        "step_count[np.argmin(step_count)]"
      ],
      "metadata": {
        "colab": {
          "base_uri": "https://localhost:8080/"
        },
        "id": "_QsYzBS2ugEz",
        "outputId": "5dc32078-1a06-4884-ce71-082524c0a1b3"
      },
      "execution_count": null,
      "outputs": [
        {
          "output_type": "execute_result",
          "data": {
            "text/plain": [
              "25"
            ]
          },
          "metadata": {},
          "execution_count": 114
        }
      ]
    },
    {
      "cell_type": "code",
      "source": [
        "# finding out average of steps that person takes on days when he sad\n",
        "np.mean(step_count[mood=='sad'])"
      ],
      "metadata": {
        "colab": {
          "base_uri": "https://localhost:8080/"
        },
        "id": "45oIFtMXuqJk",
        "outputId": "5eaf2c4c-a524-4296-d58a-5eab5a25a36f"
      },
      "execution_count": null,
      "outputs": [
        {
          "output_type": "execute_result",
          "data": {
            "text/plain": [
              "2103.0689655172414"
            ]
          },
          "metadata": {},
          "execution_count": 115
        }
      ]
    },
    {
      "cell_type": "code",
      "source": [
        "# finding out average of steps that person takes on days when he happy\n",
        "np.mean(step_count[mood=='happy'])"
      ],
      "metadata": {
        "colab": {
          "base_uri": "https://localhost:8080/"
        },
        "id": "rKPwhq7LvCCd",
        "outputId": "d4dea63d-74c2-4e96-eaaa-688725ae9787"
      },
      "execution_count": null,
      "outputs": [
        {
          "output_type": "execute_result",
          "data": {
            "text/plain": [
              "3392.725"
            ]
          },
          "metadata": {},
          "execution_count": 116
        }
      ]
    },
    {
      "cell_type": "code",
      "source": [
        "# finding out average of steps that person takes on days when he neutral\n",
        "np.mean(step_count[mood=='neutral'])"
      ],
      "metadata": {
        "colab": {
          "base_uri": "https://localhost:8080/"
        },
        "id": "jk3-fXiAvHjL",
        "outputId": "4593789a-775a-4508-9534-278dddd3871f"
      },
      "execution_count": null,
      "outputs": [
        {
          "output_type": "execute_result",
          "data": {
            "text/plain": [
              "3153.777777777778"
            ]
          },
          "metadata": {},
          "execution_count": 117
        }
      ]
    },
    {
      "cell_type": "code",
      "source": [
        "# finding out the freq of that person's mood for all the days he walked for more than 4000 steps\n",
        "np.unique(mood[step_count>4000],return_counts=True)"
      ],
      "metadata": {
        "colab": {
          "base_uri": "https://localhost:8080/"
        },
        "id": "Jz-AtPxFvOlj",
        "outputId": "ea5f2358-eb9c-4041-a560-1988a63a447a"
      },
      "execution_count": null,
      "outputs": [
        {
          "output_type": "execute_result",
          "data": {
            "text/plain": [
              "(array(['happy', 'neutral', 'sad'], dtype='<U10'), array([22,  9,  7]))"
            ]
          },
          "metadata": {},
          "execution_count": 118
        }
      ]
    },
    {
      "cell_type": "code",
      "source": [
        "# finding out the freq of that person's mood for all the days he walked for less than 2000 steps\n",
        "np.unique(mood[step_count<2000],return_counts=True)"
      ],
      "metadata": {
        "colab": {
          "base_uri": "https://localhost:8080/"
        },
        "id": "RGCZe2Qpv_Z-",
        "outputId": "dc62379b-f7c9-4d04-d57b-3660578168c3"
      },
      "execution_count": null,
      "outputs": [
        {
          "output_type": "execute_result",
          "data": {
            "text/plain": [
              "(array(['happy', 'neutral', 'sad'], dtype='<U10'), array([13,  8, 18]))"
            ]
          },
          "metadata": {},
          "execution_count": 119
        }
      ]
    },
    {
      "cell_type": "code",
      "source": [
        "sleep_hours"
      ],
      "metadata": {
        "colab": {
          "base_uri": "https://localhost:8080/"
        },
        "id": "cHG1Ix1JwUHx",
        "outputId": "de598bbb-2fd0-4a3f-c386-9f1b617d5580"
      },
      "execution_count": null,
      "outputs": [
        {
          "output_type": "execute_result",
          "data": {
            "text/plain": [
              "array([5, 8, 5, 4, 5, 6, 6, 7, 5, 6, 8, 5, 6, 7, 5, 6, 8, 5, 4, 5, 6, 8,\n",
              "       5, 6, 5, 8, 5, 4, 5, 4, 5, 4, 3, 2, 9, 5, 6, 4, 5, 8, 4, 5, 6, 5,\n",
              "       6, 5, 6, 5, 6, 5, 6, 7, 6, 7, 6, 5, 6, 7, 8, 8, 7, 8, 5, 4, 3, 3,\n",
              "       4, 5, 5, 5, 3, 4, 4, 5, 5, 5, 5, 5, 5, 4, 3, 4, 5, 5, 4, 5, 3, 3,\n",
              "       3, 2, 3, 2, 8, 5, 5, 5])"
            ]
          },
          "metadata": {},
          "execution_count": 120
        }
      ]
    },
    {
      "cell_type": "code",
      "source": [
        "# finding out freq of mood for the days where that person slept for more than 5 hours\n",
        "np.unique(mood[sleep_hours>5],return_counts=True)"
      ],
      "metadata": {
        "colab": {
          "base_uri": "https://localhost:8080/"
        },
        "id": "2QO65dK8w7lg",
        "outputId": "a79a4735-6103-48e3-83e6-f0908f886633"
      },
      "execution_count": null,
      "outputs": [
        {
          "output_type": "execute_result",
          "data": {
            "text/plain": [
              "(array(['happy', 'neutral', 'sad'], dtype='<U10'), array([20,  3, 10]))"
            ]
          },
          "metadata": {},
          "execution_count": 121
        }
      ]
    },
    {
      "cell_type": "code",
      "source": [
        "mood[np.argmax(step_count)]"
      ],
      "metadata": {
        "colab": {
          "base_uri": "https://localhost:8080/",
          "height": 35
        },
        "id": "qKDrnhmTxEx_",
        "outputId": "566cd1b3-cc74-4356-91ef-d8e8e5850137"
      },
      "execution_count": null,
      "outputs": [
        {
          "output_type": "execute_result",
          "data": {
            "text/plain": [
              "'happy'"
            ],
            "application/vnd.google.colaboratory.intrinsic+json": {
              "type": "string"
            }
          },
          "metadata": {},
          "execution_count": 122
        }
      ]
    },
    {
      "cell_type": "code",
      "source": [
        "#average sleep hours\n",
        "\n",
        "print(np.mean(sleep_hours))"
      ],
      "metadata": {
        "colab": {
          "base_uri": "https://localhost:8080/"
        },
        "id": "DdbZIsbsawtH",
        "outputId": "33f15ec5-f02a-4c66-92ae-d63358ea646f"
      },
      "execution_count": null,
      "outputs": [
        {
          "output_type": "stream",
          "name": "stdout",
          "text": [
            "5.21875\n"
          ]
        }
      ]
    },
    {
      "cell_type": "code",
      "source": [
        "# Sleep Hours has no impact on activity status\n",
        "np.unique(activity_status[sleep_hours>=5],return_counts=True)"
      ],
      "metadata": {
        "colab": {
          "base_uri": "https://localhost:8080/"
        },
        "id": "u0az9IaUbGXK",
        "outputId": "ac661e7c-afce-44d3-fc07-30834c138f31"
      },
      "execution_count": null,
      "outputs": [
        {
          "output_type": "execute_result",
          "data": {
            "text/plain": [
              "(array(['Active', 'Inactive'], dtype='<U10'), array([34, 36]))"
            ]
          },
          "metadata": {},
          "execution_count": 124
        }
      ]
    },
    {
      "cell_type": "code",
      "source": [
        "# Sleep Hours has no impact on activity status\n",
        "np.unique(activity_status[sleep_hours>=6],return_counts=True)"
      ],
      "metadata": {
        "colab": {
          "base_uri": "https://localhost:8080/"
        },
        "id": "kHAvnLsCcBiT",
        "outputId": "db9fb132-89a5-43c7-f29d-ff9c10a2ced6"
      },
      "execution_count": null,
      "outputs": [
        {
          "output_type": "execute_result",
          "data": {
            "text/plain": [
              "(array(['Active', 'Inactive'], dtype='<U10'), array([16, 17]))"
            ]
          },
          "metadata": {},
          "execution_count": 125
        }
      ]
    },
    {
      "cell_type": "code",
      "source": [
        "# Sleep Hours has no impact on activity status\n",
        "np.unique(activity_status[sleep_hours>=7],return_counts=True)"
      ],
      "metadata": {
        "colab": {
          "base_uri": "https://localhost:8080/"
        },
        "id": "PTz-jNUwcJsD",
        "outputId": "47e263cd-80ac-416f-eaf5-2a579b800f23"
      },
      "execution_count": null,
      "outputs": [
        {
          "output_type": "execute_result",
          "data": {
            "text/plain": [
              "(array(['Active', 'Inactive'], dtype='<U10'), array([9, 8]))"
            ]
          },
          "metadata": {},
          "execution_count": 126
        }
      ]
    },
    {
      "cell_type": "code",
      "source": [
        "# Burns more calories when he is 'happy'/'neutral' as compared to being 'sad'\n",
        "print(np.mean(calories_burned[mood == 'happy']))\n",
        "print(np.mean(calories_burned[mood == 'neutral']))\n",
        "print(np.mean(calories_burned[mood == 'sad']))"
      ],
      "metadata": {
        "colab": {
          "base_uri": "https://localhost:8080/"
        },
        "id": "P1oXA3TocSz5",
        "outputId": "98e203f1-a21d-4414-9851-8f05662b82d8"
      },
      "execution_count": null,
      "outputs": [
        {
          "output_type": "stream",
          "name": "stdout",
          "text": [
            "108.55\n",
            "98.70370370370371\n",
            "67.72413793103448\n"
          ]
        }
      ]
    },
    {
      "cell_type": "code",
      "source": [
        "# He is expected to be more 'happy'/'neutral' when is 'Active', whereas he is more 'sad' when is 'Inactive'\n",
        "\n",
        "print(np.unique(mood[activity_status=='Active'], return_counts=True))\n",
        "\n",
        "print(np.unique(mood[activity_status=='Inactive'], return_counts=True))"
      ],
      "metadata": {
        "colab": {
          "base_uri": "https://localhost:8080/"
        },
        "id": "yld7s-WDdIKa",
        "outputId": "d23cad11-d09c-4cd3-b79e-57e030cd6430"
      },
      "execution_count": null,
      "outputs": [
        {
          "output_type": "stream",
          "name": "stdout",
          "text": [
            "(array(['happy', 'neutral', 'sad'], dtype='<U10'), array([24, 14,  4]))\n",
            "(array(['happy', 'neutral', 'sad'], dtype='<U10'), array([16, 13, 25]))\n"
          ]
        }
      ]
    },
    {
      "cell_type": "code",
      "source": [
        "# No impact on weight due to activity status\n",
        "\n",
        "print(np.unique(weight[activity_status=='Active'], return_counts=True))\n",
        "print(np.unique(weight[activity_status=='Inactive'], return_counts=True))"
      ],
      "metadata": {
        "colab": {
          "base_uri": "https://localhost:8080/"
        },
        "id": "r_RgE9Vzd_z4",
        "outputId": "e144e166-03b1-4968-e8a7-f309e7743f3d"
      },
      "execution_count": null,
      "outputs": [
        {
          "output_type": "stream",
          "name": "stdout",
          "text": [
            "(array([64, 65, 66]), array([40,  1,  1]))\n",
            "(array([64, 65, 66]), array([38,  8,  8]))\n"
          ]
        }
      ]
    },
    {
      "cell_type": "code",
      "source": [
        "# No impact on weight due to mood\n",
        "\n",
        "print(np.unique(weight[mood=='happy'], return_counts=True))\n",
        "print(np.unique(weight[mood=='neutral'], return_counts=True))\n",
        "print(np.unique(weight[mood=='sad'], return_counts=True))"
      ],
      "metadata": {
        "colab": {
          "base_uri": "https://localhost:8080/"
        },
        "id": "8n6xljFWeuzs",
        "outputId": "0303c79a-d1e4-44bb-b30d-e09437c43078"
      },
      "execution_count": null,
      "outputs": [
        {
          "output_type": "stream",
          "name": "stdout",
          "text": [
            "(array([64, 65]), array([39,  1]))\n",
            "(array([64, 65, 66]), array([24,  1,  2]))\n",
            "(array([64, 65, 66]), array([15,  7,  7]))\n"
          ]
        }
      ]
    },
    {
      "cell_type": "markdown",
      "source": [
        "#Assignment"
      ],
      "metadata": {
        "id": "mmRcG1tzYNHo"
      }
    },
    {
      "cell_type": "code",
      "source": [
        "# Question No.4\n",
        "\n",
        "import numpy as np\n",
        "\n",
        "arr = np.array([1,3,4,1,2])\n",
        "result = np.zeros((arr.size, max(arr)+1))\n",
        "print(result)\n",
        "\n",
        "for i in range(0, len(arr)):\n",
        "  result[i,arr[i]] = 1\n",
        "\n",
        "print(result)"
      ],
      "metadata": {
        "colab": {
          "base_uri": "https://localhost:8080/"
        },
        "id": "A_OhveKpYLKF",
        "outputId": "405996e2-fad2-4a66-da6b-1cf6dc9367f0"
      },
      "execution_count": null,
      "outputs": [
        {
          "output_type": "stream",
          "name": "stdout",
          "text": [
            "[[0. 0. 0. 0. 0.]\n",
            " [0. 0. 0. 0. 0.]\n",
            " [0. 0. 0. 0. 0.]\n",
            " [0. 0. 0. 0. 0.]\n",
            " [0. 0. 0. 0. 0.]]\n",
            "[[0. 1. 0. 0. 0.]\n",
            " [0. 0. 0. 1. 0.]\n",
            " [0. 0. 0. 0. 1.]\n",
            " [0. 1. 0. 0. 0.]\n",
            " [0. 0. 1. 0. 0.]]\n"
          ]
        }
      ]
    },
    {
      "cell_type": "code",
      "source": [
        "# Question No.6\n",
        "\n",
        "mat1 = np.array([[6, 6, 4, 7, 9],\n",
        " [0, 2, 2, 9, 3],\n",
        " [6, 0, 2, 5, 2],\n",
        " [2, 4, 3, 5, 5]])\n",
        "mat2 = np.array([[8, 6, 6, 8, 3],\n",
        " [2, 7, 0, 3, 1],\n",
        " [3, 2, 1, 5, 2],\n",
        " [7, 0, 7, 6, 8],\n",
        " [1, 5, 6, 4, 5]])\n",
        "r1, r2 = 1, 3\n",
        "c1, c2 = 2, 4\n",
        "\n",
        "np.dot(mat1, mat2)"
      ],
      "metadata": {
        "colab": {
          "base_uri": "https://localhost:8080/"
        },
        "id": "rhS2CULxcwiY",
        "outputId": "c2ddf5e8-8665-4668-c305-5cf10886e9d4"
      },
      "execution_count": null,
      "outputs": [
        {
          "output_type": "execute_result",
          "data": {
            "text/plain": [
              "array([[130, 131, 143, 164, 133],\n",
              "       [ 76,  33,  83,  82,  93],\n",
              "       [ 91,  50,  85,  96,  72],\n",
              "       [ 73,  71,  80,  93,  81]])"
            ]
          },
          "metadata": {},
          "execution_count": 3
        }
      ]
    },
    {
      "cell_type": "code",
      "source": [
        "mat1 = np.array([[1,2,3],[1,2,3]])\n",
        "mat2 = np.array([[1,2],[3,4],[5,6]])\n",
        "r1, r2 = 0, 4\n",
        "c1, c2 = 0, 1\n",
        "\n",
        "np.dot(mat1, mat2)"
      ],
      "metadata": {
        "colab": {
          "base_uri": "https://localhost:8080/"
        },
        "id": "tjPLcfzxeJbZ",
        "outputId": "dcc55206-9816-4a13-e66d-9306ef217b13"
      },
      "execution_count": null,
      "outputs": [
        {
          "output_type": "execute_result",
          "data": {
            "text/plain": [
              "array([[22, 28],\n",
              "       [22, 28]])"
            ]
          },
          "metadata": {},
          "execution_count": 4
        }
      ]
    },
    {
      "cell_type": "code",
      "source": [
        "# Question 7\n",
        "import numpy as np\n",
        "arr = np.array([[2,3,4],\n",
        "               [5,6,7]])\n",
        "\n",
        "print(len(arr))\n",
        "print(len(arr[0]))\n",
        "print(arr)\n",
        "\n"
      ],
      "metadata": {
        "colab": {
          "base_uri": "https://localhost:8080/"
        },
        "id": "-lYdKGCagg-b",
        "outputId": "9d70cc24-8025-4757-96c0-bcc53d0906c2"
      },
      "execution_count": null,
      "outputs": [
        {
          "output_type": "stream",
          "name": "stdout",
          "text": [
            "2\n",
            "3\n",
            "[[2 3 4]\n",
            " [5 6 7]]\n"
          ]
        }
      ]
    },
    {
      "cell_type": "code",
      "source": [
        "for i in range(0, len(arr)):\n",
        "  for j in range(0, len(arr[i])):\n",
        "    val = arr[i,j]\n",
        "    print(val)"
      ],
      "metadata": {
        "colab": {
          "base_uri": "https://localhost:8080/"
        },
        "id": "lg6SNtk5iLu9",
        "outputId": "6db2ef1a-097c-41de-bf46-aea77511f59f"
      },
      "execution_count": null,
      "outputs": [
        {
          "output_type": "stream",
          "name": "stdout",
          "text": [
            "2\n",
            "3\n",
            "4\n",
            "5\n",
            "6\n",
            "7\n"
          ]
        }
      ]
    },
    {
      "cell_type": "code",
      "source": [
        "val = 7\n",
        "str1 = ''\n",
        "rem = None\n",
        "while val != 0:\n",
        "  rem = val%2\n",
        "  str1 = str(rem) + str1\n",
        "  val = val//2\n",
        "\n",
        "print(str1)"
      ],
      "metadata": {
        "colab": {
          "base_uri": "https://localhost:8080/"
        },
        "id": "lb-P0uVXia0o",
        "outputId": "e9675bcb-c2f1-4e97-fa8d-e1d0673e5b61"
      },
      "execution_count": null,
      "outputs": [
        {
          "output_type": "stream",
          "name": "stdout",
          "text": [
            "111\n"
          ]
        }
      ]
    },
    {
      "cell_type": "code",
      "source": [
        "for i in range(0, len(arr)):\n",
        "  for j in range(0, len(arr[i])):\n",
        "    val = arr[i,j]\n",
        "    str1 = ''\n",
        "    rem = None\n",
        "    while val != 0:\n",
        "      rem = val%2\n",
        "      str1 = str(rem) + str1\n",
        "      val = val//2\n",
        "    arr[i,j] = int(str1)\n",
        "\n",
        "arr"
      ],
      "metadata": {
        "colab": {
          "base_uri": "https://localhost:8080/"
        },
        "id": "hStt0mB8hJJS",
        "outputId": "bdd0bede-7fa4-4289-aaac-7ee73cb290a7"
      },
      "execution_count": null,
      "outputs": [
        {
          "output_type": "execute_result",
          "data": {
            "text/plain": [
              "array([[ 10,  11, 100],\n",
              "       [101, 110, 111]])"
            ]
          },
          "metadata": {},
          "execution_count": 8
        }
      ]
    },
    {
      "cell_type": "markdown",
      "source": [
        "### Doubts"
      ],
      "metadata": {
        "id": "T0srlJ6tqMpE"
      }
    },
    {
      "cell_type": "code",
      "source": [
        "m1=np.array([[1,2,3],[4,5,6],[7,8,9]])\n",
        "print(m1.ndim)"
      ],
      "metadata": {
        "colab": {
          "base_uri": "https://localhost:8080/"
        },
        "id": "vgvZftVNyyrm",
        "outputId": "1a94adf5-8861-4d31-b0a3-b799a2303562"
      },
      "execution_count": null,
      "outputs": [
        {
          "output_type": "stream",
          "name": "stdout",
          "text": [
            "2\n"
          ]
        }
      ]
    },
    {
      "cell_type": "code",
      "source": [
        "m1.shape"
      ],
      "metadata": {
        "colab": {
          "base_uri": "https://localhost:8080/"
        },
        "id": "ra60ZehazUZJ",
        "outputId": "1fa3ce93-8574-4104-ceb5-e26f4e908ec6"
      },
      "execution_count": null,
      "outputs": [
        {
          "output_type": "execute_result",
          "data": {
            "text/plain": [
              "(3, 3)"
            ]
          },
          "metadata": {},
          "execution_count": 132
        }
      ]
    },
    {
      "cell_type": "code",
      "source": [
        "np.min(step_count)"
      ],
      "metadata": {
        "colab": {
          "base_uri": "https://localhost:8080/"
        },
        "id": "HFTiw0nYzYIW",
        "outputId": "56947fe3-ccb7-4880-b3ce-fdc203eb1bba"
      },
      "execution_count": null,
      "outputs": [
        {
          "output_type": "execute_result",
          "data": {
            "text/plain": [
              "25"
            ]
          },
          "metadata": {},
          "execution_count": 133
        }
      ]
    },
    {
      "cell_type": "code",
      "source": [
        "x = np.ones((5,5))\n",
        "x[1:-1,1:-1] = 0\n",
        "x"
      ],
      "metadata": {
        "colab": {
          "base_uri": "https://localhost:8080/"
        },
        "id": "hMAbySpn0BOn",
        "outputId": "ebfe83f8-5725-427a-92b4-debdb328f991"
      },
      "execution_count": null,
      "outputs": [
        {
          "output_type": "execute_result",
          "data": {
            "text/plain": [
              "array([[1., 1., 1., 1., 1.],\n",
              "       [1., 0., 0., 0., 1.],\n",
              "       [1., 0., 0., 0., 1.],\n",
              "       [1., 0., 0., 0., 1.],\n",
              "       [1., 1., 1., 1., 1.]])"
            ]
          },
          "metadata": {},
          "execution_count": 134
        }
      ]
    },
    {
      "cell_type": "code",
      "source": [
        "m11=np.arange(1,13).reshape((3,4))"
      ],
      "metadata": {
        "id": "9PEIhOpu0iCG"
      },
      "execution_count": null,
      "outputs": []
    },
    {
      "cell_type": "code",
      "source": [
        "m11"
      ],
      "metadata": {
        "colab": {
          "base_uri": "https://localhost:8080/"
        },
        "id": "b1fsiVtz1cPi",
        "outputId": "9a3f87bf-dbae-487a-8f24-2ef0674a513e"
      },
      "execution_count": null,
      "outputs": [
        {
          "output_type": "execute_result",
          "data": {
            "text/plain": [
              "array([[ 1,  2,  3,  4],\n",
              "       [ 5,  6,  7,  8],\n",
              "       [ 9, 10, 11, 12]])"
            ]
          },
          "metadata": {},
          "execution_count": 136
        }
      ]
    },
    {
      "cell_type": "code",
      "source": [],
      "metadata": {
        "id": "O_JJDM6o1jR6"
      },
      "execution_count": null,
      "outputs": []
    },
    {
      "cell_type": "code",
      "source": [
        "a"
      ],
      "metadata": {
        "colab": {
          "base_uri": "https://localhost:8080/"
        },
        "id": "O3GAjkl01qP5",
        "outputId": "092e2aa3-6079-4885-bc7a-a4722a268c74"
      },
      "execution_count": null,
      "outputs": [
        {
          "output_type": "execute_result",
          "data": {
            "text/plain": [
              "array([[1, 2, 3],\n",
              "       [4, 5, 6],\n",
              "       [7, 8, 9]])"
            ]
          },
          "metadata": {},
          "execution_count": 137
        }
      ]
    },
    {
      "cell_type": "code",
      "source": [
        "# a[::-1] vs a[0::-1] vs a[:0:-1s]"
      ],
      "metadata": {
        "id": "CxQ6gr7x1qiI"
      },
      "execution_count": null,
      "outputs": []
    },
    {
      "cell_type": "code",
      "source": [
        "a=np.arange(1,13)"
      ],
      "metadata": {
        "id": "Rt0LW1DA2N2Y"
      },
      "execution_count": null,
      "outputs": []
    },
    {
      "cell_type": "code",
      "source": [
        "a"
      ],
      "metadata": {
        "colab": {
          "base_uri": "https://localhost:8080/"
        },
        "id": "ZLV3DK3_2Vuf",
        "outputId": "33e54aba-e70b-4769-d130-470d900d050b"
      },
      "execution_count": null,
      "outputs": [
        {
          "output_type": "execute_result",
          "data": {
            "text/plain": [
              "array([ 1,  2,  3,  4,  5,  6,  7,  8,  9, 10, 11, 12])"
            ]
          },
          "metadata": {},
          "execution_count": 140
        }
      ]
    },
    {
      "cell_type": "code",
      "source": [
        "a[::-1]"
      ],
      "metadata": {
        "colab": {
          "base_uri": "https://localhost:8080/"
        },
        "id": "41XDi6F12V7Y",
        "outputId": "dafec898-939d-4a0b-bd74-0a3a3c8fefe4"
      },
      "execution_count": null,
      "outputs": [
        {
          "output_type": "execute_result",
          "data": {
            "text/plain": [
              "array([12, 11, 10,  9,  8,  7,  6,  5,  4,  3,  2,  1])"
            ]
          },
          "metadata": {},
          "execution_count": 141
        }
      ]
    },
    {
      "cell_type": "code",
      "source": [
        "a[0::-1]"
      ],
      "metadata": {
        "colab": {
          "base_uri": "https://localhost:8080/"
        },
        "id": "gVf_zrt42n91",
        "outputId": "f0ac8310-f9a6-4fe7-a161-eb6d9cce2be0"
      },
      "execution_count": null,
      "outputs": [
        {
          "output_type": "execute_result",
          "data": {
            "text/plain": [
              "array([1])"
            ]
          },
          "metadata": {},
          "execution_count": 142
        }
      ]
    },
    {
      "cell_type": "code",
      "source": [
        "a[:0:-1]"
      ],
      "metadata": {
        "colab": {
          "base_uri": "https://localhost:8080/"
        },
        "id": "9yAVCrkJ2qQW",
        "outputId": "81c3f3ee-0e29-4ced-d982-333676f3eed7"
      },
      "execution_count": null,
      "outputs": [
        {
          "output_type": "execute_result",
          "data": {
            "text/plain": [
              "array([12, 11, 10,  9,  8,  7,  6,  5,  4,  3,  2])"
            ]
          },
          "metadata": {},
          "execution_count": 143
        }
      ]
    },
    {
      "cell_type": "code",
      "source": [
        "a = np.array([[23,4,43],\n",
        "              [12,89,3],\n",
        "              [69,420,0]])\n"
      ],
      "metadata": {
        "id": "kS4XW0jq3MV3"
      },
      "execution_count": null,
      "outputs": []
    },
    {
      "cell_type": "code",
      "source": [
        "a[0::-1,:]"
      ],
      "metadata": {
        "colab": {
          "base_uri": "https://localhost:8080/"
        },
        "id": "k5Te7WLK3erC",
        "outputId": "2af766f2-89dc-4854-a51a-ac0499409f4d"
      },
      "execution_count": null,
      "outputs": [
        {
          "output_type": "execute_result",
          "data": {
            "text/plain": [
              "array([[23,  4, 43]])"
            ]
          },
          "metadata": {},
          "execution_count": 145
        }
      ]
    },
    {
      "cell_type": "code",
      "source": [
        "a=np.arange(1,13)\n",
        "a\n"
      ],
      "metadata": {
        "colab": {
          "base_uri": "https://localhost:8080/"
        },
        "id": "rdmTbX9c3jFz",
        "outputId": "5b09aaf8-cb15-4f9e-da49-fe770d48aeee"
      },
      "execution_count": null,
      "outputs": [
        {
          "output_type": "execute_result",
          "data": {
            "text/plain": [
              "array([ 1,  2,  3,  4,  5,  6,  7,  8,  9, 10, 11, 12])"
            ]
          },
          "metadata": {},
          "execution_count": 146
        }
      ]
    },
    {
      "cell_type": "code",
      "source": [
        "a[0::-1]"
      ],
      "metadata": {
        "colab": {
          "base_uri": "https://localhost:8080/"
        },
        "id": "7KqYAT7H3qN7",
        "outputId": "20689618-767d-4b23-d2f1-a7b92f672b4b"
      },
      "execution_count": null,
      "outputs": [
        {
          "output_type": "execute_result",
          "data": {
            "text/plain": [
              "array([1])"
            ]
          },
          "metadata": {},
          "execution_count": 147
        }
      ]
    },
    {
      "cell_type": "code",
      "source": [
        "a[3::-1]"
      ],
      "metadata": {
        "colab": {
          "base_uri": "https://localhost:8080/"
        },
        "id": "vLY0dXpG3uFS",
        "outputId": "d34e8fd3-b6cf-43f5-85e1-659961fd7d06"
      },
      "execution_count": null,
      "outputs": [
        {
          "output_type": "execute_result",
          "data": {
            "text/plain": [
              "array([4, 3, 2, 1])"
            ]
          },
          "metadata": {},
          "execution_count": 148
        }
      ]
    },
    {
      "cell_type": "code",
      "source": [
        "a[:0:-1]"
      ],
      "metadata": {
        "colab": {
          "base_uri": "https://localhost:8080/"
        },
        "id": "11HTDxv932IS",
        "outputId": "05538d38-785b-4e3c-aea9-fc2190bc6c99"
      },
      "execution_count": null,
      "outputs": [
        {
          "output_type": "execute_result",
          "data": {
            "text/plain": [
              "array([12, 11, 10,  9,  8,  7,  6,  5,  4,  3,  2])"
            ]
          },
          "metadata": {},
          "execution_count": 149
        }
      ]
    },
    {
      "cell_type": "code",
      "source": [
        "a = np.array([[23,4,43],\n",
        "              [12,89,3],\n",
        "              [69,420,0]])"
      ],
      "metadata": {
        "id": "TIgNz79l4GqL"
      },
      "execution_count": null,
      "outputs": []
    },
    {
      "cell_type": "code",
      "source": [
        "a[::-1]"
      ],
      "metadata": {
        "colab": {
          "base_uri": "https://localhost:8080/"
        },
        "id": "uyWdlu0A4OK0",
        "outputId": "8707902a-90b0-49f7-a90f-2bce00d5c9b3"
      },
      "execution_count": null,
      "outputs": [
        {
          "output_type": "execute_result",
          "data": {
            "text/plain": [
              "array([[ 69, 420,   0],\n",
              "       [ 12,  89,   3],\n",
              "       [ 23,   4,  43]])"
            ]
          },
          "metadata": {},
          "execution_count": 151
        }
      ]
    },
    {
      "cell_type": "code",
      "source": [],
      "metadata": {
        "id": "T0GDrxVC4QY1"
      },
      "execution_count": null,
      "outputs": []
    },
    {
      "cell_type": "code",
      "source": [],
      "metadata": {
        "id": "MBPiQNeT4qwS"
      },
      "execution_count": null,
      "outputs": []
    },
    {
      "cell_type": "code",
      "source": [],
      "metadata": {
        "id": "p7CAYU7t5BkP"
      },
      "execution_count": null,
      "outputs": []
    }
  ]
}