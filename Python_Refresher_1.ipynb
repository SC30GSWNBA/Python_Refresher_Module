{
  "nbformat": 4,
  "nbformat_minor": 0,
  "metadata": {
    "colab": {
      "name": "Python_Refresher - 1.ipynb",
      "provenance": [],
      "collapsed_sections": []
    },
    "kernelspec": {
      "name": "python3",
      "display_name": "Python 3"
    },
    "language_info": {
      "name": "python"
    }
  },
  "cells": [
    {
      "cell_type": "markdown",
      "source": [
        "#Lecture Content"
      ],
      "metadata": {
        "id": "sWjTTUSUDCxV"
      }
    },
    {
      "cell_type": "markdown",
      "source": [
        "**Features of Python -**\n",
        "1. Interpreted Language\n",
        "2. Dynamically Typed Language\n",
        "3. Global Interpreter Lock\n",
        "4. Great Community Support\n",
        "5. Plethora of Libraries for Different Use\n",
        "6. Easy to Learn"
      ],
      "metadata": {
        "id": "RyWEovFeh7cS"
      }
    },
    {
      "cell_type": "markdown",
      "source": [
        "**print function**"
      ],
      "metadata": {
        "id": "XS-WGWeBjYc8"
      }
    },
    {
      "cell_type": "code",
      "source": [
        "# Prints docstring for print function\n",
        "print?"
      ],
      "metadata": {
        "id": "etQAopKRjLt2"
      },
      "execution_count": null,
      "outputs": []
    },
    {
      "cell_type": "code",
      "source": [
        "print('Hello World!!!') #Printing Strings"
      ],
      "metadata": {
        "colab": {
          "base_uri": "https://localhost:8080/"
        },
        "id": "tnjpJSqljxDb",
        "outputId": "a965b27c-e599-4318-9187-a560db1c224e"
      },
      "execution_count": null,
      "outputs": [
        {
          "output_type": "stream",
          "name": "stdout",
          "text": [
            "Hello World!!!\n"
          ]
        }
      ]
    },
    {
      "cell_type": "code",
      "source": [
        "print(1) #Printing num"
      ],
      "metadata": {
        "colab": {
          "base_uri": "https://localhost:8080/"
        },
        "id": "i-m7XEvek0oi",
        "outputId": "44c28a04-8ad4-4c30-db67-2f3adbdb1f2e"
      },
      "execution_count": null,
      "outputs": [
        {
          "output_type": "stream",
          "name": "stdout",
          "text": [
            "1\n"
          ]
        }
      ]
    },
    {
      "cell_type": "code",
      "source": [
        "print(1.5) #printing floating point numbers"
      ],
      "metadata": {
        "colab": {
          "base_uri": "https://localhost:8080/"
        },
        "id": "F4UDMo7mk4RC",
        "outputId": "cccfa380-4f22-44a7-fda4-f56bfab9a940"
      },
      "execution_count": null,
      "outputs": [
        {
          "output_type": "stream",
          "name": "stdout",
          "text": [
            "1.5\n"
          ]
        }
      ]
    },
    {
      "cell_type": "code",
      "source": [
        "print(\"Welcome to Sudip's World!!!\") #Handling of multiple quotes"
      ],
      "metadata": {
        "colab": {
          "base_uri": "https://localhost:8080/"
        },
        "id": "a9zqy7Z8lBGi",
        "outputId": "08e8a409-5a88-49b9-c130-0a966ff1c298"
      },
      "execution_count": null,
      "outputs": [
        {
          "output_type": "stream",
          "name": "stdout",
          "text": [
            "Welcome to Sudip's World!!!\n"
          ]
        }
      ]
    },
    {
      "cell_type": "markdown",
      "source": [
        "**Computing in Python**"
      ],
      "metadata": {
        "id": "Ontl-E2hjssD"
      }
    },
    {
      "cell_type": "code",
      "source": [
        "1+2"
      ],
      "metadata": {
        "colab": {
          "base_uri": "https://localhost:8080/"
        },
        "id": "40SVXZWrlQQ0",
        "outputId": "f52436e5-fe49-487b-b492-2992e551514a"
      },
      "execution_count": null,
      "outputs": [
        {
          "output_type": "execute_result",
          "data": {
            "text/plain": [
              "3"
            ]
          },
          "metadata": {},
          "execution_count": 6
        }
      ]
    },
    {
      "cell_type": "code",
      "source": [
        "print(1+3)"
      ],
      "metadata": {
        "colab": {
          "base_uri": "https://localhost:8080/"
        },
        "id": "QTvRM70TlRtN",
        "outputId": "71e2535e-646d-43f6-873c-b731c7c00fc6"
      },
      "execution_count": null,
      "outputs": [
        {
          "output_type": "stream",
          "name": "stdout",
          "text": [
            "4\n"
          ]
        }
      ]
    },
    {
      "cell_type": "code",
      "source": [
        "print(\"1+3\")"
      ],
      "metadata": {
        "colab": {
          "base_uri": "https://localhost:8080/"
        },
        "id": "JwGGckIylodD",
        "outputId": "b7fe08ac-1efd-4cba-f644-84446eeeb1c6"
      },
      "execution_count": null,
      "outputs": [
        {
          "output_type": "stream",
          "name": "stdout",
          "text": [
            "1+3\n"
          ]
        }
      ]
    },
    {
      "cell_type": "code",
      "source": [
        "var1 = 10\n",
        "var2 = 21\n",
        "print(var1 + var2)"
      ],
      "metadata": {
        "colab": {
          "base_uri": "https://localhost:8080/"
        },
        "id": "JtrAI_nLlVPq",
        "outputId": "c3c56396-25f7-40dd-ec7c-c867f9f0077c"
      },
      "execution_count": null,
      "outputs": [
        {
          "output_type": "stream",
          "name": "stdout",
          "text": [
            "31\n"
          ]
        }
      ]
    },
    {
      "cell_type": "markdown",
      "source": [
        "**Boolean values**"
      ],
      "metadata": {
        "id": "wf5qJzHPlrxq"
      }
    },
    {
      "cell_type": "code",
      "source": [
        "True #True and False are reserved keywords in Python and are case sensitive"
      ],
      "metadata": {
        "colab": {
          "base_uri": "https://localhost:8080/"
        },
        "id": "MQ-4_cTVluTw",
        "outputId": "b6be93fb-2d82-4d5a-92ea-be90be6f17ec"
      },
      "execution_count": null,
      "outputs": [
        {
          "output_type": "execute_result",
          "data": {
            "text/plain": [
              "True"
            ]
          },
          "metadata": {},
          "execution_count": 10
        }
      ]
    },
    {
      "cell_type": "code",
      "source": [
        "False"
      ],
      "metadata": {
        "colab": {
          "base_uri": "https://localhost:8080/"
        },
        "id": "qF5-ArZXl5qd",
        "outputId": "13c465e7-e0f4-4e49-c552-17fda835cacb"
      },
      "execution_count": null,
      "outputs": [
        {
          "output_type": "execute_result",
          "data": {
            "text/plain": [
              "False"
            ]
          },
          "metadata": {},
          "execution_count": 11
        }
      ]
    },
    {
      "cell_type": "markdown",
      "source": [
        "**Data Types in Python**"
      ],
      "metadata": {
        "id": "iWQ36la0mO5B"
      }
    },
    {
      "cell_type": "code",
      "source": [
        "x = 5\n",
        "type(x)"
      ],
      "metadata": {
        "colab": {
          "base_uri": "https://localhost:8080/"
        },
        "id": "y6m8MepTmRhh",
        "outputId": "8b17deb3-a41d-4822-960f-2237cee123ea"
      },
      "execution_count": null,
      "outputs": [
        {
          "output_type": "execute_result",
          "data": {
            "text/plain": [
              "int"
            ]
          },
          "metadata": {},
          "execution_count": 12
        }
      ]
    },
    {
      "cell_type": "code",
      "source": [
        "x = 1.5\n",
        "type(x)"
      ],
      "metadata": {
        "colab": {
          "base_uri": "https://localhost:8080/"
        },
        "id": "vAouIwrsmVa2",
        "outputId": "4f7669b2-ab9f-4593-9c95-6a9275c0dd7d"
      },
      "execution_count": null,
      "outputs": [
        {
          "output_type": "execute_result",
          "data": {
            "text/plain": [
              "float"
            ]
          },
          "metadata": {},
          "execution_count": 13
        }
      ]
    },
    {
      "cell_type": "code",
      "source": [
        "y = 'Scaler'\n",
        "type(y)"
      ],
      "metadata": {
        "colab": {
          "base_uri": "https://localhost:8080/"
        },
        "id": "n8kI87nWmqtY",
        "outputId": "2349eccf-cf7d-43b6-fb11-e2560526b7cc"
      },
      "execution_count": null,
      "outputs": [
        {
          "output_type": "execute_result",
          "data": {
            "text/plain": [
              "str"
            ]
          },
          "metadata": {},
          "execution_count": 14
        }
      ]
    },
    {
      "cell_type": "markdown",
      "source": [
        "**Memory Allocation in Python**"
      ],
      "metadata": {
        "id": "O22MMbyHmw_4"
      }
    },
    {
      "cell_type": "code",
      "source": [
        "x = 5\n",
        "id(x)"
      ],
      "metadata": {
        "colab": {
          "base_uri": "https://localhost:8080/"
        },
        "id": "WdL5zsGym0rE",
        "outputId": "f02057ab-4849-450f-9694-b1ef12f12d4e"
      },
      "execution_count": null,
      "outputs": [
        {
          "output_type": "execute_result",
          "data": {
            "text/plain": [
              "11256192"
            ]
          },
          "metadata": {},
          "execution_count": 15
        }
      ]
    },
    {
      "cell_type": "code",
      "source": [
        "x = 1.5\n",
        "id(x)"
      ],
      "metadata": {
        "colab": {
          "base_uri": "https://localhost:8080/"
        },
        "id": "RsXVr2B5m8G0",
        "outputId": "aeefbdef-da24-4b34-f0cc-7c01c4e50017"
      },
      "execution_count": null,
      "outputs": [
        {
          "output_type": "execute_result",
          "data": {
            "text/plain": [
              "140362239454544"
            ]
          },
          "metadata": {},
          "execution_count": 16
        }
      ]
    },
    {
      "cell_type": "code",
      "source": [
        "x = 'Scaler'\n",
        "id(x)"
      ],
      "metadata": {
        "colab": {
          "base_uri": "https://localhost:8080/"
        },
        "id": "ERUrgdl-m-ua",
        "outputId": "81b61a70-84ff-4f99-a347-2dad611c50a4"
      },
      "execution_count": null,
      "outputs": [
        {
          "output_type": "execute_result",
          "data": {
            "text/plain": [
              "140362178225904"
            ]
          },
          "metadata": {},
          "execution_count": 17
        }
      ]
    },
    {
      "cell_type": "markdown",
      "source": [
        "**Unpacking in Python**"
      ],
      "metadata": {
        "id": "dTBg_MXDnX_F"
      }
    },
    {
      "cell_type": "code",
      "source": [
        "x,y,z = 1,2,3\n",
        "print(x)\n",
        "print(y)\n",
        "print(z)"
      ],
      "metadata": {
        "colab": {
          "base_uri": "https://localhost:8080/"
        },
        "id": "oaTynRm9naJT",
        "outputId": "c80c8823-469a-4afd-87a1-599d36dac5ec"
      },
      "execution_count": null,
      "outputs": [
        {
          "output_type": "stream",
          "name": "stdout",
          "text": [
            "1\n",
            "2\n",
            "3\n"
          ]
        }
      ]
    },
    {
      "cell_type": "code",
      "source": [
        "x=y=z=2\n",
        "print(x)\n",
        "print(y)\n",
        "print(z)"
      ],
      "metadata": {
        "colab": {
          "base_uri": "https://localhost:8080/"
        },
        "id": "A1aQAMhwoHjW",
        "outputId": "8848dbd4-ab6c-4ab8-c89f-20f6704012e6"
      },
      "execution_count": null,
      "outputs": [
        {
          "output_type": "stream",
          "name": "stdout",
          "text": [
            "2\n",
            "2\n",
            "2\n"
          ]
        }
      ]
    },
    {
      "cell_type": "markdown",
      "source": [
        "**Variable Naming**"
      ],
      "metadata": {
        "id": "A7zMrj-coged"
      }
    },
    {
      "cell_type": "code",
      "source": [
        "# Do not use reserved keywords as variable names, it will throw an error\n",
        "\n",
        "#try = 1 - This line will throw an error"
      ],
      "metadata": {
        "id": "55FJKNOToimS"
      },
      "execution_count": null,
      "outputs": []
    },
    {
      "cell_type": "code",
      "source": [
        "# List of all reseved keywords in Python\n",
        "\n",
        "import keyword\n",
        "keyword.kwlist"
      ],
      "metadata": {
        "colab": {
          "base_uri": "https://localhost:8080/"
        },
        "id": "s1qjZAOSoyCV",
        "outputId": "24a01791-4335-4371-8650-f5daec7ee37b"
      },
      "execution_count": null,
      "outputs": [
        {
          "output_type": "execute_result",
          "data": {
            "text/plain": [
              "['False',\n",
              " 'None',\n",
              " 'True',\n",
              " 'and',\n",
              " 'as',\n",
              " 'assert',\n",
              " 'async',\n",
              " 'await',\n",
              " 'break',\n",
              " 'class',\n",
              " 'continue',\n",
              " 'def',\n",
              " 'del',\n",
              " 'elif',\n",
              " 'else',\n",
              " 'except',\n",
              " 'finally',\n",
              " 'for',\n",
              " 'from',\n",
              " 'global',\n",
              " 'if',\n",
              " 'import',\n",
              " 'in',\n",
              " 'is',\n",
              " 'lambda',\n",
              " 'nonlocal',\n",
              " 'not',\n",
              " 'or',\n",
              " 'pass',\n",
              " 'raise',\n",
              " 'return',\n",
              " 'try',\n",
              " 'while',\n",
              " 'with',\n",
              " 'yield']"
            ]
          },
          "metadata": {},
          "execution_count": 21
        }
      ]
    },
    {
      "cell_type": "markdown",
      "source": [
        "**Operations in Python**"
      ],
      "metadata": {
        "id": "AoItUnFJo_b8"
      }
    },
    {
      "cell_type": "code",
      "source": [
        "# + - % * / //\n",
        "\n",
        "a = 8\n",
        "b = 3\n",
        "\n",
        "print(a+b) #Addition\n",
        "print(a-b) #Subtraction\n",
        "print(a%b) #Remainder\n",
        "print(a/b) #Division\n",
        "print(a//b) #Floor Division\n",
        "print(a*b) #Multiplication\n",
        "print(a**b) #Power\n"
      ],
      "metadata": {
        "colab": {
          "base_uri": "https://localhost:8080/"
        },
        "id": "jxkw43YSpH3G",
        "outputId": "c1039abb-17b4-408d-d479-2e22ab203969"
      },
      "execution_count": null,
      "outputs": [
        {
          "output_type": "stream",
          "name": "stdout",
          "text": [
            "11\n",
            "5\n",
            "2\n",
            "2.6666666666666665\n",
            "2\n",
            "24\n",
            "512\n"
          ]
        }
      ]
    },
    {
      "cell_type": "markdown",
      "source": [
        "**Precision in case of floating point number**"
      ],
      "metadata": {
        "id": "h_u4AUgnqnNR"
      }
    },
    {
      "cell_type": "code",
      "source": [
        "# The answer is approximately equal to 0.3 and exactly equal to 0.3 because python converts the floating point numbers into byte integers\n",
        "# in the form of 010101010.... hence due to precision the answer is not exactly equal to 0.3\n",
        "0.1 + 0.2"
      ],
      "metadata": {
        "colab": {
          "base_uri": "https://localhost:8080/"
        },
        "id": "lUaKyPQpqtlY",
        "outputId": "16fec7d0-b983-420a-e1e4-a7450bfdebbf"
      },
      "execution_count": null,
      "outputs": [
        {
          "output_type": "execute_result",
          "data": {
            "text/plain": [
              "0.30000000000000004"
            ]
          },
          "metadata": {},
          "execution_count": 23
        }
      ]
    },
    {
      "cell_type": "markdown",
      "source": [
        "**Control Flows**"
      ],
      "metadata": {
        "id": "C_ASI_8rrjgY"
      }
    },
    {
      "cell_type": "code",
      "source": [
        "age = 21\n",
        "\n",
        "if age >= 18:\n",
        "  print('The candidate is eligible for voting')\n",
        "else:\n",
        "  print('The candidate is not eligible for voting')"
      ],
      "metadata": {
        "colab": {
          "base_uri": "https://localhost:8080/"
        },
        "id": "kddHg69ArmrC",
        "outputId": "c229f428-5dd7-4930-8e01-4da16862f99e"
      },
      "execution_count": null,
      "outputs": [
        {
          "output_type": "stream",
          "name": "stdout",
          "text": [
            "The candidate is eligible for voting\n"
          ]
        }
      ]
    },
    {
      "cell_type": "code",
      "source": [
        "age = 17\n",
        "\n",
        "if age >= 18:\n",
        "  print('The candidate is eligible for voting')\n",
        "elif age >= 17:\n",
        "  print('The candidate is almost eligible for voting')\n",
        "else:\n",
        "  print('The candidate is not eligible for voting')"
      ],
      "metadata": {
        "colab": {
          "base_uri": "https://localhost:8080/"
        },
        "id": "tRGJiG5ssaT1",
        "outputId": "49d314cc-9b3e-4895-e92d-ff1d0d2ae7e0"
      },
      "execution_count": null,
      "outputs": [
        {
          "output_type": "stream",
          "name": "stdout",
          "text": [
            "The candidate is almost eligible for voting\n"
          ]
        }
      ]
    },
    {
      "cell_type": "code",
      "source": [
        "signal = 'green'\n",
        "action = 'go' if signal == 'green' else 'stop'\n",
        "print(action)"
      ],
      "metadata": {
        "colab": {
          "base_uri": "https://localhost:8080/"
        },
        "id": "gguw_fKZszw5",
        "outputId": "398ec58e-29b1-49e4-e1d0-49e357a8b6ee"
      },
      "execution_count": null,
      "outputs": [
        {
          "output_type": "stream",
          "name": "stdout",
          "text": [
            "go\n"
          ]
        }
      ]
    },
    {
      "cell_type": "code",
      "source": [
        "age = 18\n",
        "result = 'eligible' if age >= 18 else 'ineligible'\n",
        "print(result)"
      ],
      "metadata": {
        "colab": {
          "base_uri": "https://localhost:8080/"
        },
        "id": "X_je-yV2uPUC",
        "outputId": "c1ee7e15-0047-4b1f-950c-ede674024a9a"
      },
      "execution_count": null,
      "outputs": [
        {
          "output_type": "stream",
          "name": "stdout",
          "text": [
            "eligible\n"
          ]
        }
      ]
    },
    {
      "cell_type": "markdown",
      "source": [
        "**What is range function?**"
      ],
      "metadata": {
        "id": "vLxhp1wFu2qY"
      }
    },
    {
      "cell_type": "code",
      "source": [
        "range?"
      ],
      "metadata": {
        "id": "umxrJrFFu5W1"
      },
      "execution_count": null,
      "outputs": []
    },
    {
      "cell_type": "code",
      "source": [
        "list(range(1,10,1)) # range(a,b,c) means include numbers from [a, b-1] in steps of c"
      ],
      "metadata": {
        "colab": {
          "base_uri": "https://localhost:8080/"
        },
        "id": "gRiGGRtcu89l",
        "outputId": "ca1b4412-d1c0-45e7-97a5-feac47711190"
      },
      "execution_count": null,
      "outputs": [
        {
          "output_type": "execute_result",
          "data": {
            "text/plain": [
              "[1, 2, 3, 4, 5, 6, 7, 8, 9]"
            ]
          },
          "metadata": {},
          "execution_count": 29
        }
      ]
    },
    {
      "cell_type": "code",
      "source": [
        "for i in range(5):\n",
        "  print(i)"
      ],
      "metadata": {
        "colab": {
          "base_uri": "https://localhost:8080/"
        },
        "id": "UkWSbz9GvlRr",
        "outputId": "e726a61c-8efd-4537-ec4f-258885676226"
      },
      "execution_count": null,
      "outputs": [
        {
          "output_type": "stream",
          "name": "stdout",
          "text": [
            "0\n",
            "1\n",
            "2\n",
            "3\n",
            "4\n"
          ]
        }
      ]
    },
    {
      "cell_type": "code",
      "source": [
        "for i in range(5, 0, -1):\n",
        "  print(i) #-1 means move in backward direction"
      ],
      "metadata": {
        "colab": {
          "base_uri": "https://localhost:8080/"
        },
        "id": "R_5AS7Dfvs9s",
        "outputId": "db548cb4-c6ff-4963-eba7-122204709821"
      },
      "execution_count": null,
      "outputs": [
        {
          "output_type": "stream",
          "name": "stdout",
          "text": [
            "5\n",
            "4\n",
            "3\n",
            "2\n",
            "1\n"
          ]
        }
      ]
    },
    {
      "cell_type": "markdown",
      "source": [
        "**break statement**"
      ],
      "metadata": {
        "id": "_p552sA_wVWS"
      }
    },
    {
      "cell_type": "code",
      "source": [
        "for i in range(10):\n",
        "  if i == 8:\n",
        "    break\n",
        "  print(i)"
      ],
      "metadata": {
        "colab": {
          "base_uri": "https://localhost:8080/"
        },
        "id": "Eu9_6Fb-wXln",
        "outputId": "b07cd977-82f6-418f-c199-7d8f0fbd9662"
      },
      "execution_count": null,
      "outputs": [
        {
          "output_type": "stream",
          "name": "stdout",
          "text": [
            "0\n",
            "1\n",
            "2\n",
            "3\n",
            "4\n",
            "5\n",
            "6\n",
            "7\n"
          ]
        }
      ]
    },
    {
      "cell_type": "code",
      "source": [
        "for i in range(10):\n",
        "  print(i) #very important to know where to put break statement\n",
        "  if i == 8:\n",
        "    break"
      ],
      "metadata": {
        "colab": {
          "base_uri": "https://localhost:8080/"
        },
        "id": "oCvXs0l6wjGe",
        "outputId": "ab22095a-cf7c-47d2-8b8d-c13bbf84a4fb"
      },
      "execution_count": null,
      "outputs": [
        {
          "output_type": "stream",
          "name": "stdout",
          "text": [
            "0\n",
            "1\n",
            "2\n",
            "3\n",
            "4\n",
            "5\n",
            "6\n",
            "7\n",
            "8\n"
          ]
        }
      ]
    },
    {
      "cell_type": "markdown",
      "source": [
        "**continue statement**"
      ],
      "metadata": {
        "id": "Et8Ub3Ehwodz"
      }
    },
    {
      "cell_type": "code",
      "source": [
        "for i in range(10):\n",
        "  if i == 8:\n",
        "    continue\n",
        "  print(i)"
      ],
      "metadata": {
        "colab": {
          "base_uri": "https://localhost:8080/"
        },
        "id": "MdIA02kJwqTY",
        "outputId": "afcced6f-50ed-42a4-9f38-f95309cc38b3"
      },
      "execution_count": null,
      "outputs": [
        {
          "output_type": "stream",
          "name": "stdout",
          "text": [
            "0\n",
            "1\n",
            "2\n",
            "3\n",
            "4\n",
            "5\n",
            "6\n",
            "7\n",
            "9\n"
          ]
        }
      ]
    },
    {
      "cell_type": "code",
      "source": [
        "for i in range(10):\n",
        "  print(i) # very important to know where to put continue statement\n",
        "  if i == 8:\n",
        "    continue"
      ],
      "metadata": {
        "colab": {
          "base_uri": "https://localhost:8080/"
        },
        "id": "YJCN1RcYwzZb",
        "outputId": "1d6832e0-97a6-4dda-9a08-122f479bb76b"
      },
      "execution_count": null,
      "outputs": [
        {
          "output_type": "stream",
          "name": "stdout",
          "text": [
            "0\n",
            "1\n",
            "2\n",
            "3\n",
            "4\n",
            "5\n",
            "6\n",
            "7\n",
            "8\n",
            "9\n"
          ]
        }
      ]
    },
    {
      "cell_type": "markdown",
      "source": [
        "**pass statement**"
      ],
      "metadata": {
        "id": "aGgQ179exLwM"
      }
    },
    {
      "cell_type": "code",
      "source": [
        "for i in range(10):\n",
        "  pass #We use pass when we dont know what logic to implement or it is just there as a placeholder in functions or control blocks"
      ],
      "metadata": {
        "id": "B9lib4T1xNSV"
      },
      "execution_count": null,
      "outputs": []
    },
    {
      "cell_type": "markdown",
      "source": [
        "**input function**"
      ],
      "metadata": {
        "id": "NN0k49kIxbUR"
      }
    },
    {
      "cell_type": "code",
      "source": [
        "cmd = input('Enter command:')\n",
        "print(cmd)"
      ],
      "metadata": {
        "colab": {
          "base_uri": "https://localhost:8080/"
        },
        "id": "4Nyy-5FZxdOX",
        "outputId": "f1d6c9f4-1701-40c0-ab0b-ad2ab0cff23c"
      },
      "execution_count": null,
      "outputs": [
        {
          "output_type": "stream",
          "name": "stdout",
          "text": [
            "Enter command:ls\n",
            "ls\n"
          ]
        }
      ]
    },
    {
      "cell_type": "markdown",
      "source": [
        "**while loops**"
      ],
      "metadata": {
        "id": "MZYIepPcxvOn"
      }
    },
    {
      "cell_type": "code",
      "source": [
        "i = 1\n",
        "while i <= 10:\n",
        "  print(i)\n",
        "  i +=1"
      ],
      "metadata": {
        "colab": {
          "base_uri": "https://localhost:8080/"
        },
        "id": "OnwLp-uHxxU1",
        "outputId": "cdecb6e3-8946-42c2-db94-749150b52ad1"
      },
      "execution_count": null,
      "outputs": [
        {
          "output_type": "stream",
          "name": "stdout",
          "text": [
            "1\n",
            "2\n",
            "3\n",
            "4\n",
            "5\n",
            "6\n",
            "7\n",
            "8\n",
            "9\n",
            "10\n"
          ]
        }
      ]
    },
    {
      "cell_type": "code",
      "source": [
        "while cmd != 'quit':\n",
        "  print(cmd)\n",
        "  cmd = input('Enter command:')"
      ],
      "metadata": {
        "colab": {
          "base_uri": "https://localhost:8080/"
        },
        "id": "gp7Liakr152B",
        "outputId": "c6c201c8-15aa-4f6c-d78b-0abe20cfd77f"
      },
      "execution_count": null,
      "outputs": [
        {
          "name": "stdout",
          "output_type": "stream",
          "text": [
            "ls\n",
            "Enter command:mkdir\n",
            "mkdir\n",
            "Enter command:quit\n"
          ]
        }
      ]
    },
    {
      "cell_type": "markdown",
      "source": [
        "**functions** - used for reusability of logic"
      ],
      "metadata": {
        "id": "b0pVk0ojySoo"
      }
    },
    {
      "cell_type": "code",
      "source": [
        "def even(nums): #nums is parameter\n",
        "  if nums%2 == 0:\n",
        "    return True\n",
        "  else:\n",
        "    return False\n",
        "\n",
        "    #or\n",
        "\n",
        "def even(nums): #nums is parameter\n",
        "  return nums%2 == 0"
      ],
      "metadata": {
        "id": "OnuZfNpoyXL1"
      },
      "execution_count": null,
      "outputs": []
    },
    {
      "cell_type": "code",
      "source": [
        "arg = 6 #arg is argument passed to even function\n",
        "even(arg)"
      ],
      "metadata": {
        "colab": {
          "base_uri": "https://localhost:8080/"
        },
        "id": "r1hLtOFjy4Pi",
        "outputId": "3ea0ed7a-f370-43e1-fbcb-e3831d8caef2"
      },
      "execution_count": null,
      "outputs": [
        {
          "output_type": "execute_result",
          "data": {
            "text/plain": [
              "True"
            ]
          },
          "metadata": {},
          "execution_count": 44
        }
      ]
    },
    {
      "cell_type": "markdown",
      "source": [
        "### Data Structures"
      ],
      "metadata": {
        "id": "65RLE0Izz9SC"
      }
    },
    {
      "cell_type": "markdown",
      "source": [
        "**Lists**"
      ],
      "metadata": {
        "id": "Q0ObuvHE0GrN"
      }
    },
    {
      "cell_type": "code",
      "source": [
        "marks = [80, 84, 90, 91, 95,'absent']\n",
        "type(marks)"
      ],
      "metadata": {
        "colab": {
          "base_uri": "https://localhost:8080/"
        },
        "id": "YaysCyov0E7i",
        "outputId": "79bf71ff-0805-4bf1-81c4-dd75c1d1f4f5"
      },
      "execution_count": null,
      "outputs": [
        {
          "output_type": "execute_result",
          "data": {
            "text/plain": [
              "list"
            ]
          },
          "metadata": {},
          "execution_count": 45
        }
      ]
    },
    {
      "cell_type": "code",
      "source": [
        "marks[1] #indexing in list"
      ],
      "metadata": {
        "colab": {
          "base_uri": "https://localhost:8080/"
        },
        "id": "vOPWxlOo0sFv",
        "outputId": "745a0036-c774-4708-d018-ae978cb3d921"
      },
      "execution_count": null,
      "outputs": [
        {
          "output_type": "execute_result",
          "data": {
            "text/plain": [
              "84"
            ]
          },
          "metadata": {},
          "execution_count": 46
        }
      ]
    },
    {
      "cell_type": "code",
      "source": [
        "marks[-2] #negative indexing in list"
      ],
      "metadata": {
        "colab": {
          "base_uri": "https://localhost:8080/"
        },
        "id": "bsUs26yk0xMF",
        "outputId": "1b1c1622-7616-40d7-97f5-7bb869cf41dd"
      },
      "execution_count": null,
      "outputs": [
        {
          "output_type": "execute_result",
          "data": {
            "text/plain": [
              "95"
            ]
          },
          "metadata": {},
          "execution_count": 47
        }
      ]
    },
    {
      "cell_type": "code",
      "source": [
        "marks[1:4] #slicing in list"
      ],
      "metadata": {
        "colab": {
          "base_uri": "https://localhost:8080/"
        },
        "id": "98qD17Pd1Sby",
        "outputId": "2d594d12-8c7e-4a04-abb6-82ee3b81c57d"
      },
      "execution_count": null,
      "outputs": [
        {
          "output_type": "execute_result",
          "data": {
            "text/plain": [
              "[84, 90, 91]"
            ]
          },
          "metadata": {},
          "execution_count": 48
        }
      ]
    },
    {
      "cell_type": "code",
      "source": [
        "marks[:] #accesing all elements"
      ],
      "metadata": {
        "colab": {
          "base_uri": "https://localhost:8080/"
        },
        "id": "Mmj48cny1ncR",
        "outputId": "ab84373a-d993-448a-d808-d5953dee2c8a"
      },
      "execution_count": null,
      "outputs": [
        {
          "output_type": "execute_result",
          "data": {
            "text/plain": [
              "[80, 84, 90, 91, 95, 'absent']"
            ]
          },
          "metadata": {},
          "execution_count": 49
        }
      ]
    },
    {
      "cell_type": "code",
      "source": [
        "len(marks)"
      ],
      "metadata": {
        "colab": {
          "base_uri": "https://localhost:8080/"
        },
        "id": "6OCQCpZP2E8L",
        "outputId": "77c477ec-674a-4786-b483-4fa99e748b4d"
      },
      "execution_count": null,
      "outputs": [
        {
          "output_type": "execute_result",
          "data": {
            "text/plain": [
              "6"
            ]
          },
          "metadata": {},
          "execution_count": 50
        }
      ]
    },
    {
      "cell_type": "code",
      "source": [
        "max(marks) #int and str values cannot be compared in lists"
      ],
      "metadata": {
        "colab": {
          "base_uri": "https://localhost:8080/",
          "height": 166
        },
        "id": "P_TfTSTA2GoE",
        "outputId": "388fd562-bfa9-4ac8-d867-5aca67c9d309"
      },
      "execution_count": null,
      "outputs": [
        {
          "output_type": "error",
          "ename": "TypeError",
          "evalue": "ignored",
          "traceback": [
            "\u001b[0;31m---------------------------------------------------------------------------\u001b[0m",
            "\u001b[0;31mTypeError\u001b[0m                                 Traceback (most recent call last)",
            "\u001b[0;32m<ipython-input-51-e9b62b81b60b>\u001b[0m in \u001b[0;36m<module>\u001b[0;34m()\u001b[0m\n\u001b[0;32m----> 1\u001b[0;31m \u001b[0mmax\u001b[0m\u001b[0;34m(\u001b[0m\u001b[0mmarks\u001b[0m\u001b[0;34m)\u001b[0m\u001b[0;34m\u001b[0m\u001b[0;34m\u001b[0m\u001b[0m\n\u001b[0m",
            "\u001b[0;31mTypeError\u001b[0m: '>' not supported between instances of 'str' and 'int'"
          ]
        }
      ]
    },
    {
      "cell_type": "code",
      "source": [
        "min(marks)"
      ],
      "metadata": {
        "colab": {
          "base_uri": "https://localhost:8080/",
          "height": 166
        },
        "id": "AYMAe7682Ita",
        "outputId": "6d6722b0-169a-4238-b748-b4f2532fd080"
      },
      "execution_count": null,
      "outputs": [
        {
          "output_type": "error",
          "ename": "TypeError",
          "evalue": "ignored",
          "traceback": [
            "\u001b[0;31m---------------------------------------------------------------------------\u001b[0m",
            "\u001b[0;31mTypeError\u001b[0m                                 Traceback (most recent call last)",
            "\u001b[0;32m<ipython-input-52-cded6fea1461>\u001b[0m in \u001b[0;36m<module>\u001b[0;34m()\u001b[0m\n\u001b[0;32m----> 1\u001b[0;31m \u001b[0mmin\u001b[0m\u001b[0;34m(\u001b[0m\u001b[0mmarks\u001b[0m\u001b[0;34m)\u001b[0m\u001b[0;34m\u001b[0m\u001b[0;34m\u001b[0m\u001b[0m\n\u001b[0m",
            "\u001b[0;31mTypeError\u001b[0m: '<' not supported between instances of 'str' and 'int'"
          ]
        }
      ]
    },
    {
      "cell_type": "code",
      "source": [
        "marks = [90, 85, 78, 95, 96]"
      ],
      "metadata": {
        "id": "Qwez58ti2ZZ1"
      },
      "execution_count": null,
      "outputs": []
    },
    {
      "cell_type": "code",
      "source": [
        "min(marks)"
      ],
      "metadata": {
        "colab": {
          "base_uri": "https://localhost:8080/"
        },
        "id": "rMAWesGK2gtY",
        "outputId": "cc8d89cf-6e17-4f13-ee76-02d05e4c0133"
      },
      "execution_count": null,
      "outputs": [
        {
          "output_type": "execute_result",
          "data": {
            "text/plain": [
              "78"
            ]
          },
          "metadata": {},
          "execution_count": 54
        }
      ]
    },
    {
      "cell_type": "code",
      "source": [
        "max(marks)"
      ],
      "metadata": {
        "colab": {
          "base_uri": "https://localhost:8080/"
        },
        "id": "fJSEr2cc2iLY",
        "outputId": "1b5df182-eae0-458c-c299-85a49ee92c0a"
      },
      "execution_count": null,
      "outputs": [
        {
          "output_type": "execute_result",
          "data": {
            "text/plain": [
              "96"
            ]
          },
          "metadata": {},
          "execution_count": 55
        }
      ]
    },
    {
      "cell_type": "code",
      "source": [
        "[1,2,3]+[4,5,6] #Concatenation in lists"
      ],
      "metadata": {
        "colab": {
          "base_uri": "https://localhost:8080/"
        },
        "id": "Giv18EaH2nLD",
        "outputId": "0dd1a8e5-fb3b-4f69-8558-7200512c733c"
      },
      "execution_count": null,
      "outputs": [
        {
          "output_type": "execute_result",
          "data": {
            "text/plain": [
              "[1, 2, 3, 4, 5, 6]"
            ]
          },
          "metadata": {},
          "execution_count": 56
        }
      ]
    },
    {
      "cell_type": "code",
      "source": [
        "[1,2,3]*2 #Concatenation in lists"
      ],
      "metadata": {
        "colab": {
          "base_uri": "https://localhost:8080/"
        },
        "id": "fzZMvj392tah",
        "outputId": "c325c524-8407-4071-f07d-3e4bebc50faf"
      },
      "execution_count": null,
      "outputs": [
        {
          "output_type": "execute_result",
          "data": {
            "text/plain": [
              "[1, 2, 3, 1, 2, 3]"
            ]
          },
          "metadata": {},
          "execution_count": 57
        }
      ]
    },
    {
      "cell_type": "code",
      "source": [
        "[1,2,3]*[3,4,5] #multiplication of lists is not possible"
      ],
      "metadata": {
        "colab": {
          "base_uri": "https://localhost:8080/",
          "height": 166
        },
        "id": "6n4G6uRc2z6S",
        "outputId": "d90d2a13-4a60-4579-89a3-19ebf9b3016b"
      },
      "execution_count": null,
      "outputs": [
        {
          "output_type": "error",
          "ename": "TypeError",
          "evalue": "ignored",
          "traceback": [
            "\u001b[0;31m---------------------------------------------------------------------------\u001b[0m",
            "\u001b[0;31mTypeError\u001b[0m                                 Traceback (most recent call last)",
            "\u001b[0;32m<ipython-input-58-8d4ecb29c084>\u001b[0m in \u001b[0;36m<module>\u001b[0;34m()\u001b[0m\n\u001b[0;32m----> 1\u001b[0;31m \u001b[0;34m[\u001b[0m\u001b[0;36m1\u001b[0m\u001b[0;34m,\u001b[0m\u001b[0;36m2\u001b[0m\u001b[0;34m,\u001b[0m\u001b[0;36m3\u001b[0m\u001b[0;34m]\u001b[0m\u001b[0;34m*\u001b[0m\u001b[0;34m[\u001b[0m\u001b[0;36m3\u001b[0m\u001b[0;34m,\u001b[0m\u001b[0;36m4\u001b[0m\u001b[0;34m,\u001b[0m\u001b[0;36m5\u001b[0m\u001b[0;34m]\u001b[0m \u001b[0;31m#multiplication of lists is not possible\u001b[0m\u001b[0;34m\u001b[0m\u001b[0;34m\u001b[0m\u001b[0m\n\u001b[0m",
            "\u001b[0;31mTypeError\u001b[0m: can't multiply sequence by non-int of type 'list'"
          ]
        }
      ]
    },
    {
      "cell_type": "code",
      "source": [
        "result = []\n",
        "for i in marks:\n",
        "  result.append(i*2) #multiplying each element of marks by a constant number\n",
        "\n",
        "result"
      ],
      "metadata": {
        "colab": {
          "base_uri": "https://localhost:8080/"
        },
        "id": "diHg9pif2-q6",
        "outputId": "eb85bde9-49e3-40fa-fcf6-d09e854c8922"
      },
      "execution_count": null,
      "outputs": [
        {
          "output_type": "execute_result",
          "data": {
            "text/plain": [
              "[180, 170, 156, 190, 192]"
            ]
          },
          "metadata": {},
          "execution_count": 62
        }
      ]
    },
    {
      "cell_type": "code",
      "source": [
        "[x*x for x in marks] #list comprehension"
      ],
      "metadata": {
        "colab": {
          "base_uri": "https://localhost:8080/"
        },
        "id": "CPb7KmpM3Vpe",
        "outputId": "edde606c-87ed-43ac-9d7a-08f588c6778c"
      },
      "execution_count": null,
      "outputs": [
        {
          "output_type": "execute_result",
          "data": {
            "text/plain": [
              "[8100, 7225, 6084, 9025, 9216]"
            ]
          },
          "metadata": {},
          "execution_count": 64
        }
      ]
    },
    {
      "cell_type": "code",
      "source": [
        "def func(nums):\n",
        "  y = nums+1\n",
        "  if y%2 == 0:\n",
        "    return y+1\n",
        "  else:\n",
        "    return y-1"
      ],
      "metadata": {
        "id": "YREagQZ43-rg"
      },
      "execution_count": null,
      "outputs": []
    },
    {
      "cell_type": "code",
      "source": [
        "[func(x) for x in marks]"
      ],
      "metadata": {
        "colab": {
          "base_uri": "https://localhost:8080/"
        },
        "id": "sQtpGRi-4Q0f",
        "outputId": "14081172-dfd6-47be-f58b-6de9bfd7c88d"
      },
      "execution_count": null,
      "outputs": [
        {
          "output_type": "execute_result",
          "data": {
            "text/plain": [
              "[90, 87, 78, 97, 96]"
            ]
          },
          "metadata": {},
          "execution_count": 66
        }
      ]
    },
    {
      "cell_type": "code",
      "source": [
        "for i in range(len(marks)):\n",
        "  print(i, marks[i])"
      ],
      "metadata": {
        "colab": {
          "base_uri": "https://localhost:8080/"
        },
        "id": "Gq_HDxxy48jP",
        "outputId": "f11922d1-2497-40eb-f23e-f2a7091c4a48"
      },
      "execution_count": null,
      "outputs": [
        {
          "output_type": "stream",
          "name": "stdout",
          "text": [
            "0 90\n",
            "1 85\n",
            "2 78\n",
            "3 95\n",
            "4 96\n"
          ]
        }
      ]
    },
    {
      "cell_type": "code",
      "source": [
        "#the above operation can be achieved with the help of enumerate\n",
        "\n",
        "for idx, mark in enumerate(marks):\n",
        "  print(idx, mark)"
      ],
      "metadata": {
        "colab": {
          "base_uri": "https://localhost:8080/"
        },
        "id": "-1X4ud7L5EnS",
        "outputId": "5cc43f38-d165-4694-8c93-cc6be6faa428"
      },
      "execution_count": null,
      "outputs": [
        {
          "output_type": "stream",
          "name": "stdout",
          "text": [
            "0 90\n",
            "1 85\n",
            "2 78\n",
            "3 95\n",
            "4 96\n"
          ]
        }
      ]
    },
    {
      "cell_type": "code",
      "source": [
        "list1 = ['a','a','a','a','a']\n",
        "print(''.join(list1)) #joining elements of a list"
      ],
      "metadata": {
        "colab": {
          "base_uri": "https://localhost:8080/"
        },
        "id": "MpL-bqrG5SzL",
        "outputId": "75dce317-df85-4100-ceb9-71d5d95915f3"
      },
      "execution_count": null,
      "outputs": [
        {
          "output_type": "stream",
          "name": "stdout",
          "text": [
            "aaaaa\n"
          ]
        }
      ]
    },
    {
      "cell_type": "markdown",
      "source": [
        "**List Assignment and Memory Allocation - Deep Copy and Shallow Copy**"
      ],
      "metadata": {
        "id": "j7may-QO3FA5"
      }
    },
    {
      "cell_type": "code",
      "source": [
        "a = [10, 20, 30]\n",
        "b = a\n",
        "c = [10, 20, 30]\n",
        "d = list(a)\n",
        "e = a[:]"
      ],
      "metadata": {
        "id": "6PBrq7O15fB_"
      },
      "execution_count": null,
      "outputs": []
    },
    {
      "cell_type": "code",
      "source": [
        "print(a)\n",
        "print(b)\n",
        "print(c)\n",
        "print(d)\n",
        "print(e)"
      ],
      "metadata": {
        "colab": {
          "base_uri": "https://localhost:8080/"
        },
        "id": "pfy3PVtc5r9e",
        "outputId": "7e0cb718-06c8-4d97-98fa-183786663954"
      },
      "execution_count": null,
      "outputs": [
        {
          "output_type": "stream",
          "name": "stdout",
          "text": [
            "[10, 20, 30]\n",
            "[10, 20, 30]\n",
            "[10, 20, 30]\n",
            "[10, 20, 30]\n",
            "[10, 20, 30]\n"
          ]
        }
      ]
    },
    {
      "cell_type": "code",
      "source": [
        "print(a==b)\n",
        "print(a==c)\n",
        "print(a==d)\n",
        "print(a==e) #compares values of variables"
      ],
      "metadata": {
        "colab": {
          "base_uri": "https://localhost:8080/"
        },
        "id": "IHJ8_hdQ5z9T",
        "outputId": "bac24566-92dd-4fb0-b90d-a4746479ad6a"
      },
      "execution_count": null,
      "outputs": [
        {
          "output_type": "stream",
          "name": "stdout",
          "text": [
            "True\n",
            "True\n",
            "True\n",
            "True\n"
          ]
        }
      ]
    },
    {
      "cell_type": "code",
      "source": [
        "print(id(a))\n",
        "print(id(b))\n",
        "print(id(c))\n",
        "print(id(d))\n",
        "print(id(e))"
      ],
      "metadata": {
        "colab": {
          "base_uri": "https://localhost:8080/"
        },
        "id": "LGAcZzaM6KcW",
        "outputId": "5dcc8de4-0535-448e-da03-1689715b0dd5"
      },
      "execution_count": null,
      "outputs": [
        {
          "output_type": "stream",
          "name": "stdout",
          "text": [
            "140362051277280\n",
            "140362051277280\n",
            "140362051083872\n",
            "140362051258800\n",
            "140362093217584\n"
          ]
        }
      ]
    },
    {
      "cell_type": "code",
      "source": [
        "print(a is b)\n",
        "print(a is c)\n",
        "print(a is d)\n",
        "print(a is e) #compares memory address of variables"
      ],
      "metadata": {
        "colab": {
          "base_uri": "https://localhost:8080/"
        },
        "id": "fWm-6Etu6mrm",
        "outputId": "afba5365-baab-4092-cf64-fe33732886e1"
      },
      "execution_count": null,
      "outputs": [
        {
          "output_type": "stream",
          "name": "stdout",
          "text": [
            "True\n",
            "False\n",
            "False\n",
            "False\n"
          ]
        }
      ]
    },
    {
      "cell_type": "markdown",
      "source": [
        "**nested lists**"
      ],
      "metadata": {
        "id": "MH1GfUr47E4w"
      }
    },
    {
      "cell_type": "code",
      "source": [
        "mat = [[1,2],[3,4]]"
      ],
      "metadata": {
        "id": "wpQGb7VA7Hq0"
      },
      "execution_count": null,
      "outputs": []
    },
    {
      "cell_type": "code",
      "source": [
        "mat[0] #accessing lists"
      ],
      "metadata": {
        "colab": {
          "base_uri": "https://localhost:8080/"
        },
        "id": "_1Yj_XOM7N-9",
        "outputId": "c1db24c1-797d-41a9-d768-54732d68cdbb"
      },
      "execution_count": null,
      "outputs": [
        {
          "output_type": "execute_result",
          "data": {
            "text/plain": [
              "[1, 2]"
            ]
          },
          "metadata": {},
          "execution_count": 77
        }
      ]
    },
    {
      "cell_type": "code",
      "source": [
        "mat[1][0] #accessing values within list"
      ],
      "metadata": {
        "colab": {
          "base_uri": "https://localhost:8080/"
        },
        "id": "71YO_q_h7Pas",
        "outputId": "f8d3cccf-1e1a-4395-86dc-928704fcdaa3"
      },
      "execution_count": null,
      "outputs": [
        {
          "output_type": "execute_result",
          "data": {
            "text/plain": [
              "3"
            ]
          },
          "metadata": {},
          "execution_count": 79
        }
      ]
    },
    {
      "cell_type": "markdown",
      "source": [
        "#Post Lecture Content"
      ],
      "metadata": {
        "id": "NHDyaOiHCtFf"
      }
    },
    {
      "cell_type": "markdown",
      "source": [
        "###end parameter\n",
        "Python’s print() function comes with a parameter called end. By default, the value of this parameter is \\n, i.e., the new line character.\n",
        "\n",
        "You can end a print statement with any character/string using this parameter."
      ],
      "metadata": {
        "id": "uH9f_imIDX5E"
      }
    },
    {
      "cell_type": "code",
      "source": [
        "print(\"Hello\", end=\"\")\n",
        "print(\"World\")\n",
        "\n",
        "print(\"Hello\", end=\" \")\n",
        "print(\"World\")"
      ],
      "metadata": {
        "colab": {
          "base_uri": "https://localhost:8080/"
        },
        "id": "X0UCKJJpC9_y",
        "outputId": "8ba9a36b-ae2a-44ce-8e61-49b21f4c6c24"
      },
      "execution_count": null,
      "outputs": [
        {
          "output_type": "stream",
          "name": "stdout",
          "text": [
            "HelloWorld\n",
            "Hello World\n"
          ]
        }
      ]
    },
    {
      "cell_type": "markdown",
      "source": [
        "The value of end is appended to the output and the next print continues from there."
      ],
      "metadata": {
        "id": "ukAOfrlhDm54"
      }
    },
    {
      "cell_type": "code",
      "source": [
        "print(\"Welcome to\" , end = \" \") \n",
        "print(\"Python\", end = \" \")"
      ],
      "metadata": {
        "colab": {
          "base_uri": "https://localhost:8080/"
        },
        "id": "wXkk4yaIDuJz",
        "outputId": "cb85aec5-743f-472a-d567-6b6e41bc5054"
      },
      "execution_count": null,
      "outputs": [
        {
          "output_type": "stream",
          "name": "stdout",
          "text": [
            "Welcome to Python "
          ]
        }
      ]
    },
    {
      "cell_type": "code",
      "source": [
        "# ends the output with a different character '@'\n",
        "print(\"Python\" , end = '@') \n",
        "print(\"DSML\")"
      ],
      "metadata": {
        "colab": {
          "base_uri": "https://localhost:8080/"
        },
        "id": "G12Ie3F6DxUh",
        "outputId": "ce9e9d1b-df30-441a-a636-90ef612d83af"
      },
      "execution_count": null,
      "outputs": [
        {
          "output_type": "stream",
          "name": "stdout",
          "text": [
            "Python@DSML\n"
          ]
        }
      ]
    },
    {
      "cell_type": "markdown",
      "source": [
        "###sep parameter\n",
        "The separator between multiple arguments to print() function in Python is space by default, also known as the softspace feature."
      ],
      "metadata": {
        "id": "DxwdwBpkD3iA"
      }
    },
    {
      "cell_type": "code",
      "source": [
        "print('DSML','for', 'Python', 2022)"
      ],
      "metadata": {
        "colab": {
          "base_uri": "https://localhost:8080/"
        },
        "id": "kfQYb0DWD8jC",
        "outputId": "596f3acf-49ca-403b-8a7b-193b293bf51e"
      },
      "execution_count": null,
      "outputs": [
        {
          "output_type": "stream",
          "name": "stdout",
          "text": [
            "DSML for Python 2022\n"
          ]
        }
      ]
    },
    {
      "cell_type": "markdown",
      "source": [
        "This can also be modified and can be made to any character, integer or string as per our choice. The sep parameter is used to achieve the same."
      ],
      "metadata": {
        "id": "966NtsYAEEYm"
      }
    },
    {
      "cell_type": "code",
      "source": [
        "#code for disabling the softspace feature\n",
        "print('DSML','For','Python', sep='')"
      ],
      "metadata": {
        "colab": {
          "base_uri": "https://localhost:8080/"
        },
        "id": "Vaij_PuVEFhr",
        "outputId": "25875a9c-957d-4054-a69d-d37c05ae14e0"
      },
      "execution_count": null,
      "outputs": [
        {
          "output_type": "stream",
          "name": "stdout",
          "text": [
            "DSMLForPython\n"
          ]
        }
      ]
    },
    {
      "cell_type": "markdown",
      "source": [
        "It is also used for formatting the output strings."
      ],
      "metadata": {
        "id": "GaB-AykNENbY"
      }
    },
    {
      "cell_type": "code",
      "source": [
        "#for formatting a date\n",
        "print('24','02','2022', sep='-')"
      ],
      "metadata": {
        "colab": {
          "base_uri": "https://localhost:8080/"
        },
        "id": "CtE0qSqrEQBk",
        "outputId": "6f08e1c8-56c7-4d47-91fb-6cc5e4eef8a7"
      },
      "execution_count": null,
      "outputs": [
        {
          "output_type": "stream",
          "name": "stdout",
          "text": [
            "24-02-2022\n"
          ]
        }
      ]
    },
    {
      "cell_type": "code",
      "source": [
        "#another example\n",
        "print('Python','DSML', sep='@')"
      ],
      "metadata": {
        "colab": {
          "base_uri": "https://localhost:8080/"
        },
        "id": "x-5avYeJEU5y",
        "outputId": "9a9828c0-746c-4d69-b4e4-fa5b2aec6fe9"
      },
      "execution_count": null,
      "outputs": [
        {
          "output_type": "stream",
          "name": "stdout",
          "text": [
            "Python@DSML\n"
          ]
        }
      ]
    },
    {
      "cell_type": "markdown",
      "source": [
        "The sep parameter when used with the end parameter can produces awesome results.\n",
        "\n",
        "Some examples by combining the sep and end parameters:"
      ],
      "metadata": {
        "id": "LG72MPs1EsYn"
      }
    },
    {
      "cell_type": "code",
      "source": [
        "print('DSML','For', 'Python', sep='', end='')\n",
        "print('DSML')\n",
        "#\\n provides new line after printing the year\n",
        "print('24','02','2022', sep='-', end='\\n')\n",
        " \n",
        "print('Python', end='@')\n",
        "print('DS','ML', sep='')"
      ],
      "metadata": {
        "colab": {
          "base_uri": "https://localhost:8080/"
        },
        "id": "K9td6-M7EtEN",
        "outputId": "e95ce44c-3899-409e-a1a1-9047904dc935"
      },
      "execution_count": null,
      "outputs": [
        {
          "output_type": "stream",
          "name": "stdout",
          "text": [
            "DSMLForPythonDSML\n",
            "24-02-2022\n",
            "Python@DSML\n"
          ]
        }
      ]
    },
    {
      "cell_type": "markdown",
      "source": [
        "**enumerate**"
      ],
      "metadata": {
        "id": "EGWnDZDuE-B_"
      }
    },
    {
      "cell_type": "markdown",
      "source": [
        "Have you ever needed to loop over a list and also needed to know where in the list you were at?\n",
        "Often, when dealing with iterators, you also might need to keep a count of iterations. One thing you could do is you could add a counter that you increment as you loop:"
      ],
      "metadata": {
        "id": "5QAU4ic9FCTV"
      }
    },
    {
      "cell_type": "code",
      "source": [
        "my_string = 'abcdefg'\n",
        "counter = 0\n",
        "for letter in my_string:\n",
        "    print (counter, letter)\n",
        "    counter += 1"
      ],
      "metadata": {
        "colab": {
          "base_uri": "https://localhost:8080/"
        },
        "id": "y_m1VxI_E_fs",
        "outputId": "c597bec9-b39d-431a-cd56-e7b121853a11"
      },
      "execution_count": null,
      "outputs": [
        {
          "output_type": "stream",
          "name": "stdout",
          "text": [
            "0 a\n",
            "1 b\n",
            "2 c\n",
            "3 d\n",
            "4 e\n",
            "5 f\n",
            "6 g\n"
          ]
        }
      ]
    },
    {
      "cell_type": "markdown",
      "source": [
        "As a more simple solution you could use Python’s built-in enumerate() function! Python eases the task by providing enumerate() to keep track of count of iteration automatically.\n",
        "\n",
        "enumerate() method adds a counter to an iterable and returns it in a form of enumerating object.\n",
        "\n",
        "Let’s try it out on a list of strings!"
      ],
      "metadata": {
        "id": "98wy5oHsFKzy"
      }
    },
    {
      "cell_type": "code",
      "source": [
        "l1 = [\"eat\",\"sleep\",\"repeat\"]\n",
        "\n",
        "# creating enumerate objects\n",
        "obj1 = enumerate(l1)\n",
        "\n",
        "print (\"Return type:\",type(obj1))\n",
        "print (list(enumerate(l1)))"
      ],
      "metadata": {
        "colab": {
          "base_uri": "https://localhost:8080/"
        },
        "id": "b3CNGYmDFLl7",
        "outputId": "27a33bd4-6cb5-47fc-b494-39dec3944d02"
      },
      "execution_count": null,
      "outputs": [
        {
          "output_type": "stream",
          "name": "stdout",
          "text": [
            "Return type: <class 'enumerate'>\n",
            "[(0, 'eat'), (1, 'sleep'), (2, 'repeat')]\n"
          ]
        }
      ]
    },
    {
      "cell_type": "markdown",
      "source": [
        "We can also change the start index with enumerate()"
      ],
      "metadata": {
        "id": "PUU05_jOFO94"
      }
    },
    {
      "cell_type": "code",
      "source": [
        "# changing start index to 2 from 0\n",
        "s1 = \"DSML\"\n",
        "obj2 = enumerate(s1)\n",
        "print (list(enumerate(s1,2)))"
      ],
      "metadata": {
        "colab": {
          "base_uri": "https://localhost:8080/"
        },
        "id": "RGsbTu4GFTNr",
        "outputId": "d3eb4a07-b753-4cc5-a61b-74e5e0335acf"
      },
      "execution_count": null,
      "outputs": [
        {
          "output_type": "stream",
          "name": "stdout",
          "text": [
            "[(2, 'D'), (3, 'S'), (4, 'M'), (5, 'L')]\n"
          ]
        }
      ]
    },
    {
      "cell_type": "markdown",
      "source": [
        "This enumerated object can be used directly for loops or converted into a list of tuples using the list() method."
      ],
      "metadata": {
        "id": "_VjPx6DIFbfO"
      }
    },
    {
      "cell_type": "code",
      "source": [
        "l1 = [\"eat\",\"sleep\",\"repeat\"]\n",
        " \n",
        "# printing the tuples in object directly\n",
        "for ele in enumerate(l1):\n",
        "    print(ele)"
      ],
      "metadata": {
        "colab": {
          "base_uri": "https://localhost:8080/"
        },
        "id": "IDoPf-ajFcQ1",
        "outputId": "1918a3e8-dd69-46ee-c6f4-efead3c646ed"
      },
      "execution_count": null,
      "outputs": [
        {
          "output_type": "stream",
          "name": "stdout",
          "text": [
            "(0, 'eat')\n",
            "(1, 'sleep')\n",
            "(2, 'repeat')\n"
          ]
        }
      ]
    },
    {
      "cell_type": "code",
      "source": [
        "# changing index and printing separately\n",
        "for count,ele in enumerate(l1,100):\n",
        "    print (count,ele)"
      ],
      "metadata": {
        "colab": {
          "base_uri": "https://localhost:8080/"
        },
        "id": "9oa4-gsZFi6e",
        "outputId": "190756b7-3fba-43dc-cdbb-ef2caa46982e"
      },
      "execution_count": null,
      "outputs": [
        {
          "output_type": "stream",
          "name": "stdout",
          "text": [
            "100 eat\n",
            "101 sleep\n",
            "102 repeat\n"
          ]
        }
      ]
    },
    {
      "cell_type": "code",
      "source": [
        "#getting desired output from tuple\n",
        "for count,ele in enumerate(l1):\n",
        "  print(count)\n",
        "  print(ele)"
      ],
      "metadata": {
        "colab": {
          "base_uri": "https://localhost:8080/"
        },
        "id": "qpw6DYZoFmZd",
        "outputId": "cfd78a28-1aeb-4690-d835-8aba3ec495e2"
      },
      "execution_count": null,
      "outputs": [
        {
          "output_type": "stream",
          "name": "stdout",
          "text": [
            "0\n",
            "eat\n",
            "1\n",
            "sleep\n",
            "2\n",
            "repeat\n"
          ]
        }
      ]
    },
    {
      "cell_type": "markdown",
      "source": [
        "**eval**\n",
        "\n",
        "Python eval() function parse the expression argument and evaluate it as a python expression.\n",
        "\n",
        "It runs python expression (code) within the program."
      ],
      "metadata": {
        "id": "ndJSgieHF2ON"
      }
    },
    {
      "cell_type": "code",
      "source": [
        "var = 10 # int\n",
        "source = 'var * 2' # string\n",
        "print (eval(source)) # eval() evaluates the string as a numeric expression"
      ],
      "metadata": {
        "colab": {
          "base_uri": "https://localhost:8080/"
        },
        "id": "5krHMACSGBOo",
        "outputId": "0601621a-6bfc-4081-e801-b2aca610301f"
      },
      "execution_count": null,
      "outputs": [
        {
          "output_type": "stream",
          "name": "stdout",
          "text": [
            "20\n"
          ]
        }
      ]
    },
    {
      "cell_type": "markdown",
      "source": [
        "The eval built-in is fairly controversial in the Python community. The reason for this is that eval accepts strings and basically runs them.\n",
        "\n",
        "If you were to allow users to input any string to be parsed and evaluated by eval, then you just created a major security breach.\n",
        "\n",
        "However, if the code that uses eval cannot be interacted with by the user and only by the developer, then it is okay to use. Some will argue that it’s still not safe."
      ],
      "metadata": {
        "id": "bqn3CC_7GHJw"
      }
    },
    {
      "cell_type": "code",
      "source": [
        "evaluate = 'x*(x+1)*(x+2)'\n",
        "print(evaluate)\n",
        "print(type(evaluate))\n",
        " \n",
        "x = 3\n",
        "print(x)\n",
        "print(type(x))\n",
        " \n",
        "expression = eval(evaluate)\n",
        "print(expression)\n",
        "print(type(expression))"
      ],
      "metadata": {
        "colab": {
          "base_uri": "https://localhost:8080/"
        },
        "id": "Exp760x-GH9P",
        "outputId": "c62889ae-94ab-47d0-f0b0-bf42ea93210e"
      },
      "execution_count": null,
      "outputs": [
        {
          "output_type": "stream",
          "name": "stdout",
          "text": [
            "x*(x+1)*(x+2)\n",
            "<class 'str'>\n",
            "3\n",
            "<class 'int'>\n",
            "60\n",
            "<class 'int'>\n"
          ]
        }
      ]
    },
    {
      "cell_type": "markdown",
      "source": [
        "### There are some pending items which can be read from -"
      ],
      "metadata": {
        "id": "ZLs2HpWbHooo"
      }
    },
    {
      "cell_type": "markdown",
      "source": [
        "**https://hackmd.io/@scaler-topics-main/S1-fbJ8z9**"
      ],
      "metadata": {
        "id": "KeO4HozOHeoi"
      }
    }
  ]
}